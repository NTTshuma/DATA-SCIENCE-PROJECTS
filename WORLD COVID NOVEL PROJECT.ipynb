{
 "cells": [
  {
   "cell_type": "markdown",
   "metadata": {},
   "source": [
    "# WORLD COVID NOVEL#"
   ]
  },
  {
   "cell_type": "code",
   "execution_count": 1,
   "metadata": {},
   "outputs": [],
   "source": [
    "#LIBRARIES\n",
    "\n",
    "#Visualisation\n",
    "import matplotlib.pyplot as plt\n",
    "from matplotlib.pyplot import figure\n",
    "from mpl_toolkits.basemap import Basemap\n",
    "import requests\n",
    "import matplotlib.image as mpimg\n",
    "import seaborn as sns\n",
    "%matplotlib inline\n",
    "import plotly.express as px\n",
    "import plotly.graph_objs as go\n",
    "import calmap\n",
    "import folium\n",
    "import geopandas as gpd\n",
    "import geoplot as gplt\n",
    "import geoplot.crs as gcrs\n",
    "\n",
    "\n",
    "#Numerical Calculations\n",
    "from scipy.stats import mode\n",
    "import random\n",
    "import numpy as np \n",
    "import pandas as pd\n",
    "import re\n",
    "\n",
    "# Time\n",
    "import time\n",
    "import datetime\n",
    "from time import gmtime, strftime\n",
    "from pytz import timezone\n",
    "\n"
   ]
  },
  {
   "cell_type": "code",
   "execution_count": 2,
   "metadata": {},
   "outputs": [
    {
     "name": "stdout",
     "output_type": "stream",
     "text": [
      "Africa/Mbabane : Tue, 31 March 2020 17:58:47 \n"
     ]
    }
   ],
   "source": [
    "#TIME\n",
    "\n",
    "fmt = \"%a, %d %B %Y %H:%M:%S %Z%z\"\n",
    "pacific = timezone('Africa/Mbabane')\n",
    "loc_dt = datetime.datetime.now()\n",
    "print(\"Africa/Mbabane\" + \" : \" + loc_dt.strftime(fmt))"
   ]
  },
  {
   "cell_type": "code",
   "execution_count": 5,
   "metadata": {},
   "outputs": [],
   "source": [
    "#READING DATA\n",
    "\n",
    "confirmed_df = pd.read_csv('https://raw.githubusercontent.com/CSSEGISandData/COVID-19/master/csse_covid_19_data/csse_covid_19_time_series/time_series_covid19_confirmed_global.csv')\n",
    "deaths_df = pd.read_csv('https://raw.githubusercontent.com/CSSEGISandData/COVID-19/master/csse_covid_19_data/csse_covid_19_time_series/time_series_covid19_deaths_global.csv')\n",
    "recovered_df = pd.read_csv('https://raw.githubusercontent.com/CSSEGISandData/COVID-19/master/csse_covid_19_data/csse_covid_19_time_series/time_series_covid19_recovered_global.csv')\n"
   ]
  },
  {
   "cell_type": "code",
   "execution_count": 6,
   "metadata": {},
   "outputs": [
    {
     "data": {
      "text/html": [
       "<div>\n",
       "<style scoped>\n",
       "    .dataframe tbody tr th:only-of-type {\n",
       "        vertical-align: middle;\n",
       "    }\n",
       "\n",
       "    .dataframe tbody tr th {\n",
       "        vertical-align: top;\n",
       "    }\n",
       "\n",
       "    .dataframe thead th {\n",
       "        text-align: right;\n",
       "    }\n",
       "</style>\n",
       "<table border=\"1\" class=\"dataframe\">\n",
       "  <thead>\n",
       "    <tr style=\"text-align: right;\">\n",
       "      <th></th>\n",
       "      <th>Province/State_x</th>\n",
       "      <th>Country/Region</th>\n",
       "      <th>Lat_x</th>\n",
       "      <th>Long_x</th>\n",
       "      <th>1/22/20_x</th>\n",
       "      <th>1/23/20_x</th>\n",
       "      <th>1/24/20_x</th>\n",
       "      <th>1/25/20_x</th>\n",
       "      <th>1/26/20_x</th>\n",
       "      <th>1/27/20_x</th>\n",
       "      <th>...</th>\n",
       "      <th>3/21/20_y</th>\n",
       "      <th>3/22/20_y</th>\n",
       "      <th>3/23/20_y</th>\n",
       "      <th>3/24/20_y</th>\n",
       "      <th>3/25/20_y</th>\n",
       "      <th>3/26/20_y</th>\n",
       "      <th>3/27/20_y</th>\n",
       "      <th>3/28/20_y</th>\n",
       "      <th>3/29/20_y</th>\n",
       "      <th>3/30/20_y</th>\n",
       "    </tr>\n",
       "  </thead>\n",
       "  <tbody>\n",
       "    <tr>\n",
       "      <td>0</td>\n",
       "      <td>NaN</td>\n",
       "      <td>Afghanistan</td>\n",
       "      <td>33.0000</td>\n",
       "      <td>65.0000</td>\n",
       "      <td>0</td>\n",
       "      <td>0</td>\n",
       "      <td>0</td>\n",
       "      <td>0</td>\n",
       "      <td>0</td>\n",
       "      <td>0</td>\n",
       "      <td>...</td>\n",
       "      <td>0</td>\n",
       "      <td>1</td>\n",
       "      <td>1</td>\n",
       "      <td>1</td>\n",
       "      <td>2</td>\n",
       "      <td>4</td>\n",
       "      <td>4</td>\n",
       "      <td>4</td>\n",
       "      <td>4</td>\n",
       "      <td>4</td>\n",
       "    </tr>\n",
       "    <tr>\n",
       "      <td>1</td>\n",
       "      <td>NaN</td>\n",
       "      <td>Albania</td>\n",
       "      <td>41.1533</td>\n",
       "      <td>20.1683</td>\n",
       "      <td>0</td>\n",
       "      <td>0</td>\n",
       "      <td>0</td>\n",
       "      <td>0</td>\n",
       "      <td>0</td>\n",
       "      <td>0</td>\n",
       "      <td>...</td>\n",
       "      <td>2</td>\n",
       "      <td>2</td>\n",
       "      <td>4</td>\n",
       "      <td>5</td>\n",
       "      <td>5</td>\n",
       "      <td>6</td>\n",
       "      <td>8</td>\n",
       "      <td>10</td>\n",
       "      <td>10</td>\n",
       "      <td>11</td>\n",
       "    </tr>\n",
       "    <tr>\n",
       "      <td>2</td>\n",
       "      <td>NaN</td>\n",
       "      <td>Algeria</td>\n",
       "      <td>28.0339</td>\n",
       "      <td>1.6596</td>\n",
       "      <td>0</td>\n",
       "      <td>0</td>\n",
       "      <td>0</td>\n",
       "      <td>0</td>\n",
       "      <td>0</td>\n",
       "      <td>0</td>\n",
       "      <td>...</td>\n",
       "      <td>15</td>\n",
       "      <td>17</td>\n",
       "      <td>17</td>\n",
       "      <td>19</td>\n",
       "      <td>21</td>\n",
       "      <td>25</td>\n",
       "      <td>26</td>\n",
       "      <td>29</td>\n",
       "      <td>31</td>\n",
       "      <td>35</td>\n",
       "    </tr>\n",
       "    <tr>\n",
       "      <td>3</td>\n",
       "      <td>NaN</td>\n",
       "      <td>Andorra</td>\n",
       "      <td>42.5063</td>\n",
       "      <td>1.5218</td>\n",
       "      <td>0</td>\n",
       "      <td>0</td>\n",
       "      <td>0</td>\n",
       "      <td>0</td>\n",
       "      <td>0</td>\n",
       "      <td>0</td>\n",
       "      <td>...</td>\n",
       "      <td>0</td>\n",
       "      <td>1</td>\n",
       "      <td>1</td>\n",
       "      <td>1</td>\n",
       "      <td>1</td>\n",
       "      <td>3</td>\n",
       "      <td>3</td>\n",
       "      <td>3</td>\n",
       "      <td>6</td>\n",
       "      <td>8</td>\n",
       "    </tr>\n",
       "    <tr>\n",
       "      <td>4</td>\n",
       "      <td>NaN</td>\n",
       "      <td>Angola</td>\n",
       "      <td>-11.2027</td>\n",
       "      <td>17.8739</td>\n",
       "      <td>0</td>\n",
       "      <td>0</td>\n",
       "      <td>0</td>\n",
       "      <td>0</td>\n",
       "      <td>0</td>\n",
       "      <td>0</td>\n",
       "      <td>...</td>\n",
       "      <td>0</td>\n",
       "      <td>0</td>\n",
       "      <td>0</td>\n",
       "      <td>0</td>\n",
       "      <td>0</td>\n",
       "      <td>0</td>\n",
       "      <td>0</td>\n",
       "      <td>0</td>\n",
       "      <td>2</td>\n",
       "      <td>2</td>\n",
       "    </tr>\n",
       "  </tbody>\n",
       "</table>\n",
       "<p>5 rows × 145 columns</p>\n",
       "</div>"
      ],
      "text/plain": [
       "  Province/State_x Country/Region    Lat_x   Long_x  1/22/20_x  1/23/20_x  \\\n",
       "0              NaN    Afghanistan  33.0000  65.0000          0          0   \n",
       "1              NaN        Albania  41.1533  20.1683          0          0   \n",
       "2              NaN        Algeria  28.0339   1.6596          0          0   \n",
       "3              NaN        Andorra  42.5063   1.5218          0          0   \n",
       "4              NaN         Angola -11.2027  17.8739          0          0   \n",
       "\n",
       "   1/24/20_x  1/25/20_x  1/26/20_x  1/27/20_x  ...  3/21/20_y  3/22/20_y  \\\n",
       "0          0          0          0          0  ...          0          1   \n",
       "1          0          0          0          0  ...          2          2   \n",
       "2          0          0          0          0  ...         15         17   \n",
       "3          0          0          0          0  ...          0          1   \n",
       "4          0          0          0          0  ...          0          0   \n",
       "\n",
       "   3/23/20_y  3/24/20_y  3/25/20_y  3/26/20_y  3/27/20_y  3/28/20_y  \\\n",
       "0          1          1          2          4          4          4   \n",
       "1          4          5          5          6          8         10   \n",
       "2         17         19         21         25         26         29   \n",
       "3          1          1          1          3          3          3   \n",
       "4          0          0          0          0          0          0   \n",
       "\n",
       "   3/29/20_y  3/30/20_y  \n",
       "0          4          4  \n",
       "1         10         11  \n",
       "2         31         35  \n",
       "3          6          8  \n",
       "4          2          2  \n",
       "\n",
       "[5 rows x 145 columns]"
      ]
     },
     "execution_count": 6,
     "metadata": {},
     "output_type": "execute_result"
    }
   ],
   "source": [
    "merged_dataset = confirmed_df.merge(deaths_df, on=\"Country/Region\")\n",
    "merged_dataset.head()"
   ]
  },
  {
   "cell_type": "code",
   "execution_count": 7,
   "metadata": {},
   "outputs": [],
   "source": [
    "datePattern = re.compile(\"(\\d{1,2}\\/\\d{1,2}\\/\\d{2,4})\")  #pattern like 1/22/20\n",
    "cols_to_keep = [ col for col in confirmed_df.columns if bool(re.match(datePattern, col)) ] +  ['Country/Region']\n",
    "\n"
   ]
  },
  {
   "cell_type": "code",
   "execution_count": 8,
   "metadata": {},
   "outputs": [
    {
     "name": "stdout",
     "output_type": "stream",
     "text": [
      "  Country/Region  1/22/20  1/23/20  1/24/20  1/25/20  1/26/20  1/27/20  \\\n",
      "0    Afghanistan        0        0        0        0        0        0   \n",
      "1        Albania        0        0        0        0        0        0   \n",
      "2        Algeria        0        0        0        0        0        0   \n",
      "3        Andorra        0        0        0        0        0        0   \n",
      "4         Angola        0        0        0        0        0        0   \n",
      "\n",
      "   1/28/20  1/29/20  1/30/20  ...  3/21/20  3/22/20  3/23/20  3/24/20  \\\n",
      "0        0        0        0  ...       24       40       40       74   \n",
      "1        0        0        0  ...       76       89      104      123   \n",
      "2        0        0        0  ...      139      201      230      264   \n",
      "3        0        0        0  ...       88      113      133      164   \n",
      "4        0        0        0  ...        2        2        3        3   \n",
      "\n",
      "   3/25/20  3/26/20  3/27/20  3/28/20  3/29/20  3/30/20  \n",
      "0       84       94      110      110      120      170  \n",
      "1      146      174      186      197      212      223  \n",
      "2      302      367      409      454      511      584  \n",
      "3      188      224      267      308      334      370  \n",
      "4        3        4        4        5        7        7  \n",
      "\n",
      "[5 rows x 70 columns]\n"
     ]
    }
   ],
   "source": [
    "confirmed_df_sum = confirmed_df[cols_to_keep].groupby(['Country/Region']).sum().reset_index(drop=False)\n",
    "print (confirmed_df_sum.head())\n"
   ]
  },
  {
   "cell_type": "code",
   "execution_count": 9,
   "metadata": {},
   "outputs": [
    {
     "name": "stdout",
     "output_type": "stream",
     "text": [
      "  Country/Region  1/22/20  1/23/20  1/24/20  1/25/20  1/26/20  1/27/20  \\\n",
      "0    Afghanistan        0        0        0        0        0        0   \n",
      "1        Albania        0        0        0        0        0        0   \n",
      "2        Algeria        0        0        0        0        0        0   \n",
      "3        Andorra        0        0        0        0        0        0   \n",
      "4         Angola        0        0        0        0        0        0   \n",
      "\n",
      "   1/28/20  1/29/20  1/30/20  ...  3/21/20  3/22/20  3/23/20  3/24/20  \\\n",
      "0        0        0        0  ...        0        1        1        1   \n",
      "1        0        0        0  ...        2        2        4        5   \n",
      "2        0        0        0  ...       15       17       17       19   \n",
      "3        0        0        0  ...        0        1        1        1   \n",
      "4        0        0        0  ...        0        0        0        0   \n",
      "\n",
      "   3/25/20  3/26/20  3/27/20  3/28/20  3/29/20  3/30/20  \n",
      "0        2        4        4        4        4        4  \n",
      "1        5        6        8       10       10       11  \n",
      "2       21       25       26       29       31       35  \n",
      "3        1        3        3        3        6        8  \n",
      "4        0        0        0        0        2        2  \n",
      "\n",
      "[5 rows x 70 columns]\n"
     ]
    }
   ],
   "source": [
    "deaths_df_sum = deaths_df[cols_to_keep].groupby(['Country/Region']).sum().reset_index(drop=False)\n",
    "print (deaths_df_sum.head())"
   ]
  },
  {
   "cell_type": "code",
   "execution_count": 10,
   "metadata": {},
   "outputs": [
    {
     "name": "stdout",
     "output_type": "stream",
     "text": [
      "         Country/Region  3/30/20\n",
      "0           Afghanistan        4\n",
      "1               Albania       11\n",
      "2               Algeria       35\n",
      "3               Andorra        8\n",
      "4                Angola        2\n",
      "..                  ...      ...\n",
      "173           Venezuela        3\n",
      "174             Vietnam        0\n",
      "175  West Bank and Gaza        1\n",
      "176              Zambia        0\n",
      "177            Zimbabwe        1\n",
      "\n",
      "[178 rows x 2 columns]\n"
     ]
    }
   ],
   "source": [
    "# Pull column by index\n",
    "# Select all rows, and 1st and last column\n",
    "deaths_subset_df = deaths_df_sum.iloc[:,[ 0,-1]]\n",
    "\n",
    "print (deaths_subset_df)"
   ]
  },
  {
   "cell_type": "code",
   "execution_count": 11,
   "metadata": {},
   "outputs": [
    {
     "name": "stdout",
     "output_type": "stream",
     "text": [
      "  Country/Region  1/22/20  1/23/20  1/24/20  1/25/20  1/26/20  1/27/20  \\\n",
      "0    Afghanistan        0        0        0        0        0        0   \n",
      "1        Albania        0        0        0        0        0        0   \n",
      "2        Algeria        0        0        0        0        0        0   \n",
      "3        Andorra        0        0        0        0        0        0   \n",
      "4         Angola        0        0        0        0        0        0   \n",
      "\n",
      "   1/28/20  1/29/20  1/30/20  ...  3/21/20  3/22/20  3/23/20  3/24/20  \\\n",
      "0        0        0        0  ...        1        1        1        1   \n",
      "1        0        0        0  ...        2        2        2       10   \n",
      "2        0        0        0  ...       32       65       65       24   \n",
      "3        0        0        0  ...        1        1        1        1   \n",
      "4        0        0        0  ...        0        0        0        0   \n",
      "\n",
      "   3/25/20  3/26/20  3/27/20  3/28/20  3/29/20  3/30/20  \n",
      "0        2        2        2        2        2        2  \n",
      "1       17       17       31       31       33       44  \n",
      "2       65       29       29       31       31       37  \n",
      "3        1        1        1        1        1       10  \n",
      "4        0        0        0        0        0        0  \n",
      "\n",
      "[5 rows x 70 columns]\n"
     ]
    }
   ],
   "source": [
    "recovered_df_sum = recovered_df[cols_to_keep].groupby(['Country/Region']).sum().reset_index(drop=False)\n",
    "print (recovered_df_sum.head())"
   ]
  },
  {
   "cell_type": "code",
   "execution_count": 12,
   "metadata": {},
   "outputs": [
    {
     "data": {
      "text/html": [
       "<div>\n",
       "<style scoped>\n",
       "    .dataframe tbody tr th:only-of-type {\n",
       "        vertical-align: middle;\n",
       "    }\n",
       "\n",
       "    .dataframe tbody tr th {\n",
       "        vertical-align: top;\n",
       "    }\n",
       "\n",
       "    .dataframe thead th {\n",
       "        text-align: right;\n",
       "    }\n",
       "</style>\n",
       "<table border=\"1\" class=\"dataframe\">\n",
       "  <thead>\n",
       "    <tr style=\"text-align: right;\">\n",
       "      <th></th>\n",
       "      <th>Country/Region</th>\n",
       "      <th>Confirmed</th>\n",
       "      <th>Recovered</th>\n",
       "      <th>Deaths</th>\n",
       "    </tr>\n",
       "  </thead>\n",
       "  <tbody>\n",
       "    <tr>\n",
       "      <td>0</td>\n",
       "      <td>Afghanistan</td>\n",
       "      <td>170</td>\n",
       "      <td>2</td>\n",
       "      <td>4</td>\n",
       "    </tr>\n",
       "    <tr>\n",
       "      <td>1</td>\n",
       "      <td>Albania</td>\n",
       "      <td>223</td>\n",
       "      <td>44</td>\n",
       "      <td>11</td>\n",
       "    </tr>\n",
       "    <tr>\n",
       "      <td>2</td>\n",
       "      <td>Algeria</td>\n",
       "      <td>584</td>\n",
       "      <td>37</td>\n",
       "      <td>35</td>\n",
       "    </tr>\n",
       "    <tr>\n",
       "      <td>3</td>\n",
       "      <td>Andorra</td>\n",
       "      <td>370</td>\n",
       "      <td>10</td>\n",
       "      <td>8</td>\n",
       "    </tr>\n",
       "    <tr>\n",
       "      <td>4</td>\n",
       "      <td>Angola</td>\n",
       "      <td>7</td>\n",
       "      <td>0</td>\n",
       "      <td>2</td>\n",
       "    </tr>\n",
       "  </tbody>\n",
       "</table>\n",
       "</div>"
      ],
      "text/plain": [
       "  Country/Region  Confirmed  Recovered  Deaths\n",
       "0    Afghanistan        170          2       4\n",
       "1        Albania        223         44      11\n",
       "2        Algeria        584         37      35\n",
       "3        Andorra        370         10       8\n",
       "4         Angola          7          0       2"
      ]
     },
     "execution_count": 12,
     "metadata": {},
     "output_type": "execute_result"
    }
   ],
   "source": [
    "full_df = confirmed_df_sum.iloc[:,[ 0,-1]].merge(recovered_df_sum.iloc[:,[ 0,-1]], how='outer', on='Country/Region' )\n",
    "\n",
    "full_df = full_df.merge(deaths_df_sum.iloc[:,[ 0,-1]], how='outer', on='Country/Region' ) \n",
    "\n",
    "full_df.columns = ['Country/Region', 'Confirmed', 'Recovered', 'Deaths']\n",
    "\n",
    "\n",
    "full_df.head()"
   ]
  },
  {
   "cell_type": "code",
   "execution_count": 13,
   "metadata": {},
   "outputs": [
    {
     "data": {
      "text/html": [
       "<div>\n",
       "<style scoped>\n",
       "    .dataframe tbody tr th:only-of-type {\n",
       "        vertical-align: middle;\n",
       "    }\n",
       "\n",
       "    .dataframe tbody tr th {\n",
       "        vertical-align: top;\n",
       "    }\n",
       "\n",
       "    .dataframe thead th {\n",
       "        text-align: right;\n",
       "    }\n",
       "</style>\n",
       "<table border=\"1\" class=\"dataframe\">\n",
       "  <thead>\n",
       "    <tr style=\"text-align: right;\">\n",
       "      <th></th>\n",
       "      <th>Country/Region</th>\n",
       "      <th>Confirmed</th>\n",
       "      <th>Recovered</th>\n",
       "      <th>Deaths</th>\n",
       "      <th>Total</th>\n",
       "    </tr>\n",
       "  </thead>\n",
       "  <tbody>\n",
       "    <tr>\n",
       "      <td>0</td>\n",
       "      <td>Afghanistan</td>\n",
       "      <td>170</td>\n",
       "      <td>2</td>\n",
       "      <td>4</td>\n",
       "      <td>176</td>\n",
       "    </tr>\n",
       "    <tr>\n",
       "      <td>1</td>\n",
       "      <td>Albania</td>\n",
       "      <td>223</td>\n",
       "      <td>44</td>\n",
       "      <td>11</td>\n",
       "      <td>278</td>\n",
       "    </tr>\n",
       "    <tr>\n",
       "      <td>2</td>\n",
       "      <td>Algeria</td>\n",
       "      <td>584</td>\n",
       "      <td>37</td>\n",
       "      <td>35</td>\n",
       "      <td>656</td>\n",
       "    </tr>\n",
       "    <tr>\n",
       "      <td>3</td>\n",
       "      <td>Andorra</td>\n",
       "      <td>370</td>\n",
       "      <td>10</td>\n",
       "      <td>8</td>\n",
       "      <td>388</td>\n",
       "    </tr>\n",
       "    <tr>\n",
       "      <td>4</td>\n",
       "      <td>Angola</td>\n",
       "      <td>7</td>\n",
       "      <td>0</td>\n",
       "      <td>2</td>\n",
       "      <td>9</td>\n",
       "    </tr>\n",
       "  </tbody>\n",
       "</table>\n",
       "</div>"
      ],
      "text/plain": [
       "  Country/Region  Confirmed  Recovered  Deaths  Total\n",
       "0    Afghanistan        170          2       4    176\n",
       "1        Albania        223         44      11    278\n",
       "2        Algeria        584         37      35    656\n",
       "3        Andorra        370         10       8    388\n",
       "4         Angola          7          0       2      9"
      ]
     },
     "execution_count": 13,
     "metadata": {},
     "output_type": "execute_result"
    }
   ],
   "source": [
    "full_df['Total'] = full_df.sum(axis=1)\n",
    "\n",
    "full_df.head(5)"
   ]
  },
  {
   "cell_type": "code",
   "execution_count": 14,
   "metadata": {},
   "outputs": [
    {
     "data": {
      "text/html": [
       "<div>\n",
       "<style scoped>\n",
       "    .dataframe tbody tr th:only-of-type {\n",
       "        vertical-align: middle;\n",
       "    }\n",
       "\n",
       "    .dataframe tbody tr th {\n",
       "        vertical-align: top;\n",
       "    }\n",
       "\n",
       "    .dataframe thead th {\n",
       "        text-align: right;\n",
       "    }\n",
       "</style>\n",
       "<table border=\"1\" class=\"dataframe\">\n",
       "  <thead>\n",
       "    <tr style=\"text-align: right;\">\n",
       "      <th></th>\n",
       "      <th>Country/Region</th>\n",
       "      <th>1/22/20</th>\n",
       "      <th>1/23/20</th>\n",
       "      <th>1/24/20</th>\n",
       "      <th>1/25/20</th>\n",
       "      <th>1/26/20</th>\n",
       "      <th>1/27/20</th>\n",
       "      <th>1/28/20</th>\n",
       "      <th>1/29/20</th>\n",
       "      <th>1/30/20</th>\n",
       "      <th>...</th>\n",
       "      <th>3/23/20</th>\n",
       "      <th>3/24/20</th>\n",
       "      <th>3/25/20</th>\n",
       "      <th>3/26/20</th>\n",
       "      <th>3/27/20</th>\n",
       "      <th>3/28/20</th>\n",
       "      <th>3/29/20</th>\n",
       "      <th>3/30/20</th>\n",
       "      <th>Lat</th>\n",
       "      <th>Long</th>\n",
       "    </tr>\n",
       "  </thead>\n",
       "  <tbody>\n",
       "    <tr>\n",
       "      <td>0</td>\n",
       "      <td>Afghanistan</td>\n",
       "      <td>0</td>\n",
       "      <td>0</td>\n",
       "      <td>0</td>\n",
       "      <td>0</td>\n",
       "      <td>0</td>\n",
       "      <td>0</td>\n",
       "      <td>0</td>\n",
       "      <td>0</td>\n",
       "      <td>0</td>\n",
       "      <td>...</td>\n",
       "      <td>42</td>\n",
       "      <td>76</td>\n",
       "      <td>88</td>\n",
       "      <td>100</td>\n",
       "      <td>116</td>\n",
       "      <td>116</td>\n",
       "      <td>126</td>\n",
       "      <td>176</td>\n",
       "      <td>33.0000</td>\n",
       "      <td>65.0000</td>\n",
       "    </tr>\n",
       "    <tr>\n",
       "      <td>1</td>\n",
       "      <td>Albania</td>\n",
       "      <td>0</td>\n",
       "      <td>0</td>\n",
       "      <td>0</td>\n",
       "      <td>0</td>\n",
       "      <td>0</td>\n",
       "      <td>0</td>\n",
       "      <td>0</td>\n",
       "      <td>0</td>\n",
       "      <td>0</td>\n",
       "      <td>...</td>\n",
       "      <td>110</td>\n",
       "      <td>138</td>\n",
       "      <td>168</td>\n",
       "      <td>197</td>\n",
       "      <td>225</td>\n",
       "      <td>238</td>\n",
       "      <td>255</td>\n",
       "      <td>278</td>\n",
       "      <td>41.1533</td>\n",
       "      <td>20.1683</td>\n",
       "    </tr>\n",
       "    <tr>\n",
       "      <td>2</td>\n",
       "      <td>Algeria</td>\n",
       "      <td>0</td>\n",
       "      <td>0</td>\n",
       "      <td>0</td>\n",
       "      <td>0</td>\n",
       "      <td>0</td>\n",
       "      <td>0</td>\n",
       "      <td>0</td>\n",
       "      <td>0</td>\n",
       "      <td>0</td>\n",
       "      <td>...</td>\n",
       "      <td>312</td>\n",
       "      <td>307</td>\n",
       "      <td>388</td>\n",
       "      <td>421</td>\n",
       "      <td>464</td>\n",
       "      <td>514</td>\n",
       "      <td>573</td>\n",
       "      <td>656</td>\n",
       "      <td>28.0339</td>\n",
       "      <td>1.6596</td>\n",
       "    </tr>\n",
       "    <tr>\n",
       "      <td>3</td>\n",
       "      <td>Andorra</td>\n",
       "      <td>0</td>\n",
       "      <td>0</td>\n",
       "      <td>0</td>\n",
       "      <td>0</td>\n",
       "      <td>0</td>\n",
       "      <td>0</td>\n",
       "      <td>0</td>\n",
       "      <td>0</td>\n",
       "      <td>0</td>\n",
       "      <td>...</td>\n",
       "      <td>135</td>\n",
       "      <td>166</td>\n",
       "      <td>190</td>\n",
       "      <td>228</td>\n",
       "      <td>271</td>\n",
       "      <td>312</td>\n",
       "      <td>341</td>\n",
       "      <td>388</td>\n",
       "      <td>42.5063</td>\n",
       "      <td>1.5218</td>\n",
       "    </tr>\n",
       "    <tr>\n",
       "      <td>4</td>\n",
       "      <td>Angola</td>\n",
       "      <td>0</td>\n",
       "      <td>0</td>\n",
       "      <td>0</td>\n",
       "      <td>0</td>\n",
       "      <td>0</td>\n",
       "      <td>0</td>\n",
       "      <td>0</td>\n",
       "      <td>0</td>\n",
       "      <td>0</td>\n",
       "      <td>...</td>\n",
       "      <td>3</td>\n",
       "      <td>3</td>\n",
       "      <td>3</td>\n",
       "      <td>4</td>\n",
       "      <td>4</td>\n",
       "      <td>5</td>\n",
       "      <td>9</td>\n",
       "      <td>9</td>\n",
       "      <td>-11.2027</td>\n",
       "      <td>17.8739</td>\n",
       "    </tr>\n",
       "  </tbody>\n",
       "</table>\n",
       "<p>5 rows × 72 columns</p>\n",
       "</div>"
      ],
      "text/plain": [
       "  Country/Region  1/22/20  1/23/20  1/24/20  1/25/20  1/26/20  1/27/20  \\\n",
       "0    Afghanistan        0        0        0        0        0        0   \n",
       "1        Albania        0        0        0        0        0        0   \n",
       "2        Algeria        0        0        0        0        0        0   \n",
       "3        Andorra        0        0        0        0        0        0   \n",
       "4         Angola        0        0        0        0        0        0   \n",
       "\n",
       "   1/28/20  1/29/20  1/30/20  ...  3/23/20  3/24/20  3/25/20  3/26/20  \\\n",
       "0        0        0        0  ...       42       76       88      100   \n",
       "1        0        0        0  ...      110      138      168      197   \n",
       "2        0        0        0  ...      312      307      388      421   \n",
       "3        0        0        0  ...      135      166      190      228   \n",
       "4        0        0        0  ...        3        3        3        4   \n",
       "\n",
       "   3/27/20  3/28/20  3/29/20  3/30/20      Lat     Long  \n",
       "0      116      116      126      176  33.0000  65.0000  \n",
       "1      225      238      255      278  41.1533  20.1683  \n",
       "2      464      514      573      656  28.0339   1.6596  \n",
       "3      271      312      341      388  42.5063   1.5218  \n",
       "4        4        5        9        9 -11.2027  17.8739  \n",
       "\n",
       "[5 rows x 72 columns]"
      ]
     },
     "execution_count": 14,
     "metadata": {},
     "output_type": "execute_result"
    }
   ],
   "source": [
    "full_df2 = pd.concat([confirmed_df_sum, recovered_df_sum, deaths_df_sum], sort=False)\n",
    "\n",
    "datePattern = re.compile(\"(\\d{1,2}\\/\\d{1,2}\\/\\d{2,4})\")  #pattern like 1/22/20\n",
    "\n",
    "cols_to_keep = [ col for col in full_df2.columns if bool(re.match(datePattern, col)) ] +  ['Country/Region']\n",
    "\n",
    "full_df2 = full_df2[cols_to_keep].groupby(['Country/Region']).sum().reset_index(drop=False)\n",
    "\n",
    "full_df2 = full_df2.merge(confirmed_df[['Country/Region', 'Lat', 'Long']], how='left', on='Country/Region')\n",
    "\n",
    "full_df2.head()\n"
   ]
  },
  {
   "cell_type": "code",
   "execution_count": 15,
   "metadata": {},
   "outputs": [
    {
     "name": "stderr",
     "output_type": "stream",
     "text": [
      "C:\\Users\\tutun\\Anaconda3\\lib\\site-packages\\ipykernel_launcher.py:2: MatplotlibDeprecationWarning:\n",
      "\n",
      "\n",
      "The dedent function was deprecated in Matplotlib 3.1 and will be removed in 3.3. Use inspect.cleandoc instead.\n",
      "\n",
      "C:\\Users\\tutun\\Anaconda3\\lib\\site-packages\\ipykernel_launcher.py:4: MatplotlibDeprecationWarning:\n",
      "\n",
      "\n",
      "The dedent function was deprecated in Matplotlib 3.1 and will be removed in 3.3. Use inspect.cleandoc instead.\n",
      "\n",
      "C:\\Users\\tutun\\Anaconda3\\lib\\site-packages\\ipykernel_launcher.py:5: MatplotlibDeprecationWarning:\n",
      "\n",
      "\n",
      "The dedent function was deprecated in Matplotlib 3.1 and will be removed in 3.3. Use inspect.cleandoc instead.\n",
      "\n"
     ]
    },
    {
     "data": {
      "image/png": "[encoded data removed]",
      "text/plain": [
       "<Figure size 2160x864 with 1 Axes>"
      ]
     },
     "metadata": {},
     "output_type": "display_data"
    }
   ],
   "source": [
    "fig = plt.figure(num=None, figsize=(30,12))\n",
    "m = Basemap(projection='cyl', llcrnrlat=-90, urcrnrlat=90, urcrnrlon=180.,llcrnrlon=-180.,resolution='c')\n",
    "m.drawcoastlines()\n",
    "m.drawcountries()\n",
    "m.drawstates()\n",
    "m.fillcontinents(color='white',lake_color='lightblue')\n",
    "m.drawparallels(np.arange(-90.,91.,30),labels=[True,True,False,False],dashes=[2,2])\n",
    "m.drawmeridians(np.arange(-180.,181.,60),labels=[False,False,False,True],dashes=[2,2])\n",
    "m.drawmapboundary(fill_color='lightblue')\n",
    "\n",
    "# Create a list of the latitudes and longitudes (x, y) coordinates\n",
    "lat = list(confirmed_df['Lat'])\n",
    "long = list(confirmed_df['Long'])\n",
    "\n",
    "# Get latest date's values and scale between 2 values\n",
    "plotSizes = confirmed_df.iloc[:,-1]\n",
    "\n",
    "# Scale it\n",
    "from sklearn.preprocessing import MinMaxScaler\n",
    "minSize = 50\n",
    "maxSize = 800\n",
    "scaler = MinMaxScaler(feature_range=(minSize, maxSize))\n",
    "plotSize = [ x[0] for x in list(scaler.fit_transform(plotSizes.values.reshape(-1,1)))]\n",
    "\n",
    "m.scatter(long, lat, latlon=True, color='r', s=plotSize, zorder=5, alpha=0.7, edgecolors='r')\n",
    "\n",
    "\n",
    "\n",
    "\n",
    "plt.title('COVID 19')\n",
    "plt.show()\n",
    "\n"
   ]
  },
  {
   "cell_type": "code",
   "execution_count": 16,
   "metadata": {},
   "outputs": [],
   "source": [
    "datePattern = re.compile(\"(\\d{1,2}\\/\\d{1,2}\\/\\d{2,4})\")  #pattern like 1/22/20\n",
    "cols_to_keep = [ col for col in confirmed_df.columns if bool(re.match(datePattern, col)) ] +  ['Country/Region']"
   ]
  },
  {
   "cell_type": "code",
   "execution_count": 17,
   "metadata": {},
   "outputs": [],
   "source": [
    "import plotly.express as px\n",
    "\n",
    "latestData = list(deaths_subset_df.columns)[-1]\n",
    "deaths_subset_df = deaths_subset_df.sort_values(by=latestData, ascending=True)\n"
   ]
  },
  {
   "cell_type": "code",
   "execution_count": 22,
   "metadata": {},
   "outputs": [
    {
     "data": {
      "application/vnd.plotly.v1+json": {
       "config": {
        "plotlyServerURL": "https://plot.ly"
       },
       "data": [
        {
         "alignmentgroup": "True",
         "hoverlabel": {
          "namelength": 0
         },
         "hovertemplate": "3/30/20=%{text}<br>Country/Region=%{y}",
         "legendgroup": "",
         "marker": {
          "color": "#636efa"
         },
         "name": "",
         "offsetgroup": "",
         "orientation": "h",
         "showlegend": false,
         "text": [
          513,
          645,
          865,
          1411,
          2757,
          2978,
          3030,
          3308,
          7716,
          11591
         ],
         "textposition": "outside",
         "texttemplate": "%{text:d}",
         "type": "bar",
         "x": [
          513,
          645,
          865,
          1411,
          2757,
          2978,
          3030,
          3308,
          7716,
          11591
         ],
         "xaxis": "x",
         "y": [
          "Belgium",
          "Germany",
          "Netherlands",
          "United Kingdom",
          "Iran",
          "US",
          "France",
          "China",
          "Spain",
          "Italy"
         ],
         "yaxis": "y"
        }
       ],
       "layout": {
        "barmode": "relative",
        "height": 600,
        "legend": {
         "tracegroupgap": 0
        },
        "template": {
         "data": {
          "bar": [
           {
            "error_x": {
             "color": "#2a3f5f"
            },
            "error_y": {
             "color": "#2a3f5f"
            },
            "marker": {
             "line": {
              "color": "#E5ECF6",
              "width": 0.5
             }
            },
            "type": "bar"
           }
          ],
          "barpolar": [
           {
            "marker": {
             "line": {
              "color": "#E5ECF6",
              "width": 0.5
             }
            },
            "type": "barpolar"
           }
          ],
          "carpet": [
           {
            "aaxis": {
             "endlinecolor": "#2a3f5f",
             "gridcolor": "white",
             "linecolor": "white",
             "minorgridcolor": "white",
             "startlinecolor": "#2a3f5f"
            },
            "baxis": {
             "endlinecolor": "#2a3f5f",
             "gridcolor": "white",
             "linecolor": "white",
             "minorgridcolor": "white",
             "startlinecolor": "#2a3f5f"
            },
            "type": "carpet"
           }
          ],
          "choropleth": [
           {
            "colorbar": {
             "outlinewidth": 0,
             "ticks": ""
            },
            "type": "choropleth"
           }
          ],
          "contour": [
           {
            "colorbar": {
             "outlinewidth": 0,
             "ticks": ""
            },
            "colorscale": [
             [
              0,
              "#0d0887"
             ],
             [
              0.1111111111111111,
              "#46039f"
             ],
             [
              0.2222222222222222,
              "#7201a8"
             ],
             [
              0.3333333333333333,
              "#9c179e"
             ],
             [
              0.4444444444444444,
              "#bd3786"
             ],
             [
              0.5555555555555556,
              "#d8576b"
             ],
             [
              0.6666666666666666,
              "#ed7953"
             ],
             [
              0.7777777777777778,
              "#fb9f3a"
             ],
             [
              0.8888888888888888,
              "#fdca26"
             ],
             [
              1,
              "#f0f921"
             ]
            ],
            "type": "contour"
           }
          ],
          "contourcarpet": [
           {
            "colorbar": {
             "outlinewidth": 0,
             "ticks": ""
            },
            "type": "contourcarpet"
           }
          ],
          "heatmap": [
           {
            "colorbar": {
             "outlinewidth": 0,
             "ticks": ""
            },
            "colorscale": [
             [
              0,
              "#0d0887"
             ],
             [
              0.1111111111111111,
              "#46039f"
             ],
             [
              0.2222222222222222,
              "#7201a8"
             ],
             [
              0.3333333333333333,
              "#9c179e"
             ],
             [
              0.4444444444444444,
              "#bd3786"
             ],
             [
              0.5555555555555556,
              "#d8576b"
             ],
             [
              0.6666666666666666,
              "#ed7953"
             ],
             [
              0.7777777777777778,
              "#fb9f3a"
             ],
             [
              0.8888888888888888,
              "#fdca26"
             ],
             [
              1,
              "#f0f921"
             ]
            ],
            "type": "heatmap"
           }
          ],
          "heatmapgl": [
           {
            "colorbar": {
             "outlinewidth": 0,
             "ticks": ""
            },
            "colorscale": [
             [
              0,
              "#0d0887"
             ],
             [
              0.1111111111111111,
              "#46039f"
             ],
             [
              0.2222222222222222,
              "#7201a8"
             ],
             [
              0.3333333333333333,
              "#9c179e"
             ],
             [
              0.4444444444444444,
              "#bd3786"
             ],
             [
              0.5555555555555556,
              "#d8576b"
             ],
             [
              0.6666666666666666,
              "#ed7953"
             ],
             [
              0.7777777777777778,
              "#fb9f3a"
             ],
             [
              0.8888888888888888,
              "#fdca26"
             ],
             [
              1,
              "#f0f921"
             ]
            ],
            "type": "heatmapgl"
           }
          ],
          "histogram": [
           {
            "marker": {
             "colorbar": {
              "outlinewidth": 0,
              "ticks": ""
             }
            },
            "type": "histogram"
           }
          ],
          "histogram2d": [
           {
            "colorbar": {
             "outlinewidth": 0,
             "ticks": ""
            },
            "colorscale": [
             [
              0,
              "#0d0887"
             ],
             [
              0.1111111111111111,
              "#46039f"
             ],
             [
              0.2222222222222222,
              "#7201a8"
             ],
             [
              0.3333333333333333,
              "#9c179e"
             ],
             [
              0.4444444444444444,
              "#bd3786"
             ],
             [
              0.5555555555555556,
              "#d8576b"
             ],
             [
              0.6666666666666666,
              "#ed7953"
             ],
             [
              0.7777777777777778,
              "#fb9f3a"
             ],
             [
              0.8888888888888888,
              "#fdca26"
             ],
             [
              1,
              "#f0f921"
             ]
            ],
            "type": "histogram2d"
           }
          ],
          "histogram2dcontour": [
           {
            "colorbar": {
             "outlinewidth": 0,
             "ticks": ""
            },
            "colorscale": [
             [
              0,
              "#0d0887"
             ],
             [
              0.1111111111111111,
              "#46039f"
             ],
             [
              0.2222222222222222,
              "#7201a8"
             ],
             [
              0.3333333333333333,
              "#9c179e"
             ],
             [
              0.4444444444444444,
              "#bd3786"
             ],
             [
              0.5555555555555556,
              "#d8576b"
             ],
             [
              0.6666666666666666,
              "#ed7953"
             ],
             [
              0.7777777777777778,
              "#fb9f3a"
             ],
             [
              0.8888888888888888,
              "#fdca26"
             ],
             [
              1,
              "#f0f921"
             ]
            ],
            "type": "histogram2dcontour"
           }
          ],
          "mesh3d": [
           {
            "colorbar": {
             "outlinewidth": 0,
             "ticks": ""
            },
            "type": "mesh3d"
           }
          ],
          "parcoords": [
           {
            "line": {
             "colorbar": {
              "outlinewidth": 0,
              "ticks": ""
             }
            },
            "type": "parcoords"
           }
          ],
          "pie": [
           {
            "automargin": true,
            "type": "pie"
           }
          ],
          "scatter": [
           {
            "marker": {
             "colorbar": {
              "outlinewidth": 0,
              "ticks": ""
             }
            },
            "type": "scatter"
           }
          ],
          "scatter3d": [
           {
            "line": {
             "colorbar": {
              "outlinewidth": 0,
              "ticks": ""
             }
            },
            "marker": {
             "colorbar": {
              "outlinewidth": 0,
              "ticks": ""
             }
            },
            "type": "scatter3d"
           }
          ],
          "scattercarpet": [
           {
            "marker": {
             "colorbar": {
              "outlinewidth": 0,
              "ticks": ""
             }
            },
            "type": "scattercarpet"
           }
          ],
          "scattergeo": [
           {
            "marker": {
             "colorbar": {
              "outlinewidth": 0,
              "ticks": ""
             }
            },
            "type": "scattergeo"
           }
          ],
          "scattergl": [
           {
            "marker": {
             "colorbar": {
              "outlinewidth": 0,
              "ticks": ""
             }
            },
            "type": "scattergl"
           }
          ],
          "scattermapbox": [
           {
            "marker": {
             "colorbar": {
              "outlinewidth": 0,
              "ticks": ""
             }
            },
            "type": "scattermapbox"
           }
          ],
          "scatterpolar": [
           {
            "marker": {
             "colorbar": {
              "outlinewidth": 0,
              "ticks": ""
             }
            },
            "type": "scatterpolar"
           }
          ],
          "scatterpolargl": [
           {
            "marker": {
             "colorbar": {
              "outlinewidth": 0,
              "ticks": ""
             }
            },
            "type": "scatterpolargl"
           }
          ],
          "scatterternary": [
           {
            "marker": {
             "colorbar": {
              "outlinewidth": 0,
              "ticks": ""
             }
            },
            "type": "scatterternary"
           }
          ],
          "surface": [
           {
            "colorbar": {
             "outlinewidth": 0,
             "ticks": ""
            },
            "colorscale": [
             [
              0,
              "#0d0887"
             ],
             [
              0.1111111111111111,
              "#46039f"
             ],
             [
              0.2222222222222222,
              "#7201a8"
             ],
             [
              0.3333333333333333,
              "#9c179e"
             ],
             [
              0.4444444444444444,
              "#bd3786"
             ],
             [
              0.5555555555555556,
              "#d8576b"
             ],
             [
              0.6666666666666666,
              "#ed7953"
             ],
             [
              0.7777777777777778,
              "#fb9f3a"
             ],
             [
              0.8888888888888888,
              "#fdca26"
             ],
             [
              1,
              "#f0f921"
             ]
            ],
            "type": "surface"
           }
          ],
          "table": [
           {
            "cells": {
             "fill": {
              "color": "#EBF0F8"
             },
             "line": {
              "color": "white"
             }
            },
            "header": {
             "fill": {
              "color": "#C8D4E3"
             },
             "line": {
              "color": "white"
             }
            },
            "type": "table"
           }
          ]
         },
         "layout": {
          "annotationdefaults": {
           "arrowcolor": "#2a3f5f",
           "arrowhead": 0,
           "arrowwidth": 1
          },
          "coloraxis": {
           "colorbar": {
            "outlinewidth": 0,
            "ticks": ""
           }
          },
          "colorscale": {
           "diverging": [
            [
             0,
             "#8e0152"
            ],
            [
             0.1,
             "#c51b7d"
            ],
            [
             0.2,
             "#de77ae"
            ],
            [
             0.3,
             "#f1b6da"
            ],
            [
             0.4,
             "#fde0ef"
            ],
            [
             0.5,
             "#f7f7f7"
            ],
            [
             0.6,
             "#e6f5d0"
            ],
            [
             0.7,
             "#b8e186"
            ],
            [
             0.8,
             "#7fbc41"
            ],
            [
             0.9,
             "#4d9221"
            ],
            [
             1,
             "#276419"
            ]
           ],
           "sequential": [
            [
             0,
             "#0d0887"
            ],
            [
             0.1111111111111111,
             "#46039f"
            ],
            [
             0.2222222222222222,
             "#7201a8"
            ],
            [
             0.3333333333333333,
             "#9c179e"
            ],
            [
             0.4444444444444444,
             "#bd3786"
            ],
            [
             0.5555555555555556,
             "#d8576b"
            ],
            [
             0.6666666666666666,
             "#ed7953"
            ],
            [
             0.7777777777777778,
             "#fb9f3a"
            ],
            [
             0.8888888888888888,
             "#fdca26"
            ],
            [
             1,
             "#f0f921"
            ]
           ],
           "sequentialminus": [
            [
             0,
             "#0d0887"
            ],
            [
             0.1111111111111111,
             "#46039f"
            ],
            [
             0.2222222222222222,
             "#7201a8"
            ],
            [
             0.3333333333333333,
             "#9c179e"
            ],
            [
             0.4444444444444444,
             "#bd3786"
            ],
            [
             0.5555555555555556,
             "#d8576b"
            ],
            [
             0.6666666666666666,
             "#ed7953"
            ],
            [
             0.7777777777777778,
             "#fb9f3a"
            ],
            [
             0.8888888888888888,
             "#fdca26"
            ],
            [
             1,
             "#f0f921"
            ]
           ]
          },
          "colorway": [
           "#636efa",
           "#EF553B",
           "#00cc96",
           "#ab63fa",
           "#FFA15A",
           "#19d3f3",
           "#FF6692",
           "#B6E880",
           "#FF97FF",
           "#FECB52"
          ],
          "font": {
           "color": "#2a3f5f"
          },
          "geo": {
           "bgcolor": "white",
           "lakecolor": "white",
           "landcolor": "#E5ECF6",
           "showlakes": true,
           "showland": true,
           "subunitcolor": "white"
          },
          "hoverlabel": {
           "align": "left"
          },
          "hovermode": "closest",
          "mapbox": {
           "style": "light"
          },
          "paper_bgcolor": "white",
          "plot_bgcolor": "#E5ECF6",
          "polar": {
           "angularaxis": {
            "gridcolor": "white",
            "linecolor": "white",
            "ticks": ""
           },
           "bgcolor": "#E5ECF6",
           "radialaxis": {
            "gridcolor": "white",
            "linecolor": "white",
            "ticks": ""
           }
          },
          "scene": {
           "xaxis": {
            "backgroundcolor": "#E5ECF6",
            "gridcolor": "white",
            "gridwidth": 2,
            "linecolor": "white",
            "showbackground": true,
            "ticks": "",
            "zerolinecolor": "white"
           },
           "yaxis": {
            "backgroundcolor": "#E5ECF6",
            "gridcolor": "white",
            "gridwidth": 2,
            "linecolor": "white",
            "showbackground": true,
            "ticks": "",
            "zerolinecolor": "white"
           },
           "zaxis": {
            "backgroundcolor": "#E5ECF6",
            "gridcolor": "white",
            "gridwidth": 2,
            "linecolor": "white",
            "showbackground": true,
            "ticks": "",
            "zerolinecolor": "white"
           }
          },
          "shapedefaults": {
           "line": {
            "color": "#2a3f5f"
           }
          },
          "ternary": {
           "aaxis": {
            "gridcolor": "white",
            "linecolor": "white",
            "ticks": ""
           },
           "baxis": {
            "gridcolor": "white",
            "linecolor": "white",
            "ticks": ""
           },
           "bgcolor": "#E5ECF6",
           "caxis": {
            "gridcolor": "white",
            "linecolor": "white",
            "ticks": ""
           }
          },
          "title": {
           "x": 0.05
          },
          "xaxis": {
           "automargin": true,
           "gridcolor": "white",
           "linecolor": "white",
           "ticks": "",
           "title": {
            "standoff": 15
           },
           "zerolinecolor": "white",
           "zerolinewidth": 2
          },
          "yaxis": {
           "automargin": true,
           "gridcolor": "white",
           "linecolor": "white",
           "ticks": "",
           "title": {
            "standoff": 15
           },
           "zerolinecolor": "white",
           "zerolinewidth": 2
          }
         }
        },
        "title": {
         "text": "Deaths"
        },
        "xaxis": {
         "anchor": "y",
         "domain": [
          0,
          1
         ],
         "title": {
          "text": "3/30/20"
         }
        },
        "yaxis": {
         "anchor": "x",
         "domain": [
          0,
          1
         ],
         "title": {
          "text": "Country/Region"
         }
        }
       }
      },
      "text/html": [
       "<div>\n",
       "        \n",
       "        \n",
       "            <div id=\"c5ea0107-b8a4-4f9f-9961-7f812e80a048\" class=\"plotly-graph-div\" style=\"height:600px; width:100%;\"></div>\n",
       "            <script type=\"text/javascript\">\n",
       "                require([\"plotly\"], function(Plotly) {\n",
       "                    window.PLOTLYENV=window.PLOTLYENV || {};\n",
       "                    \n",
       "                if (document.getElementById(\"c5ea0107-b8a4-4f9f-9961-7f812e80a048\")) {\n",
       "                    Plotly.newPlot(\n",
       "                        'c5ea0107-b8a4-4f9f-9961-7f812e80a048',\n",
       "                        [{\"alignmentgroup\": \"True\", \"hoverlabel\": {\"namelength\": 0}, \"hovertemplate\": \"3/30/20=%{text}<br>Country/Region=%{y}\", \"legendgroup\": \"\", \"marker\": {\"color\": \"#636efa\"}, \"name\": \"\", \"offsetgroup\": \"\", \"orientation\": \"h\", \"showlegend\": false, \"text\": [513.0, 645.0, 865.0, 1411.0, 2757.0, 2978.0, 3030.0, 3308.0, 7716.0, 11591.0], \"textposition\": \"outside\", \"texttemplate\": \"%{text:d}\", \"type\": \"bar\", \"x\": [513, 645, 865, 1411, 2757, 2978, 3030, 3308, 7716, 11591], \"xaxis\": \"x\", \"y\": [\"Belgium\", \"Germany\", \"Netherlands\", \"United Kingdom\", \"Iran\", \"US\", \"France\", \"China\", \"Spain\", \"Italy\"], \"yaxis\": \"y\"}],\n",
       "                        {\"barmode\": \"relative\", \"height\": 600, \"legend\": {\"tracegroupgap\": 0}, \"template\": {\"data\": {\"bar\": [{\"error_x\": {\"color\": \"#2a3f5f\"}, \"error_y\": {\"color\": \"#2a3f5f\"}, \"marker\": {\"line\": {\"color\": \"#E5ECF6\", \"width\": 0.5}}, \"type\": \"bar\"}], \"barpolar\": [{\"marker\": {\"line\": {\"color\": \"#E5ECF6\", \"width\": 0.5}}, \"type\": \"barpolar\"}], \"carpet\": [{\"aaxis\": {\"endlinecolor\": \"#2a3f5f\", \"gridcolor\": \"white\", \"linecolor\": \"white\", \"minorgridcolor\": \"white\", \"startlinecolor\": \"#2a3f5f\"}, \"baxis\": {\"endlinecolor\": \"#2a3f5f\", \"gridcolor\": \"white\", \"linecolor\": \"white\", \"minorgridcolor\": \"white\", \"startlinecolor\": \"#2a3f5f\"}, \"type\": \"carpet\"}], \"choropleth\": [{\"colorbar\": {\"outlinewidth\": 0, \"ticks\": \"\"}, \"type\": \"choropleth\"}], \"contour\": [{\"colorbar\": {\"outlinewidth\": 0, \"ticks\": \"\"}, \"colorscale\": [[0.0, \"#0d0887\"], [0.1111111111111111, \"#46039f\"], [0.2222222222222222, \"#7201a8\"], [0.3333333333333333, \"#9c179e\"], [0.4444444444444444, \"#bd3786\"], [0.5555555555555556, \"#d8576b\"], [0.6666666666666666, \"#ed7953\"], [0.7777777777777778, \"#fb9f3a\"], [0.8888888888888888, \"#fdca26\"], [1.0, \"#f0f921\"]], \"type\": \"contour\"}], \"contourcarpet\": [{\"colorbar\": {\"outlinewidth\": 0, \"ticks\": \"\"}, \"type\": \"contourcarpet\"}], \"heatmap\": [{\"colorbar\": {\"outlinewidth\": 0, \"ticks\": \"\"}, \"colorscale\": [[0.0, \"#0d0887\"], [0.1111111111111111, \"#46039f\"], [0.2222222222222222, \"#7201a8\"], [0.3333333333333333, \"#9c179e\"], [0.4444444444444444, \"#bd3786\"], [0.5555555555555556, \"#d8576b\"], [0.6666666666666666, \"#ed7953\"], [0.7777777777777778, \"#fb9f3a\"], [0.8888888888888888, \"#fdca26\"], [1.0, \"#f0f921\"]], \"type\": \"heatmap\"}], \"heatmapgl\": [{\"colorbar\": {\"outlinewidth\": 0, \"ticks\": \"\"}, \"colorscale\": [[0.0, \"#0d0887\"], [0.1111111111111111, \"#46039f\"], [0.2222222222222222, \"#7201a8\"], [0.3333333333333333, \"#9c179e\"], [0.4444444444444444, \"#bd3786\"], [0.5555555555555556, \"#d8576b\"], [0.6666666666666666, \"#ed7953\"], [0.7777777777777778, \"#fb9f3a\"], [0.8888888888888888, \"#fdca26\"], [1.0, \"#f0f921\"]], \"type\": \"heatmapgl\"}], \"histogram\": [{\"marker\": {\"colorbar\": {\"outlinewidth\": 0, \"ticks\": \"\"}}, \"type\": \"histogram\"}], \"histogram2d\": [{\"colorbar\": {\"outlinewidth\": 0, \"ticks\": \"\"}, \"colorscale\": [[0.0, \"#0d0887\"], [0.1111111111111111, \"#46039f\"], [0.2222222222222222, \"#7201a8\"], [0.3333333333333333, \"#9c179e\"], [0.4444444444444444, \"#bd3786\"], [0.5555555555555556, \"#d8576b\"], [0.6666666666666666, \"#ed7953\"], [0.7777777777777778, \"#fb9f3a\"], [0.8888888888888888, \"#fdca26\"], [1.0, \"#f0f921\"]], \"type\": \"histogram2d\"}], \"histogram2dcontour\": [{\"colorbar\": {\"outlinewidth\": 0, \"ticks\": \"\"}, \"colorscale\": [[0.0, \"#0d0887\"], [0.1111111111111111, \"#46039f\"], [0.2222222222222222, \"#7201a8\"], [0.3333333333333333, \"#9c179e\"], [0.4444444444444444, \"#bd3786\"], [0.5555555555555556, \"#d8576b\"], [0.6666666666666666, \"#ed7953\"], [0.7777777777777778, \"#fb9f3a\"], [0.8888888888888888, \"#fdca26\"], [1.0, \"#f0f921\"]], \"type\": \"histogram2dcontour\"}], \"mesh3d\": [{\"colorbar\": {\"outlinewidth\": 0, \"ticks\": \"\"}, \"type\": \"mesh3d\"}], \"parcoords\": [{\"line\": {\"colorbar\": {\"outlinewidth\": 0, \"ticks\": \"\"}}, \"type\": \"parcoords\"}], \"pie\": [{\"automargin\": true, \"type\": \"pie\"}], \"scatter\": [{\"marker\": {\"colorbar\": {\"outlinewidth\": 0, \"ticks\": \"\"}}, \"type\": \"scatter\"}], \"scatter3d\": [{\"line\": {\"colorbar\": {\"outlinewidth\": 0, \"ticks\": \"\"}}, \"marker\": {\"colorbar\": {\"outlinewidth\": 0, \"ticks\": \"\"}}, \"type\": \"scatter3d\"}], \"scattercarpet\": [{\"marker\": {\"colorbar\": {\"outlinewidth\": 0, \"ticks\": \"\"}}, \"type\": \"scattercarpet\"}], \"scattergeo\": [{\"marker\": {\"colorbar\": {\"outlinewidth\": 0, \"ticks\": \"\"}}, \"type\": \"scattergeo\"}], \"scattergl\": [{\"marker\": {\"colorbar\": {\"outlinewidth\": 0, \"ticks\": \"\"}}, \"type\": \"scattergl\"}], \"scattermapbox\": [{\"marker\": {\"colorbar\": {\"outlinewidth\": 0, \"ticks\": \"\"}}, \"type\": \"scattermapbox\"}], \"scatterpolar\": [{\"marker\": {\"colorbar\": {\"outlinewidth\": 0, \"ticks\": \"\"}}, \"type\": \"scatterpolar\"}], \"scatterpolargl\": [{\"marker\": {\"colorbar\": {\"outlinewidth\": 0, \"ticks\": \"\"}}, \"type\": \"scatterpolargl\"}], \"scatterternary\": [{\"marker\": {\"colorbar\": {\"outlinewidth\": 0, \"ticks\": \"\"}}, \"type\": \"scatterternary\"}], \"surface\": [{\"colorbar\": {\"outlinewidth\": 0, \"ticks\": \"\"}, \"colorscale\": [[0.0, \"#0d0887\"], [0.1111111111111111, \"#46039f\"], [0.2222222222222222, \"#7201a8\"], [0.3333333333333333, \"#9c179e\"], [0.4444444444444444, \"#bd3786\"], [0.5555555555555556, \"#d8576b\"], [0.6666666666666666, \"#ed7953\"], [0.7777777777777778, \"#fb9f3a\"], [0.8888888888888888, \"#fdca26\"], [1.0, \"#f0f921\"]], \"type\": \"surface\"}], \"table\": [{\"cells\": {\"fill\": {\"color\": \"#EBF0F8\"}, \"line\": {\"color\": \"white\"}}, \"header\": {\"fill\": {\"color\": \"#C8D4E3\"}, \"line\": {\"color\": \"white\"}}, \"type\": \"table\"}]}, \"layout\": {\"annotationdefaults\": {\"arrowcolor\": \"#2a3f5f\", \"arrowhead\": 0, \"arrowwidth\": 1}, \"coloraxis\": {\"colorbar\": {\"outlinewidth\": 0, \"ticks\": \"\"}}, \"colorscale\": {\"diverging\": [[0, \"#8e0152\"], [0.1, \"#c51b7d\"], [0.2, \"#de77ae\"], [0.3, \"#f1b6da\"], [0.4, \"#fde0ef\"], [0.5, \"#f7f7f7\"], [0.6, \"#e6f5d0\"], [0.7, \"#b8e186\"], [0.8, \"#7fbc41\"], [0.9, \"#4d9221\"], [1, \"#276419\"]], \"sequential\": [[0.0, \"#0d0887\"], [0.1111111111111111, \"#46039f\"], [0.2222222222222222, \"#7201a8\"], [0.3333333333333333, \"#9c179e\"], [0.4444444444444444, \"#bd3786\"], [0.5555555555555556, \"#d8576b\"], [0.6666666666666666, \"#ed7953\"], [0.7777777777777778, \"#fb9f3a\"], [0.8888888888888888, \"#fdca26\"], [1.0, \"#f0f921\"]], \"sequentialminus\": [[0.0, \"#0d0887\"], [0.1111111111111111, \"#46039f\"], [0.2222222222222222, \"#7201a8\"], [0.3333333333333333, \"#9c179e\"], [0.4444444444444444, \"#bd3786\"], [0.5555555555555556, \"#d8576b\"], [0.6666666666666666, \"#ed7953\"], [0.7777777777777778, \"#fb9f3a\"], [0.8888888888888888, \"#fdca26\"], [1.0, \"#f0f921\"]]}, \"colorway\": [\"#636efa\", \"#EF553B\", \"#00cc96\", \"#ab63fa\", \"#FFA15A\", \"#19d3f3\", \"#FF6692\", \"#B6E880\", \"#FF97FF\", \"#FECB52\"], \"font\": {\"color\": \"#2a3f5f\"}, \"geo\": {\"bgcolor\": \"white\", \"lakecolor\": \"white\", \"landcolor\": \"#E5ECF6\", \"showlakes\": true, \"showland\": true, \"subunitcolor\": \"white\"}, \"hoverlabel\": {\"align\": \"left\"}, \"hovermode\": \"closest\", \"mapbox\": {\"style\": \"light\"}, \"paper_bgcolor\": \"white\", \"plot_bgcolor\": \"#E5ECF6\", \"polar\": {\"angularaxis\": {\"gridcolor\": \"white\", \"linecolor\": \"white\", \"ticks\": \"\"}, \"bgcolor\": \"#E5ECF6\", \"radialaxis\": {\"gridcolor\": \"white\", \"linecolor\": \"white\", \"ticks\": \"\"}}, \"scene\": {\"xaxis\": {\"backgroundcolor\": \"#E5ECF6\", \"gridcolor\": \"white\", \"gridwidth\": 2, \"linecolor\": \"white\", \"showbackground\": true, \"ticks\": \"\", \"zerolinecolor\": \"white\"}, \"yaxis\": {\"backgroundcolor\": \"#E5ECF6\", \"gridcolor\": \"white\", \"gridwidth\": 2, \"linecolor\": \"white\", \"showbackground\": true, \"ticks\": \"\", \"zerolinecolor\": \"white\"}, \"zaxis\": {\"backgroundcolor\": \"#E5ECF6\", \"gridcolor\": \"white\", \"gridwidth\": 2, \"linecolor\": \"white\", \"showbackground\": true, \"ticks\": \"\", \"zerolinecolor\": \"white\"}}, \"shapedefaults\": {\"line\": {\"color\": \"#2a3f5f\"}}, \"ternary\": {\"aaxis\": {\"gridcolor\": \"white\", \"linecolor\": \"white\", \"ticks\": \"\"}, \"baxis\": {\"gridcolor\": \"white\", \"linecolor\": \"white\", \"ticks\": \"\"}, \"bgcolor\": \"#E5ECF6\", \"caxis\": {\"gridcolor\": \"white\", \"linecolor\": \"white\", \"ticks\": \"\"}}, \"title\": {\"x\": 0.05}, \"xaxis\": {\"automargin\": true, \"gridcolor\": \"white\", \"linecolor\": \"white\", \"ticks\": \"\", \"title\": {\"standoff\": 15}, \"zerolinecolor\": \"white\", \"zerolinewidth\": 2}, \"yaxis\": {\"automargin\": true, \"gridcolor\": \"white\", \"linecolor\": \"white\", \"ticks\": \"\", \"title\": {\"standoff\": 15}, \"zerolinecolor\": \"white\", \"zerolinewidth\": 2}}}, \"title\": {\"text\": \"Deaths\"}, \"xaxis\": {\"anchor\": \"y\", \"domain\": [0.0, 1.0], \"title\": {\"text\": \"3/30/20\"}}, \"yaxis\": {\"anchor\": \"x\", \"domain\": [0.0, 1.0], \"title\": {\"text\": \"Country/Region\"}}},\n",
       "                        {\"responsive\": true}\n",
       "                    ).then(function(){\n",
       "                            \n",
       "var gd = document.getElementById('c5ea0107-b8a4-4f9f-9961-7f812e80a048');\n",
       "var x = new MutationObserver(function (mutations, observer) {{\n",
       "        var display = window.getComputedStyle(gd).display;\n",
       "        if (!display || display === 'none') {{\n",
       "            console.log([gd, 'removed!']);\n",
       "            Plotly.purge(gd);\n",
       "            observer.disconnect();\n",
       "        }}\n",
       "}});\n",
       "\n",
       "// Listen for the removal of the full notebook cells\n",
       "var notebookContainer = gd.closest('#notebook-container');\n",
       "if (notebookContainer) {{\n",
       "    x.observe(notebookContainer, {childList: true});\n",
       "}}\n",
       "\n",
       "// Listen for the clearing of the current output cell\n",
       "var outputEl = gd.closest('.output');\n",
       "if (outputEl) {{\n",
       "    x.observe(outputEl, {childList: true});\n",
       "}}\n",
       "\n",
       "                        })\n",
       "                };\n",
       "                });\n",
       "            </script>\n",
       "        </div>"
      ]
     },
     "metadata": {},
     "output_type": "display_data"
    }
   ],
   "source": [
    "fig = px.bar(deaths_subset_df.tail(10), y=\"Country/Region\", x=latestData, orientation='h', height=600,\n",
    "             title='Deaths', text=latestData)\n",
    "\n",
    "fig.update_traces(texttemplate='%{text:d}', textposition='outside')\n",
    "\n",
    "fig.show()"
   ]
  },
  {
   "cell_type": "code",
   "execution_count": 19,
   "metadata": {},
   "outputs": [
    {
     "name": "stdout",
     "output_type": "stream",
     "text": [
      "         Country/Region  3/30/20\n",
      "0           Afghanistan        2\n",
      "1               Albania       44\n",
      "2               Algeria       37\n",
      "3               Andorra       10\n",
      "4                Angola        0\n",
      "..                  ...      ...\n",
      "173           Venezuela       39\n",
      "174             Vietnam       55\n",
      "175  West Bank and Gaza       18\n",
      "176              Zambia        0\n",
      "177            Zimbabwe        0\n",
      "\n",
      "[178 rows x 2 columns]\n"
     ]
    }
   ],
   "source": [
    "recovered_subset_df = recovered_df_sum.iloc[:,[ 0,-1]]\n",
    "\n",
    "print (recovered_subset_df)"
   ]
  },
  {
   "cell_type": "code",
   "execution_count": 20,
   "metadata": {},
   "outputs": [],
   "source": [
    "latestData = list(recovered_subset_df.columns)[-1]\n",
    "\n",
    "recovered_subset_df = recovered_subset_df.sort_values(by=latestData, ascending=True)\n"
   ]
  },
  {
   "cell_type": "code",
   "execution_count": 21,
   "metadata": {},
   "outputs": [
    {
     "data": {
      "application/vnd.plotly.v1+json": {
       "config": {
        "plotlyServerURL": "https://plot.ly"
       },
       "data": [
        {
         "alignmentgroup": "True",
         "hoverlabel": {
          "namelength": 0
         },
         "hovertemplate": "3/30/20=%{text}<br>Country/Region=%{y}",
         "legendgroup": "",
         "marker": {
          "color": "#636efa"
         },
         "name": "",
         "offsetgroup": "",
         "orientation": "h",
         "showlegend": false,
         "text": [
          424,
          466,
          479,
          603,
          636,
          1527,
          1823,
          5228,
          5644,
          7964,
          13500,
          13911,
          14620,
          16780,
          75923
         ],
         "textposition": "outside",
         "texttemplate": "%{text:d}",
         "type": "bar",
         "x": [
          424,
          466,
          479,
          603,
          636,
          1527,
          1823,
          5228,
          5644,
          7964,
          13500,
          13911,
          14620,
          16780,
          75923
         ],
         "xaxis": "x",
         "y": [
          "Japan",
          "Canada",
          "Malaysia",
          "Diamond Princess",
          "Austria",
          "Belgium",
          "Switzerland",
          "Korea, South",
          "US",
          "France",
          "Germany",
          "Iran",
          "Italy",
          "Spain",
          "China"
         ],
         "yaxis": "y"
        }
       ],
       "layout": {
        "barmode": "relative",
        "height": 600,
        "legend": {
         "tracegroupgap": 0
        },
        "template": {
         "data": {
          "bar": [
           {
            "error_x": {
             "color": "#2a3f5f"
            },
            "error_y": {
             "color": "#2a3f5f"
            },
            "marker": {
             "line": {
              "color": "#E5ECF6",
              "width": 0.5
             }
            },
            "type": "bar"
           }
          ],
          "barpolar": [
           {
            "marker": {
             "line": {
              "color": "#E5ECF6",
              "width": 0.5
             }
            },
            "type": "barpolar"
           }
          ],
          "carpet": [
           {
            "aaxis": {
             "endlinecolor": "#2a3f5f",
             "gridcolor": "white",
             "linecolor": "white",
             "minorgridcolor": "white",
             "startlinecolor": "#2a3f5f"
            },
            "baxis": {
             "endlinecolor": "#2a3f5f",
             "gridcolor": "white",
             "linecolor": "white",
             "minorgridcolor": "white",
             "startlinecolor": "#2a3f5f"
            },
            "type": "carpet"
           }
          ],
          "choropleth": [
           {
            "colorbar": {
             "outlinewidth": 0,
             "ticks": ""
            },
            "type": "choropleth"
           }
          ],
          "contour": [
           {
            "colorbar": {
             "outlinewidth": 0,
             "ticks": ""
            },
            "colorscale": [
             [
              0,
              "#0d0887"
             ],
             [
              0.1111111111111111,
              "#46039f"
             ],
             [
              0.2222222222222222,
              "#7201a8"
             ],
             [
              0.3333333333333333,
              "#9c179e"
             ],
             [
              0.4444444444444444,
              "#bd3786"
             ],
             [
              0.5555555555555556,
              "#d8576b"
             ],
             [
              0.6666666666666666,
              "#ed7953"
             ],
             [
              0.7777777777777778,
              "#fb9f3a"
             ],
             [
              0.8888888888888888,
              "#fdca26"
             ],
             [
              1,
              "#f0f921"
             ]
            ],
            "type": "contour"
           }
          ],
          "contourcarpet": [
           {
            "colorbar": {
             "outlinewidth": 0,
             "ticks": ""
            },
            "type": "contourcarpet"
           }
          ],
          "heatmap": [
           {
            "colorbar": {
             "outlinewidth": 0,
             "ticks": ""
            },
            "colorscale": [
             [
              0,
              "#0d0887"
             ],
             [
              0.1111111111111111,
              "#46039f"
             ],
             [
              0.2222222222222222,
              "#7201a8"
             ],
             [
              0.3333333333333333,
              "#9c179e"
             ],
             [
              0.4444444444444444,
              "#bd3786"
             ],
             [
              0.5555555555555556,
              "#d8576b"
             ],
             [
              0.6666666666666666,
              "#ed7953"
             ],
             [
              0.7777777777777778,
              "#fb9f3a"
             ],
             [
              0.8888888888888888,
              "#fdca26"
             ],
             [
              1,
              "#f0f921"
             ]
            ],
            "type": "heatmap"
           }
          ],
          "heatmapgl": [
           {
            "colorbar": {
             "outlinewidth": 0,
             "ticks": ""
            },
            "colorscale": [
             [
              0,
              "#0d0887"
             ],
             [
              0.1111111111111111,
              "#46039f"
             ],
             [
              0.2222222222222222,
              "#7201a8"
             ],
             [
              0.3333333333333333,
              "#9c179e"
             ],
             [
              0.4444444444444444,
              "#bd3786"
             ],
             [
              0.5555555555555556,
              "#d8576b"
             ],
             [
              0.6666666666666666,
              "#ed7953"
             ],
             [
              0.7777777777777778,
              "#fb9f3a"
             ],
             [
              0.8888888888888888,
              "#fdca26"
             ],
             [
              1,
              "#f0f921"
             ]
            ],
            "type": "heatmapgl"
           }
          ],
          "histogram": [
           {
            "marker": {
             "colorbar": {
              "outlinewidth": 0,
              "ticks": ""
             }
            },
            "type": "histogram"
           }
          ],
          "histogram2d": [
           {
            "colorbar": {
             "outlinewidth": 0,
             "ticks": ""
            },
            "colorscale": [
             [
              0,
              "#0d0887"
             ],
             [
              0.1111111111111111,
              "#46039f"
             ],
             [
              0.2222222222222222,
              "#7201a8"
             ],
             [
              0.3333333333333333,
              "#9c179e"
             ],
             [
              0.4444444444444444,
              "#bd3786"
             ],
             [
              0.5555555555555556,
              "#d8576b"
             ],
             [
              0.6666666666666666,
              "#ed7953"
             ],
             [
              0.7777777777777778,
              "#fb9f3a"
             ],
             [
              0.8888888888888888,
              "#fdca26"
             ],
             [
              1,
              "#f0f921"
             ]
            ],
            "type": "histogram2d"
           }
          ],
          "histogram2dcontour": [
           {
            "colorbar": {
             "outlinewidth": 0,
             "ticks": ""
            },
            "colorscale": [
             [
              0,
              "#0d0887"
             ],
             [
              0.1111111111111111,
              "#46039f"
             ],
             [
              0.2222222222222222,
              "#7201a8"
             ],
             [
              0.3333333333333333,
              "#9c179e"
             ],
             [
              0.4444444444444444,
              "#bd3786"
             ],
             [
              0.5555555555555556,
              "#d8576b"
             ],
             [
              0.6666666666666666,
              "#ed7953"
             ],
             [
              0.7777777777777778,
              "#fb9f3a"
             ],
             [
              0.8888888888888888,
              "#fdca26"
             ],
             [
              1,
              "#f0f921"
             ]
            ],
            "type": "histogram2dcontour"
           }
          ],
          "mesh3d": [
           {
            "colorbar": {
             "outlinewidth": 0,
             "ticks": ""
            },
            "type": "mesh3d"
           }
          ],
          "parcoords": [
           {
            "line": {
             "colorbar": {
              "outlinewidth": 0,
              "ticks": ""
             }
            },
            "type": "parcoords"
           }
          ],
          "pie": [
           {
            "automargin": true,
            "type": "pie"
           }
          ],
          "scatter": [
           {
            "marker": {
             "colorbar": {
              "outlinewidth": 0,
              "ticks": ""
             }
            },
            "type": "scatter"
           }
          ],
          "scatter3d": [
           {
            "line": {
             "colorbar": {
              "outlinewidth": 0,
              "ticks": ""
             }
            },
            "marker": {
             "colorbar": {
              "outlinewidth": 0,
              "ticks": ""
             }
            },
            "type": "scatter3d"
           }
          ],
          "scattercarpet": [
           {
            "marker": {
             "colorbar": {
              "outlinewidth": 0,
              "ticks": ""
             }
            },
            "type": "scattercarpet"
           }
          ],
          "scattergeo": [
           {
            "marker": {
             "colorbar": {
              "outlinewidth": 0,
              "ticks": ""
             }
            },
            "type": "scattergeo"
           }
          ],
          "scattergl": [
           {
            "marker": {
             "colorbar": {
              "outlinewidth": 0,
              "ticks": ""
             }
            },
            "type": "scattergl"
           }
          ],
          "scattermapbox": [
           {
            "marker": {
             "colorbar": {
              "outlinewidth": 0,
              "ticks": ""
             }
            },
            "type": "scattermapbox"
           }
          ],
          "scatterpolar": [
           {
            "marker": {
             "colorbar": {
              "outlinewidth": 0,
              "ticks": ""
             }
            },
            "type": "scatterpolar"
           }
          ],
          "scatterpolargl": [
           {
            "marker": {
             "colorbar": {
              "outlinewidth": 0,
              "ticks": ""
             }
            },
            "type": "scatterpolargl"
           }
          ],
          "scatterternary": [
           {
            "marker": {
             "colorbar": {
              "outlinewidth": 0,
              "ticks": ""
             }
            },
            "type": "scatterternary"
           }
          ],
          "surface": [
           {
            "colorbar": {
             "outlinewidth": 0,
             "ticks": ""
            },
            "colorscale": [
             [
              0,
              "#0d0887"
             ],
             [
              0.1111111111111111,
              "#46039f"
             ],
             [
              0.2222222222222222,
              "#7201a8"
             ],
             [
              0.3333333333333333,
              "#9c179e"
             ],
             [
              0.4444444444444444,
              "#bd3786"
             ],
             [
              0.5555555555555556,
              "#d8576b"
             ],
             [
              0.6666666666666666,
              "#ed7953"
             ],
             [
              0.7777777777777778,
              "#fb9f3a"
             ],
             [
              0.8888888888888888,
              "#fdca26"
             ],
             [
              1,
              "#f0f921"
             ]
            ],
            "type": "surface"
           }
          ],
          "table": [
           {
            "cells": {
             "fill": {
              "color": "#EBF0F8"
             },
             "line": {
              "color": "white"
             }
            },
            "header": {
             "fill": {
              "color": "#C8D4E3"
             },
             "line": {
              "color": "white"
             }
            },
            "type": "table"
           }
          ]
         },
         "layout": {
          "annotationdefaults": {
           "arrowcolor": "#2a3f5f",
           "arrowhead": 0,
           "arrowwidth": 1
          },
          "coloraxis": {
           "colorbar": {
            "outlinewidth": 0,
            "ticks": ""
           }
          },
          "colorscale": {
           "diverging": [
            [
             0,
             "#8e0152"
            ],
            [
             0.1,
             "#c51b7d"
            ],
            [
             0.2,
             "#de77ae"
            ],
            [
             0.3,
             "#f1b6da"
            ],
            [
             0.4,
             "#fde0ef"
            ],
            [
             0.5,
             "#f7f7f7"
            ],
            [
             0.6,
             "#e6f5d0"
            ],
            [
             0.7,
             "#b8e186"
            ],
            [
             0.8,
             "#7fbc41"
            ],
            [
             0.9,
             "#4d9221"
            ],
            [
             1,
             "#276419"
            ]
           ],
           "sequential": [
            [
             0,
             "#0d0887"
            ],
            [
             0.1111111111111111,
             "#46039f"
            ],
            [
             0.2222222222222222,
             "#7201a8"
            ],
            [
             0.3333333333333333,
             "#9c179e"
            ],
            [
             0.4444444444444444,
             "#bd3786"
            ],
            [
             0.5555555555555556,
             "#d8576b"
            ],
            [
             0.6666666666666666,
             "#ed7953"
            ],
            [
             0.7777777777777778,
             "#fb9f3a"
            ],
            [
             0.8888888888888888,
             "#fdca26"
            ],
            [
             1,
             "#f0f921"
            ]
           ],
           "sequentialminus": [
            [
             0,
             "#0d0887"
            ],
            [
             0.1111111111111111,
             "#46039f"
            ],
            [
             0.2222222222222222,
             "#7201a8"
            ],
            [
             0.3333333333333333,
             "#9c179e"
            ],
            [
             0.4444444444444444,
             "#bd3786"
            ],
            [
             0.5555555555555556,
             "#d8576b"
            ],
            [
             0.6666666666666666,
             "#ed7953"
            ],
            [
             0.7777777777777778,
             "#fb9f3a"
            ],
            [
             0.8888888888888888,
             "#fdca26"
            ],
            [
             1,
             "#f0f921"
            ]
           ]
          },
          "colorway": [
           "#636efa",
           "#EF553B",
           "#00cc96",
           "#ab63fa",
           "#FFA15A",
           "#19d3f3",
           "#FF6692",
           "#B6E880",
           "#FF97FF",
           "#FECB52"
          ],
          "font": {
           "color": "#2a3f5f"
          },
          "geo": {
           "bgcolor": "white",
           "lakecolor": "white",
           "landcolor": "#E5ECF6",
           "showlakes": true,
           "showland": true,
           "subunitcolor": "white"
          },
          "hoverlabel": {
           "align": "left"
          },
          "hovermode": "closest",
          "mapbox": {
           "style": "light"
          },
          "paper_bgcolor": "white",
          "plot_bgcolor": "#E5ECF6",
          "polar": {
           "angularaxis": {
            "gridcolor": "white",
            "linecolor": "white",
            "ticks": ""
           },
           "bgcolor": "#E5ECF6",
           "radialaxis": {
            "gridcolor": "white",
            "linecolor": "white",
            "ticks": ""
           }
          },
          "scene": {
           "xaxis": {
            "backgroundcolor": "#E5ECF6",
            "gridcolor": "white",
            "gridwidth": 2,
            "linecolor": "white",
            "showbackground": true,
            "ticks": "",
            "zerolinecolor": "white"
           },
           "yaxis": {
            "backgroundcolor": "#E5ECF6",
            "gridcolor": "white",
            "gridwidth": 2,
            "linecolor": "white",
            "showbackground": true,
            "ticks": "",
            "zerolinecolor": "white"
           },
           "zaxis": {
            "backgroundcolor": "#E5ECF6",
            "gridcolor": "white",
            "gridwidth": 2,
            "linecolor": "white",
            "showbackground": true,
            "ticks": "",
            "zerolinecolor": "white"
           }
          },
          "shapedefaults": {
           "line": {
            "color": "#2a3f5f"
           }
          },
          "ternary": {
           "aaxis": {
            "gridcolor": "white",
            "linecolor": "white",
            "ticks": ""
           },
           "baxis": {
            "gridcolor": "white",
            "linecolor": "white",
            "ticks": ""
           },
           "bgcolor": "#E5ECF6",
           "caxis": {
            "gridcolor": "white",
            "linecolor": "white",
            "ticks": ""
           }
          },
          "title": {
           "x": 0.05
          },
          "xaxis": {
           "automargin": true,
           "gridcolor": "white",
           "linecolor": "white",
           "ticks": "",
           "title": {
            "standoff": 15
           },
           "zerolinecolor": "white",
           "zerolinewidth": 2
          },
          "yaxis": {
           "automargin": true,
           "gridcolor": "white",
           "linecolor": "white",
           "ticks": "",
           "title": {
            "standoff": 15
           },
           "zerolinecolor": "white",
           "zerolinewidth": 2
          }
         }
        },
        "title": {
         "text": "Recovered"
        },
        "xaxis": {
         "anchor": "y",
         "domain": [
          0,
          1
         ],
         "title": {
          "text": "3/30/20"
         }
        },
        "yaxis": {
         "anchor": "x",
         "domain": [
          0,
          1
         ],
         "title": {
          "text": "Country/Region"
         }
        }
       }
      },
      "text/html": [
       "<div>\n",
       "        \n",
       "        \n",
       "            <div id=\"3bb2fe51-a1ba-49c2-a261-ecbce40f9008\" class=\"plotly-graph-div\" style=\"height:600px; width:100%;\"></div>\n",
       "            <script type=\"text/javascript\">\n",
       "                require([\"plotly\"], function(Plotly) {\n",
       "                    window.PLOTLYENV=window.PLOTLYENV || {};\n",
       "                    \n",
       "                if (document.getElementById(\"3bb2fe51-a1ba-49c2-a261-ecbce40f9008\")) {\n",
       "                    Plotly.newPlot(\n",
       "                        '3bb2fe51-a1ba-49c2-a261-ecbce40f9008',\n",
       "                        [{\"alignmentgroup\": \"True\", \"hoverlabel\": {\"namelength\": 0}, \"hovertemplate\": \"3/30/20=%{text}<br>Country/Region=%{y}\", \"legendgroup\": \"\", \"marker\": {\"color\": \"#636efa\"}, \"name\": \"\", \"offsetgroup\": \"\", \"orientation\": \"h\", \"showlegend\": false, \"text\": [424.0, 466.0, 479.0, 603.0, 636.0, 1527.0, 1823.0, 5228.0, 5644.0, 7964.0, 13500.0, 13911.0, 14620.0, 16780.0, 75923.0], \"textposition\": \"outside\", \"texttemplate\": \"%{text:d}\", \"type\": \"bar\", \"x\": [424, 466, 479, 603, 636, 1527, 1823, 5228, 5644, 7964, 13500, 13911, 14620, 16780, 75923], \"xaxis\": \"x\", \"y\": [\"Japan\", \"Canada\", \"Malaysia\", \"Diamond Princess\", \"Austria\", \"Belgium\", \"Switzerland\", \"Korea, South\", \"US\", \"France\", \"Germany\", \"Iran\", \"Italy\", \"Spain\", \"China\"], \"yaxis\": \"y\"}],\n",
       "                        {\"barmode\": \"relative\", \"height\": 600, \"legend\": {\"tracegroupgap\": 0}, \"template\": {\"data\": {\"bar\": [{\"error_x\": {\"color\": \"#2a3f5f\"}, \"error_y\": {\"color\": \"#2a3f5f\"}, \"marker\": {\"line\": {\"color\": \"#E5ECF6\", \"width\": 0.5}}, \"type\": \"bar\"}], \"barpolar\": [{\"marker\": {\"line\": {\"color\": \"#E5ECF6\", \"width\": 0.5}}, \"type\": \"barpolar\"}], \"carpet\": [{\"aaxis\": {\"endlinecolor\": \"#2a3f5f\", \"gridcolor\": \"white\", \"linecolor\": \"white\", \"minorgridcolor\": \"white\", \"startlinecolor\": \"#2a3f5f\"}, \"baxis\": {\"endlinecolor\": \"#2a3f5f\", \"gridcolor\": \"white\", \"linecolor\": \"white\", \"minorgridcolor\": \"white\", \"startlinecolor\": \"#2a3f5f\"}, \"type\": \"carpet\"}], \"choropleth\": [{\"colorbar\": {\"outlinewidth\": 0, \"ticks\": \"\"}, \"type\": \"choropleth\"}], \"contour\": [{\"colorbar\": {\"outlinewidth\": 0, \"ticks\": \"\"}, \"colorscale\": [[0.0, \"#0d0887\"], [0.1111111111111111, \"#46039f\"], [0.2222222222222222, \"#7201a8\"], [0.3333333333333333, \"#9c179e\"], [0.4444444444444444, \"#bd3786\"], [0.5555555555555556, \"#d8576b\"], [0.6666666666666666, \"#ed7953\"], [0.7777777777777778, \"#fb9f3a\"], [0.8888888888888888, \"#fdca26\"], [1.0, \"#f0f921\"]], \"type\": \"contour\"}], \"contourcarpet\": [{\"colorbar\": {\"outlinewidth\": 0, \"ticks\": \"\"}, \"type\": \"contourcarpet\"}], \"heatmap\": [{\"colorbar\": {\"outlinewidth\": 0, \"ticks\": \"\"}, \"colorscale\": [[0.0, \"#0d0887\"], [0.1111111111111111, \"#46039f\"], [0.2222222222222222, \"#7201a8\"], [0.3333333333333333, \"#9c179e\"], [0.4444444444444444, \"#bd3786\"], [0.5555555555555556, \"#d8576b\"], [0.6666666666666666, \"#ed7953\"], [0.7777777777777778, \"#fb9f3a\"], [0.8888888888888888, \"#fdca26\"], [1.0, \"#f0f921\"]], \"type\": \"heatmap\"}], \"heatmapgl\": [{\"colorbar\": {\"outlinewidth\": 0, \"ticks\": \"\"}, \"colorscale\": [[0.0, \"#0d0887\"], [0.1111111111111111, \"#46039f\"], [0.2222222222222222, \"#7201a8\"], [0.3333333333333333, \"#9c179e\"], [0.4444444444444444, \"#bd3786\"], [0.5555555555555556, \"#d8576b\"], [0.6666666666666666, \"#ed7953\"], [0.7777777777777778, \"#fb9f3a\"], [0.8888888888888888, \"#fdca26\"], [1.0, \"#f0f921\"]], \"type\": \"heatmapgl\"}], \"histogram\": [{\"marker\": {\"colorbar\": {\"outlinewidth\": 0, \"ticks\": \"\"}}, \"type\": \"histogram\"}], \"histogram2d\": [{\"colorbar\": {\"outlinewidth\": 0, \"ticks\": \"\"}, \"colorscale\": [[0.0, \"#0d0887\"], [0.1111111111111111, \"#46039f\"], [0.2222222222222222, \"#7201a8\"], [0.3333333333333333, \"#9c179e\"], [0.4444444444444444, \"#bd3786\"], [0.5555555555555556, \"#d8576b\"], [0.6666666666666666, \"#ed7953\"], [0.7777777777777778, \"#fb9f3a\"], [0.8888888888888888, \"#fdca26\"], [1.0, \"#f0f921\"]], \"type\": \"histogram2d\"}], \"histogram2dcontour\": [{\"colorbar\": {\"outlinewidth\": 0, \"ticks\": \"\"}, \"colorscale\": [[0.0, \"#0d0887\"], [0.1111111111111111, \"#46039f\"], [0.2222222222222222, \"#7201a8\"], [0.3333333333333333, \"#9c179e\"], [0.4444444444444444, \"#bd3786\"], [0.5555555555555556, \"#d8576b\"], [0.6666666666666666, \"#ed7953\"], [0.7777777777777778, \"#fb9f3a\"], [0.8888888888888888, \"#fdca26\"], [1.0, \"#f0f921\"]], \"type\": \"histogram2dcontour\"}], \"mesh3d\": [{\"colorbar\": {\"outlinewidth\": 0, \"ticks\": \"\"}, \"type\": \"mesh3d\"}], \"parcoords\": [{\"line\": {\"colorbar\": {\"outlinewidth\": 0, \"ticks\": \"\"}}, \"type\": \"parcoords\"}], \"pie\": [{\"automargin\": true, \"type\": \"pie\"}], \"scatter\": [{\"marker\": {\"colorbar\": {\"outlinewidth\": 0, \"ticks\": \"\"}}, \"type\": \"scatter\"}], \"scatter3d\": [{\"line\": {\"colorbar\": {\"outlinewidth\": 0, \"ticks\": \"\"}}, \"marker\": {\"colorbar\": {\"outlinewidth\": 0, \"ticks\": \"\"}}, \"type\": \"scatter3d\"}], \"scattercarpet\": [{\"marker\": {\"colorbar\": {\"outlinewidth\": 0, \"ticks\": \"\"}}, \"type\": \"scattercarpet\"}], \"scattergeo\": [{\"marker\": {\"colorbar\": {\"outlinewidth\": 0, \"ticks\": \"\"}}, \"type\": \"scattergeo\"}], \"scattergl\": [{\"marker\": {\"colorbar\": {\"outlinewidth\": 0, \"ticks\": \"\"}}, \"type\": \"scattergl\"}], \"scattermapbox\": [{\"marker\": {\"colorbar\": {\"outlinewidth\": 0, \"ticks\": \"\"}}, \"type\": \"scattermapbox\"}], \"scatterpolar\": [{\"marker\": {\"colorbar\": {\"outlinewidth\": 0, \"ticks\": \"\"}}, \"type\": \"scatterpolar\"}], \"scatterpolargl\": [{\"marker\": {\"colorbar\": {\"outlinewidth\": 0, \"ticks\": \"\"}}, \"type\": \"scatterpolargl\"}], \"scatterternary\": [{\"marker\": {\"colorbar\": {\"outlinewidth\": 0, \"ticks\": \"\"}}, \"type\": \"scatterternary\"}], \"surface\": [{\"colorbar\": {\"outlinewidth\": 0, \"ticks\": \"\"}, \"colorscale\": [[0.0, \"#0d0887\"], [0.1111111111111111, \"#46039f\"], [0.2222222222222222, \"#7201a8\"], [0.3333333333333333, \"#9c179e\"], [0.4444444444444444, \"#bd3786\"], [0.5555555555555556, \"#d8576b\"], [0.6666666666666666, \"#ed7953\"], [0.7777777777777778, \"#fb9f3a\"], [0.8888888888888888, \"#fdca26\"], [1.0, \"#f0f921\"]], \"type\": \"surface\"}], \"table\": [{\"cells\": {\"fill\": {\"color\": \"#EBF0F8\"}, \"line\": {\"color\": \"white\"}}, \"header\": {\"fill\": {\"color\": \"#C8D4E3\"}, \"line\": {\"color\": \"white\"}}, \"type\": \"table\"}]}, \"layout\": {\"annotationdefaults\": {\"arrowcolor\": \"#2a3f5f\", \"arrowhead\": 0, \"arrowwidth\": 1}, \"coloraxis\": {\"colorbar\": {\"outlinewidth\": 0, \"ticks\": \"\"}}, \"colorscale\": {\"diverging\": [[0, \"#8e0152\"], [0.1, \"#c51b7d\"], [0.2, \"#de77ae\"], [0.3, \"#f1b6da\"], [0.4, \"#fde0ef\"], [0.5, \"#f7f7f7\"], [0.6, \"#e6f5d0\"], [0.7, \"#b8e186\"], [0.8, \"#7fbc41\"], [0.9, \"#4d9221\"], [1, \"#276419\"]], \"sequential\": [[0.0, \"#0d0887\"], [0.1111111111111111, \"#46039f\"], [0.2222222222222222, \"#7201a8\"], [0.3333333333333333, \"#9c179e\"], [0.4444444444444444, \"#bd3786\"], [0.5555555555555556, \"#d8576b\"], [0.6666666666666666, \"#ed7953\"], [0.7777777777777778, \"#fb9f3a\"], [0.8888888888888888, \"#fdca26\"], [1.0, \"#f0f921\"]], \"sequentialminus\": [[0.0, \"#0d0887\"], [0.1111111111111111, \"#46039f\"], [0.2222222222222222, \"#7201a8\"], [0.3333333333333333, \"#9c179e\"], [0.4444444444444444, \"#bd3786\"], [0.5555555555555556, \"#d8576b\"], [0.6666666666666666, \"#ed7953\"], [0.7777777777777778, \"#fb9f3a\"], [0.8888888888888888, \"#fdca26\"], [1.0, \"#f0f921\"]]}, \"colorway\": [\"#636efa\", \"#EF553B\", \"#00cc96\", \"#ab63fa\", \"#FFA15A\", \"#19d3f3\", \"#FF6692\", \"#B6E880\", \"#FF97FF\", \"#FECB52\"], \"font\": {\"color\": \"#2a3f5f\"}, \"geo\": {\"bgcolor\": \"white\", \"lakecolor\": \"white\", \"landcolor\": \"#E5ECF6\", \"showlakes\": true, \"showland\": true, \"subunitcolor\": \"white\"}, \"hoverlabel\": {\"align\": \"left\"}, \"hovermode\": \"closest\", \"mapbox\": {\"style\": \"light\"}, \"paper_bgcolor\": \"white\", \"plot_bgcolor\": \"#E5ECF6\", \"polar\": {\"angularaxis\": {\"gridcolor\": \"white\", \"linecolor\": \"white\", \"ticks\": \"\"}, \"bgcolor\": \"#E5ECF6\", \"radialaxis\": {\"gridcolor\": \"white\", \"linecolor\": \"white\", \"ticks\": \"\"}}, \"scene\": {\"xaxis\": {\"backgroundcolor\": \"#E5ECF6\", \"gridcolor\": \"white\", \"gridwidth\": 2, \"linecolor\": \"white\", \"showbackground\": true, \"ticks\": \"\", \"zerolinecolor\": \"white\"}, \"yaxis\": {\"backgroundcolor\": \"#E5ECF6\", \"gridcolor\": \"white\", \"gridwidth\": 2, \"linecolor\": \"white\", \"showbackground\": true, \"ticks\": \"\", \"zerolinecolor\": \"white\"}, \"zaxis\": {\"backgroundcolor\": \"#E5ECF6\", \"gridcolor\": \"white\", \"gridwidth\": 2, \"linecolor\": \"white\", \"showbackground\": true, \"ticks\": \"\", \"zerolinecolor\": \"white\"}}, \"shapedefaults\": {\"line\": {\"color\": \"#2a3f5f\"}}, \"ternary\": {\"aaxis\": {\"gridcolor\": \"white\", \"linecolor\": \"white\", \"ticks\": \"\"}, \"baxis\": {\"gridcolor\": \"white\", \"linecolor\": \"white\", \"ticks\": \"\"}, \"bgcolor\": \"#E5ECF6\", \"caxis\": {\"gridcolor\": \"white\", \"linecolor\": \"white\", \"ticks\": \"\"}}, \"title\": {\"x\": 0.05}, \"xaxis\": {\"automargin\": true, \"gridcolor\": \"white\", \"linecolor\": \"white\", \"ticks\": \"\", \"title\": {\"standoff\": 15}, \"zerolinecolor\": \"white\", \"zerolinewidth\": 2}, \"yaxis\": {\"automargin\": true, \"gridcolor\": \"white\", \"linecolor\": \"white\", \"ticks\": \"\", \"title\": {\"standoff\": 15}, \"zerolinecolor\": \"white\", \"zerolinewidth\": 2}}}, \"title\": {\"text\": \"Recovered\"}, \"xaxis\": {\"anchor\": \"y\", \"domain\": [0.0, 1.0], \"title\": {\"text\": \"3/30/20\"}}, \"yaxis\": {\"anchor\": \"x\", \"domain\": [0.0, 1.0], \"title\": {\"text\": \"Country/Region\"}}},\n",
       "                        {\"responsive\": true}\n",
       "                    ).then(function(){\n",
       "                            \n",
       "var gd = document.getElementById('3bb2fe51-a1ba-49c2-a261-ecbce40f9008');\n",
       "var x = new MutationObserver(function (mutations, observer) {{\n",
       "        var display = window.getComputedStyle(gd).display;\n",
       "        if (!display || display === 'none') {{\n",
       "            console.log([gd, 'removed!']);\n",
       "            Plotly.purge(gd);\n",
       "            observer.disconnect();\n",
       "        }}\n",
       "}});\n",
       "\n",
       "// Listen for the removal of the full notebook cells\n",
       "var notebookContainer = gd.closest('#notebook-container');\n",
       "if (notebookContainer) {{\n",
       "    x.observe(notebookContainer, {childList: true});\n",
       "}}\n",
       "\n",
       "// Listen for the clearing of the current output cell\n",
       "var outputEl = gd.closest('.output');\n",
       "if (outputEl) {{\n",
       "    x.observe(outputEl, {childList: true});\n",
       "}}\n",
       "\n",
       "                        })\n",
       "                };\n",
       "                });\n",
       "            </script>\n",
       "        </div>"
      ]
     },
     "metadata": {},
     "output_type": "display_data"
    }
   ],
   "source": [
    "fig = px.bar(recovered_subset_df.tail(15), y=\"Country/Region\", x=latestData, orientation='h', height=600,\n",
    "             title='Recovered', text=latestData)\n",
    "\n",
    "fig.update_traces(texttemplate='%{text:d}', textposition='outside')\n",
    "\n",
    "fig.show()"
   ]
  },
  {
   "cell_type": "code",
   "execution_count": 23,
   "metadata": {},
   "outputs": [],
   "source": [
    "import pandas as pd\n",
    "import requests"
   ]
  },
  {
   "cell_type": "code",
   "execution_count": 24,
   "metadata": {},
   "outputs": [],
   "source": [
    "result = requests.get(\"http://climatedataapi.worldbank.org/climateweb/rest/v1/country/mavg/tas/2020/2039/ZAF.json\")"
   ]
  },
  {
   "cell_type": "code",
   "execution_count": 25,
   "metadata": {},
   "outputs": [
    {
     "data": {
      "text/plain": [
       "200"
      ]
     },
     "execution_count": 25,
     "metadata": {},
     "output_type": "execute_result"
    }
   ],
   "source": [
    "result.status_code"
   ]
  },
  {
   "cell_type": "code",
   "execution_count": 26,
   "metadata": {},
   "outputs": [
    {
     "data": {
      "text/plain": [
       "[{'scenario': 'a2',\n",
       "  'gcm': 'bccr_bcm2_0',\n",
       "  'variable': 'tas',\n",
       "  'monthVals': [21.57174932,\n",
       "   21.47531875,\n",
       "   20.37666165,\n",
       "   18.21751124,\n",
       "   14.41777319,\n",
       "   11.47160059,\n",
       "   10.54278128,\n",
       "   12.26416576,\n",
       "   15.35319301,\n",
       "   17.92124223,\n",
       "   19.56959565,\n",
       "   20.75654758],\n",
       "  'fromYear': 2020,\n",
       "  'toYear': 2039},\n",
       " {'scenario': 'b1',\n",
       "  'gcm': 'bccr_bcm2_0',\n",
       "  'variable': 'tas',\n",
       "  'monthVals': [21.42149197,\n",
       "   21.36194221,\n",
       "   20.49744026,\n",
       "   18.30748515,\n",
       "   14.30237315,\n",
       "   11.28279332,\n",
       "   10.62410067,\n",
       "   11.90146808,\n",
       "   15.41715225,\n",
       "   18.37278841,\n",
       "   19.67652737,\n",
       "   20.99978825],\n",
       "  'fromYear': 2020,\n",
       "  'toYear': 2039},\n",
       " {'scenario': 'a2',\n",
       "  'gcm': 'cccma_cgcm3_1',\n",
       "  'variable': 'tas',\n",
       "  'monthVals': [24.79832988,\n",
       "   24.24732193,\n",
       "   22.61413636,\n",
       "   19.95269153,\n",
       "   15.34996438,\n",
       "   12.20509183,\n",
       "   11.32843267,\n",
       "   13.76033985,\n",
       "   16.41286422,\n",
       "   19.07810569,\n",
       "   21.81929047,\n",
       "   24.08986555],\n",
       "  'fromYear': 2020,\n",
       "  'toYear': 2039},\n",
       " {'scenario': 'b1',\n",
       "  'gcm': 'cccma_cgcm3_1',\n",
       "  'variable': 'tas',\n",
       "  'monthVals': [24.43571379,\n",
       "   24.11762658,\n",
       "   22.69885254,\n",
       "   19.7512369,\n",
       "   15.70248787,\n",
       "   12.39894633,\n",
       "   11.39546359,\n",
       "   12.95898749,\n",
       "   16.58232895,\n",
       "   19.79215412,\n",
       "   21.75955387,\n",
       "   23.98089786],\n",
       "  'fromYear': 2020,\n",
       "  'toYear': 2039},\n",
       " {'scenario': 'a2',\n",
       "  'gcm': 'cnrm_cm3',\n",
       "  'variable': 'tas',\n",
       "  'monthVals': [21.39296427,\n",
       "   21.38242013,\n",
       "   20.48822084,\n",
       "   17.98053788,\n",
       "   13.99234881,\n",
       "   10.48044072,\n",
       "   10.19462367,\n",
       "   12.48573895,\n",
       "   15.49608192,\n",
       "   18.25631029,\n",
       "   19.84610982,\n",
       "   20.70796235],\n",
       "  'fromYear': 2020,\n",
       "  'toYear': 2039},\n",
       " {'scenario': 'b1',\n",
       "  'gcm': 'cnrm_cm3',\n",
       "  'variable': 'tas',\n",
       "  'monthVals': [21.33236881,\n",
       "   21.38612646,\n",
       "   20.41144048,\n",
       "   17.86503321,\n",
       "   13.64217517,\n",
       "   10.54706247,\n",
       "   10.10190878,\n",
       "   12.16793014,\n",
       "   15.46687846,\n",
       "   17.94234856,\n",
       "   19.387217,\n",
       "   20.65735673],\n",
       "  'fromYear': 2020,\n",
       "  'toYear': 2039},\n",
       " {'scenario': 'a2',\n",
       "  'gcm': 'csiro_mk3_5',\n",
       "  'variable': 'tas',\n",
       "  'monthVals': [26.1101834,\n",
       "   26.04976234,\n",
       "   25.11488747,\n",
       "   22.50676743,\n",
       "   18.03025662,\n",
       "   15.7497378,\n",
       "   15.09977131,\n",
       "   16.6832892,\n",
       "   19.99507546,\n",
       "   22.25397289,\n",
       "   23.54089231,\n",
       "   24.86130197],\n",
       "  'fromYear': 2020,\n",
       "  'toYear': 2039},\n",
       " {'scenario': 'b1',\n",
       "  'gcm': 'csiro_mk3_5',\n",
       "  'variable': 'tas',\n",
       "  'monthVals': [18.09213008,\n",
       "   15.55839632,\n",
       "   14.88290468,\n",
       "   16.42975352,\n",
       "   19.56581645,\n",
       "   22.1257399,\n",
       "   23.2542899,\n",
       "   24.86553644,\n",
       "   26.04494367,\n",
       "   26.48349746,\n",
       "   25.05834214,\n",
       "   22.54667072],\n",
       "  'fromYear': 2020,\n",
       "  'toYear': 2039},\n",
       " {'scenario': 'a2',\n",
       "  'gcm': 'gfdl_cm2_0',\n",
       "  'variable': 'tas',\n",
       "  'monthVals': [21.863737768060208,\n",
       "   22.20644082828204,\n",
       "   21.50187527403327,\n",
       "   18.007420131141828,\n",
       "   14.353285808952249,\n",
       "   12.158578055247345,\n",
       "   11.608620779851224,\n",
       "   13.429544877031633,\n",
       "   16.374725964600206,\n",
       "   18.69936884666367,\n",
       "   20.382847377233265,\n",
       "   21.081250249128367],\n",
       "  'fromYear': 2020,\n",
       "  'toYear': 2039},\n",
       " {'scenario': 'b1',\n",
       "  'gcm': 'gfdl_cm2_0',\n",
       "  'variable': 'tas',\n",
       "  'monthVals': [22.003670828683678,\n",
       "   22.537014708216745,\n",
       "   21.292136678883878,\n",
       "   18.29530054209144,\n",
       "   14.1994635134298,\n",
       "   11.827499078237146,\n",
       "   11.728828274476122,\n",
       "   13.12051640724551,\n",
       "   16.19901446906857,\n",
       "   18.281022675181834,\n",
       "   19.990608059625114,\n",
       "   21.19164478535755],\n",
       "  'fromYear': 2020,\n",
       "  'toYear': 2039},\n",
       " {'scenario': 'a2',\n",
       "  'gcm': 'gfdl_cm2_1',\n",
       "  'variable': 'tas',\n",
       "  'monthVals': [22.098486452685094,\n",
       "   22.132288718706125,\n",
       "   21.026714091395917,\n",
       "   18.688873291016325,\n",
       "   14.90623878945959,\n",
       "   12.69481923628551,\n",
       "   12.742038026142042,\n",
       "   14.948721749442448,\n",
       "   17.804072788785714,\n",
       "   19.70854840959694,\n",
       "   20.49364922971755,\n",
       "   21.628401775752657],\n",
       "  'fromYear': 2020,\n",
       "  'toYear': 2039},\n",
       " {'scenario': 'b1',\n",
       "  'gcm': 'gfdl_cm2_1',\n",
       "  'variable': 'tas',\n",
       "  'monthVals': [22.011346933793675,\n",
       "   22.117449702057144,\n",
       "   20.72800305425102,\n",
       "   17.993762580719594,\n",
       "   14.236522441002041,\n",
       "   12.679914202007753,\n",
       "   12.830242546237143,\n",
       "   14.774194211373265,\n",
       "   17.667838583190207,\n",
       "   19.96221238739776,\n",
       "   19.88744868064592,\n",
       "   21.260395283602445],\n",
       "  'fromYear': 2020,\n",
       "  'toYear': 2039},\n",
       " {'scenario': 'a2',\n",
       "  'gcm': 'ingv_echam4',\n",
       "  'variable': 'tas',\n",
       "  'monthVals': [23.832785470140823,\n",
       "   23.589176100122454,\n",
       "   22.895217584097963,\n",
       "   20.97774521185714,\n",
       "   17.827548902868774,\n",
       "   15.58300345283449,\n",
       "   15.139076077207754,\n",
       "   17.016249053331432,\n",
       "   19.869325598892857,\n",
       "   21.99454980967142,\n",
       "   22.733826929212043,\n",
       "   23.412770796794277],\n",
       "  'fromYear': 2020,\n",
       "  'toYear': 2039},\n",
       " {'scenario': 'a2',\n",
       "  'gcm': 'inmcm3_0',\n",
       "  'variable': 'tas',\n",
       "  'monthVals': [23.279075155455104,\n",
       "   24.301144346895924,\n",
       "   23.14449325873673,\n",
       "   19.62104766223265,\n",
       "   14.994639493974486,\n",
       "   11.418683733260613,\n",
       "   10.336917176539592,\n",
       "   12.453418342429801,\n",
       "   16.196263527383874,\n",
       "   18.815790915977754,\n",
       "   20.112400599884698,\n",
       "   21.374520438048982],\n",
       "  'fromYear': 2020,\n",
       "  'toYear': 2039},\n",
       " {'scenario': 'b1',\n",
       "  'gcm': 'inmcm3_0',\n",
       "  'variable': 'tas',\n",
       "  'monthVals': [23.09290547274286,\n",
       "   23.752320581546943,\n",
       "   23.06133348114898,\n",
       "   19.27847165476959,\n",
       "   15.044783611689999,\n",
       "   11.269491390306126,\n",
       "   10.22388940928102,\n",
       "   11.97130600286204,\n",
       "   15.61992909956775,\n",
       "   18.031735790016537,\n",
       "   19.769184968908984,\n",
       "   21.479413713727343],\n",
       "  'fromYear': 2020,\n",
       "  'toYear': 2039},\n",
       " {'scenario': 'a2',\n",
       "  'gcm': 'ipsl_cm4',\n",
       "  'variable': 'tas',\n",
       "  'monthVals': [24.94881454779143,\n",
       "   25.00357553910673,\n",
       "   24.27339328065735,\n",
       "   21.429858772122042,\n",
       "   17.338208256941634,\n",
       "   14.010078897277959,\n",
       "   13.480878557478166,\n",
       "   14.562949667169798,\n",
       "   17.4136551837551,\n",
       "   19.975868692199384,\n",
       "   22.457663399833052,\n",
       "   24.09839801399326],\n",
       "  'fromYear': 2020,\n",
       "  'toYear': 2039},\n",
       " {'scenario': 'b1',\n",
       "  'gcm': 'ipsl_cm4',\n",
       "  'variable': 'tas',\n",
       "  'monthVals': [24.64358022261877,\n",
       "   24.591471146562252,\n",
       "   23.97043220364429,\n",
       "   21.112062415294908,\n",
       "   17.181776397081432,\n",
       "   14.187987658439388,\n",
       "   13.059253303373263,\n",
       "   14.688025649706127,\n",
       "   16.867165078925513,\n",
       "   19.82113896584225,\n",
       "   22.25934273855959,\n",
       "   23.871991838718973],\n",
       "  'fromYear': 2020,\n",
       "  'toYear': 2039},\n",
       " {'scenario': 'a2',\n",
       "  'gcm': 'miroc3_2_medres',\n",
       "  'variable': 'tas',\n",
       "  'monthVals': [22.591263128778976,\n",
       "   22.49927256058163,\n",
       "   21.420472437021836,\n",
       "   18.934980119974494,\n",
       "   15.089898557079179,\n",
       "   12.310735585741432,\n",
       "   11.367781658558163,\n",
       "   13.029123111642656,\n",
       "   15.663962227948778,\n",
       "   18.095332554408774,\n",
       "   20.113170390225104,\n",
       "   21.676878637194292],\n",
       "  'fromYear': 2020,\n",
       "  'toYear': 2039},\n",
       " {'scenario': 'b1',\n",
       "  'gcm': 'miroc3_2_medres',\n",
       "  'variable': 'tas',\n",
       "  'monthVals': [22.740570068360615,\n",
       "   22.143041493939183,\n",
       "   20.873918805807143,\n",
       "   18.440307617180206,\n",
       "   15.105811294243674,\n",
       "   12.369047826648776,\n",
       "   11.188188202525719,\n",
       "   12.906967474493674,\n",
       "   15.75212439712265,\n",
       "   18.359198122609182,\n",
       "   20.196581782133062,\n",
       "   21.597875478322244],\n",
       "  'fromYear': 2020,\n",
       "  'toYear': 2039},\n",
       " {'scenario': 'a2',\n",
       "  'gcm': 'miub_echo_g',\n",
       "  'variable': 'tas',\n",
       "  'monthVals': [23.969118079355724,\n",
       "   23.421823929762848,\n",
       "   21.945084552373263,\n",
       "   19.473874461885927,\n",
       "   16.541825897842248,\n",
       "   13.862265450609796,\n",
       "   13.58965939892061,\n",
       "   14.950089435188573,\n",
       "   17.588109230510202,\n",
       "   20.556462501995306,\n",
       "   21.912371577052443,\n",
       "   23.386048608887346],\n",
       "  'fromYear': 2020,\n",
       "  'toYear': 2039},\n",
       " {'scenario': 'b1',\n",
       "  'gcm': 'miub_echo_g',\n",
       "  'variable': 'tas',\n",
       "  'monthVals': [23.58746088767449,\n",
       "   23.27525423010919,\n",
       "   21.694160928530813,\n",
       "   19.38080581353041,\n",
       "   16.3409448740502,\n",
       "   14.009923195351838,\n",
       "   13.43145315988388,\n",
       "   14.966010268862043,\n",
       "   17.866841841709807,\n",
       "   20.254920803777953,\n",
       "   21.800065021115714,\n",
       "   23.063299685104898],\n",
       "  'fromYear': 2020,\n",
       "  'toYear': 2039},\n",
       " {'scenario': 'a2',\n",
       "  'gcm': 'mpi_echam5',\n",
       "  'variable': 'tas',\n",
       "  'monthVals': [24.28897530691878,\n",
       "   23.82887361487204,\n",
       "   22.66590351961225,\n",
       "   20.468456034756123,\n",
       "   17.06649032903898,\n",
       "   14.734062973331225,\n",
       "   14.386568030534896,\n",
       "   15.84234868262898,\n",
       "   18.685308962453675,\n",
       "   20.354852793168973,\n",
       "   22.486987055565113,\n",
       "   23.732358971426535],\n",
       "  'fromYear': 2020,\n",
       "  'toYear': 2039},\n",
       " {'scenario': 'b1',\n",
       "  'gcm': 'mpi_echam5',\n",
       "  'variable': 'tas',\n",
       "  'monthVals': [23.90502929686756,\n",
       "   23.776216468028775,\n",
       "   22.69487342056265,\n",
       "   19.841821164500203,\n",
       "   17.22241896025061,\n",
       "   14.6127605827547,\n",
       "   14.001560133329795,\n",
       "   16.17784648038939,\n",
       "   18.311070656288166,\n",
       "   20.387096171479794,\n",
       "   22.055837203043875,\n",
       "   23.464485012753066],\n",
       "  'fromYear': 2020,\n",
       "  'toYear': 2039},\n",
       " {'scenario': 'a2',\n",
       "  'gcm': 'mri_cgcm2_3_2a',\n",
       "  'variable': 'tas',\n",
       "  'monthVals': [24.46182313257286,\n",
       "   23.987314652420412,\n",
       "   22.66202031349552,\n",
       "   19.83121848592694,\n",
       "   16.107174620340405,\n",
       "   13.261494539216939,\n",
       "   12.51034670459939,\n",
       "   14.010762117344694,\n",
       "   16.73552158900613,\n",
       "   19.50067387795796,\n",
       "   21.88321234255531,\n",
       "   24.015635587731023],\n",
       "  'fromYear': 2020,\n",
       "  'toYear': 2039},\n",
       " {'scenario': 'b1',\n",
       "  'gcm': 'mri_cgcm2_3_2a',\n",
       "  'variable': 'tas',\n",
       "  'monthVals': [24.341794383768576,\n",
       "   23.610503527587756,\n",
       "   22.349472980110615,\n",
       "   19.848144531255308,\n",
       "   15.998456059673472,\n",
       "   13.058509670953468,\n",
       "   12.272726253583059,\n",
       "   14.182039221939387,\n",
       "   16.73615560726245,\n",
       "   19.700465611051225,\n",
       "   21.96199378188612,\n",
       "   23.919570611446122],\n",
       "  'fromYear': 2020,\n",
       "  'toYear': 2039},\n",
       " {'scenario': 'a2',\n",
       "  'gcm': 'ukmo_hadcm3',\n",
       "  'variable': 'tas',\n",
       "  'monthVals': [22.847930908204077,\n",
       "   22.482375164421835,\n",
       "   21.26953560965368,\n",
       "   18.391650764315717,\n",
       "   14.632555280414085,\n",
       "   11.74184682418041,\n",
       "   11.779031558913266,\n",
       "   14.169295953246124,\n",
       "   17.63309899154163,\n",
       "   20.971916977234496,\n",
       "   22.387791847701024,\n",
       "   22.51725613340265],\n",
       "  'fromYear': 2020,\n",
       "  'toYear': 2039},\n",
       " {'scenario': 'b1',\n",
       "  'gcm': 'ukmo_hadcm3',\n",
       "  'variable': 'tas',\n",
       "  'monthVals': [22.71990468549959,\n",
       "   22.49252194774755,\n",
       "   21.192474988047145,\n",
       "   18.08696513273102,\n",
       "   14.490377620779185,\n",
       "   12.060242322026737,\n",
       "   11.896281339685718,\n",
       "   13.78100897341306,\n",
       "   17.542496038944492,\n",
       "   20.698513108856325,\n",
       "   21.527673215289802,\n",
       "   22.166290283203672],\n",
       "  'fromYear': 2020,\n",
       "  'toYear': 2039},\n",
       " {'scenario': 'a2',\n",
       "  'gcm': 'ukmo_hadgem1',\n",
       "  'variable': 'tas',\n",
       "  'monthVals': [21.858320586535914,\n",
       "   21.798433887711013,\n",
       "   20.550692188501632,\n",
       "   17.6650533870751,\n",
       "   13.877624511718778,\n",
       "   11.446569325976737,\n",
       "   9.978693748006734,\n",
       "   11.30837888133959,\n",
       "   15.142707046198979,\n",
       "   17.88279381576714,\n",
       "   19.66711674904469,\n",
       "   20.937952781213262],\n",
       "  'fromYear': 2020,\n",
       "  'toYear': 2039}]"
      ]
     },
     "execution_count": 26,
     "metadata": {},
     "output_type": "execute_result"
    }
   ],
   "source": [
    "result.json()"
   ]
  },
  {
   "cell_type": "code",
   "execution_count": 27,
   "metadata": {},
   "outputs": [
    {
     "name": "stdout",
     "output_type": "stream",
     "text": [
      "http://climatedataapi.worldbank.org/climateweb/rest/v1/country/mavg/tas/2020/2039/ ISOALPHA.json\n",
      "http://climatedataapi.worldbank.org/climateweb/rest/v1/country/mavg/tas/2020/2039/AFG.json\n",
      "http://climatedataapi.worldbank.org/climateweb/rest/v1/country/mavg/tas/2020/2039/ALA.json\n",
      "http://climatedataapi.worldbank.org/climateweb/rest/v1/country/mavg/tas/2020/2039/ALB.json\n",
      "http://climatedataapi.worldbank.org/climateweb/rest/v1/country/mavg/tas/2020/2039/DZA.json\n",
      "http://climatedataapi.worldbank.org/climateweb/rest/v1/country/mavg/tas/2020/2039/ASM.json\n",
      "http://climatedataapi.worldbank.org/climateweb/rest/v1/country/mavg/tas/2020/2039/AND.json\n",
      "http://climatedataapi.worldbank.org/climateweb/rest/v1/country/mavg/tas/2020/2039/AGO.json\n",
      "http://climatedataapi.worldbank.org/climateweb/rest/v1/country/mavg/tas/2020/2039/AIA.json\n",
      "http://climatedataapi.worldbank.org/climateweb/rest/v1/country/mavg/tas/2020/2039/ATA.json\n",
      "http://climatedataapi.worldbank.org/climateweb/rest/v1/country/mavg/tas/2020/2039/ATG.json\n",
      "http://climatedataapi.worldbank.org/climateweb/rest/v1/country/mavg/tas/2020/2039/ARG.json\n",
      "http://climatedataapi.worldbank.org/climateweb/rest/v1/country/mavg/tas/2020/2039/ARM.json\n",
      "http://climatedataapi.worldbank.org/climateweb/rest/v1/country/mavg/tas/2020/2039/ABW.json\n",
      "http://climatedataapi.worldbank.org/climateweb/rest/v1/country/mavg/tas/2020/2039/AUS.json\n",
      "http://climatedataapi.worldbank.org/climateweb/rest/v1/country/mavg/tas/2020/2039/AUT.json\n",
      "http://climatedataapi.worldbank.org/climateweb/rest/v1/country/mavg/tas/2020/2039/AZE.json\n",
      "http://climatedataapi.worldbank.org/climateweb/rest/v1/country/mavg/tas/2020/2039/BHS.json\n",
      "http://climatedataapi.worldbank.org/climateweb/rest/v1/country/mavg/tas/2020/2039/BHR.json\n",
      "http://climatedataapi.worldbank.org/climateweb/rest/v1/country/mavg/tas/2020/2039/BGD.json\n",
      "http://climatedataapi.worldbank.org/climateweb/rest/v1/country/mavg/tas/2020/2039/BRB.json\n",
      "http://climatedataapi.worldbank.org/climateweb/rest/v1/country/mavg/tas/2020/2039/BLR.json\n",
      "http://climatedataapi.worldbank.org/climateweb/rest/v1/country/mavg/tas/2020/2039/BEL.json\n",
      "http://climatedataapi.worldbank.org/climateweb/rest/v1/country/mavg/tas/2020/2039/BLZ.json\n",
      "http://climatedataapi.worldbank.org/climateweb/rest/v1/country/mavg/tas/2020/2039/BEN.json\n",
      "http://climatedataapi.worldbank.org/climateweb/rest/v1/country/mavg/tas/2020/2039/BMU.json\n",
      "http://climatedataapi.worldbank.org/climateweb/rest/v1/country/mavg/tas/2020/2039/BTN.json\n",
      "http://climatedataapi.worldbank.org/climateweb/rest/v1/country/mavg/tas/2020/2039/BOL.json\n",
      "http://climatedataapi.worldbank.org/climateweb/rest/v1/country/mavg/tas/2020/2039/BES.json\n",
      "http://climatedataapi.worldbank.org/climateweb/rest/v1/country/mavg/tas/2020/2039/BIH.json\n",
      "http://climatedataapi.worldbank.org/climateweb/rest/v1/country/mavg/tas/2020/2039/BWA.json\n",
      "http://climatedataapi.worldbank.org/climateweb/rest/v1/country/mavg/tas/2020/2039/BVT.json\n",
      "http://climatedataapi.worldbank.org/climateweb/rest/v1/country/mavg/tas/2020/2039/BRA.json\n",
      "http://climatedataapi.worldbank.org/climateweb/rest/v1/country/mavg/tas/2020/2039/IOT.json\n",
      "http://climatedataapi.worldbank.org/climateweb/rest/v1/country/mavg/tas/2020/2039/VGB.json\n",
      "http://climatedataapi.worldbank.org/climateweb/rest/v1/country/mavg/tas/2020/2039/BRN.json\n",
      "http://climatedataapi.worldbank.org/climateweb/rest/v1/country/mavg/tas/2020/2039/BGR.json\n",
      "http://climatedataapi.worldbank.org/climateweb/rest/v1/country/mavg/tas/2020/2039/BFA.json\n",
      "http://climatedataapi.worldbank.org/climateweb/rest/v1/country/mavg/tas/2020/2039/BDI.json\n",
      "http://climatedataapi.worldbank.org/climateweb/rest/v1/country/mavg/tas/2020/2039/CPV.json\n",
      "http://climatedataapi.worldbank.org/climateweb/rest/v1/country/mavg/tas/2020/2039/KHM.json\n",
      "http://climatedataapi.worldbank.org/climateweb/rest/v1/country/mavg/tas/2020/2039/CMR.json\n",
      "http://climatedataapi.worldbank.org/climateweb/rest/v1/country/mavg/tas/2020/2039/CAN.json\n",
      "http://climatedataapi.worldbank.org/climateweb/rest/v1/country/mavg/tas/2020/2039/CYM.json\n",
      "http://climatedataapi.worldbank.org/climateweb/rest/v1/country/mavg/tas/2020/2039/CAF.json\n",
      "http://climatedataapi.worldbank.org/climateweb/rest/v1/country/mavg/tas/2020/2039/TCD.json\n",
      "http://climatedataapi.worldbank.org/climateweb/rest/v1/country/mavg/tas/2020/2039/CHL.json\n",
      "http://climatedataapi.worldbank.org/climateweb/rest/v1/country/mavg/tas/2020/2039/CHN.json\n",
      "http://climatedataapi.worldbank.org/climateweb/rest/v1/country/mavg/tas/2020/2039/HKG.json\n",
      "http://climatedataapi.worldbank.org/climateweb/rest/v1/country/mavg/tas/2020/2039/MAC.json\n",
      "http://climatedataapi.worldbank.org/climateweb/rest/v1/country/mavg/tas/2020/2039/CXR.json\n",
      "http://climatedataapi.worldbank.org/climateweb/rest/v1/country/mavg/tas/2020/2039/CCK.json\n",
      "http://climatedataapi.worldbank.org/climateweb/rest/v1/country/mavg/tas/2020/2039/COL.json\n",
      "http://climatedataapi.worldbank.org/climateweb/rest/v1/country/mavg/tas/2020/2039/COM.json\n",
      "http://climatedataapi.worldbank.org/climateweb/rest/v1/country/mavg/tas/2020/2039/COG.json\n",
      "http://climatedataapi.worldbank.org/climateweb/rest/v1/country/mavg/tas/2020/2039/COK.json\n",
      "http://climatedataapi.worldbank.org/climateweb/rest/v1/country/mavg/tas/2020/2039/CRI.json\n",
      "http://climatedataapi.worldbank.org/climateweb/rest/v1/country/mavg/tas/2020/2039/CIV.json\n",
      "http://climatedataapi.worldbank.org/climateweb/rest/v1/country/mavg/tas/2020/2039/HRV.json\n",
      "http://climatedataapi.worldbank.org/climateweb/rest/v1/country/mavg/tas/2020/2039/CUB.json\n",
      "http://climatedataapi.worldbank.org/climateweb/rest/v1/country/mavg/tas/2020/2039/CUW.json\n",
      "http://climatedataapi.worldbank.org/climateweb/rest/v1/country/mavg/tas/2020/2039/CYP.json\n",
      "http://climatedataapi.worldbank.org/climateweb/rest/v1/country/mavg/tas/2020/2039/CZE.json\n",
      "http://climatedataapi.worldbank.org/climateweb/rest/v1/country/mavg/tas/2020/2039/PRK.json\n",
      "http://climatedataapi.worldbank.org/climateweb/rest/v1/country/mavg/tas/2020/2039/COD.json\n",
      "http://climatedataapi.worldbank.org/climateweb/rest/v1/country/mavg/tas/2020/2039/DNK.json\n",
      "http://climatedataapi.worldbank.org/climateweb/rest/v1/country/mavg/tas/2020/2039/DJI.json\n",
      "http://climatedataapi.worldbank.org/climateweb/rest/v1/country/mavg/tas/2020/2039/DMA.json\n",
      "http://climatedataapi.worldbank.org/climateweb/rest/v1/country/mavg/tas/2020/2039/DOM.json\n",
      "http://climatedataapi.worldbank.org/climateweb/rest/v1/country/mavg/tas/2020/2039/ECU.json\n",
      "http://climatedataapi.worldbank.org/climateweb/rest/v1/country/mavg/tas/2020/2039/EGY.json\n",
      "http://climatedataapi.worldbank.org/climateweb/rest/v1/country/mavg/tas/2020/2039/SLV.json\n",
      "http://climatedataapi.worldbank.org/climateweb/rest/v1/country/mavg/tas/2020/2039/GNQ.json\n",
      "http://climatedataapi.worldbank.org/climateweb/rest/v1/country/mavg/tas/2020/2039/ERI.json\n",
      "http://climatedataapi.worldbank.org/climateweb/rest/v1/country/mavg/tas/2020/2039/EST.json\n",
      "http://climatedataapi.worldbank.org/climateweb/rest/v1/country/mavg/tas/2020/2039/SWZ.json\n",
      "http://climatedataapi.worldbank.org/climateweb/rest/v1/country/mavg/tas/2020/2039/ETH.json\n",
      "http://climatedataapi.worldbank.org/climateweb/rest/v1/country/mavg/tas/2020/2039/FLK.json\n",
      "http://climatedataapi.worldbank.org/climateweb/rest/v1/country/mavg/tas/2020/2039/FRO.json\n",
      "http://climatedataapi.worldbank.org/climateweb/rest/v1/country/mavg/tas/2020/2039/FJI.json\n",
      "http://climatedataapi.worldbank.org/climateweb/rest/v1/country/mavg/tas/2020/2039/FIN.json\n",
      "http://climatedataapi.worldbank.org/climateweb/rest/v1/country/mavg/tas/2020/2039/FRA.json\n",
      "http://climatedataapi.worldbank.org/climateweb/rest/v1/country/mavg/tas/2020/2039/GUF.json\n",
      "http://climatedataapi.worldbank.org/climateweb/rest/v1/country/mavg/tas/2020/2039/PYF.json\n",
      "http://climatedataapi.worldbank.org/climateweb/rest/v1/country/mavg/tas/2020/2039/ATF.json\n",
      "http://climatedataapi.worldbank.org/climateweb/rest/v1/country/mavg/tas/2020/2039/GAB.json\n",
      "http://climatedataapi.worldbank.org/climateweb/rest/v1/country/mavg/tas/2020/2039/GMB.json\n",
      "http://climatedataapi.worldbank.org/climateweb/rest/v1/country/mavg/tas/2020/2039/GEO.json\n",
      "http://climatedataapi.worldbank.org/climateweb/rest/v1/country/mavg/tas/2020/2039/DEU.json\n",
      "http://climatedataapi.worldbank.org/climateweb/rest/v1/country/mavg/tas/2020/2039/GHA.json\n",
      "http://climatedataapi.worldbank.org/climateweb/rest/v1/country/mavg/tas/2020/2039/GIB.json\n",
      "http://climatedataapi.worldbank.org/climateweb/rest/v1/country/mavg/tas/2020/2039/GRC.json\n",
      "http://climatedataapi.worldbank.org/climateweb/rest/v1/country/mavg/tas/2020/2039/GRL.json\n",
      "http://climatedataapi.worldbank.org/climateweb/rest/v1/country/mavg/tas/2020/2039/GRD.json\n",
      "http://climatedataapi.worldbank.org/climateweb/rest/v1/country/mavg/tas/2020/2039/GLP.json\n",
      "http://climatedataapi.worldbank.org/climateweb/rest/v1/country/mavg/tas/2020/2039/GUM.json\n",
      "http://climatedataapi.worldbank.org/climateweb/rest/v1/country/mavg/tas/2020/2039/GTM.json\n",
      "http://climatedataapi.worldbank.org/climateweb/rest/v1/country/mavg/tas/2020/2039/GGY.json\n",
      "http://climatedataapi.worldbank.org/climateweb/rest/v1/country/mavg/tas/2020/2039/GIN.json\n",
      "http://climatedataapi.worldbank.org/climateweb/rest/v1/country/mavg/tas/2020/2039/GNB.json\n",
      "http://climatedataapi.worldbank.org/climateweb/rest/v1/country/mavg/tas/2020/2039/GUY.json\n",
      "http://climatedataapi.worldbank.org/climateweb/rest/v1/country/mavg/tas/2020/2039/HTI.json\n",
      "http://climatedataapi.worldbank.org/climateweb/rest/v1/country/mavg/tas/2020/2039/HMD.json\n",
      "http://climatedataapi.worldbank.org/climateweb/rest/v1/country/mavg/tas/2020/2039/VAT.json\n",
      "http://climatedataapi.worldbank.org/climateweb/rest/v1/country/mavg/tas/2020/2039/HND.json\n",
      "http://climatedataapi.worldbank.org/climateweb/rest/v1/country/mavg/tas/2020/2039/HUN.json\n",
      "http://climatedataapi.worldbank.org/climateweb/rest/v1/country/mavg/tas/2020/2039/ISL.json\n",
      "http://climatedataapi.worldbank.org/climateweb/rest/v1/country/mavg/tas/2020/2039/IND.json\n",
      "http://climatedataapi.worldbank.org/climateweb/rest/v1/country/mavg/tas/2020/2039/IDN.json\n",
      "http://climatedataapi.worldbank.org/climateweb/rest/v1/country/mavg/tas/2020/2039/IRN.json\n",
      "http://climatedataapi.worldbank.org/climateweb/rest/v1/country/mavg/tas/2020/2039/IRQ.json\n",
      "http://climatedataapi.worldbank.org/climateweb/rest/v1/country/mavg/tas/2020/2039/IRL.json\n",
      "http://climatedataapi.worldbank.org/climateweb/rest/v1/country/mavg/tas/2020/2039/IMN.json\n",
      "http://climatedataapi.worldbank.org/climateweb/rest/v1/country/mavg/tas/2020/2039/ISR.json\n",
      "http://climatedataapi.worldbank.org/climateweb/rest/v1/country/mavg/tas/2020/2039/ITA.json\n",
      "http://climatedataapi.worldbank.org/climateweb/rest/v1/country/mavg/tas/2020/2039/JAM.json\n",
      "http://climatedataapi.worldbank.org/climateweb/rest/v1/country/mavg/tas/2020/2039/JPN.json\n",
      "http://climatedataapi.worldbank.org/climateweb/rest/v1/country/mavg/tas/2020/2039/JEY.json\n",
      "http://climatedataapi.worldbank.org/climateweb/rest/v1/country/mavg/tas/2020/2039/JOR.json\n",
      "http://climatedataapi.worldbank.org/climateweb/rest/v1/country/mavg/tas/2020/2039/KAZ.json\n",
      "http://climatedataapi.worldbank.org/climateweb/rest/v1/country/mavg/tas/2020/2039/KEN.json\n",
      "http://climatedataapi.worldbank.org/climateweb/rest/v1/country/mavg/tas/2020/2039/KIR.json\n",
      "http://climatedataapi.worldbank.org/climateweb/rest/v1/country/mavg/tas/2020/2039/KWT.json\n",
      "http://climatedataapi.worldbank.org/climateweb/rest/v1/country/mavg/tas/2020/2039/KGZ.json\n",
      "http://climatedataapi.worldbank.org/climateweb/rest/v1/country/mavg/tas/2020/2039/LAO.json\n",
      "http://climatedataapi.worldbank.org/climateweb/rest/v1/country/mavg/tas/2020/2039/LVA.json\n",
      "http://climatedataapi.worldbank.org/climateweb/rest/v1/country/mavg/tas/2020/2039/LBN.json\n",
      "http://climatedataapi.worldbank.org/climateweb/rest/v1/country/mavg/tas/2020/2039/LSO.json\n",
      "http://climatedataapi.worldbank.org/climateweb/rest/v1/country/mavg/tas/2020/2039/LBR.json\n",
      "http://climatedataapi.worldbank.org/climateweb/rest/v1/country/mavg/tas/2020/2039/LBY.json\n",
      "http://climatedataapi.worldbank.org/climateweb/rest/v1/country/mavg/tas/2020/2039/LIE.json\n",
      "http://climatedataapi.worldbank.org/climateweb/rest/v1/country/mavg/tas/2020/2039/LTU.json\n",
      "http://climatedataapi.worldbank.org/climateweb/rest/v1/country/mavg/tas/2020/2039/LUX.json\n",
      "http://climatedataapi.worldbank.org/climateweb/rest/v1/country/mavg/tas/2020/2039/MDG.json\n",
      "http://climatedataapi.worldbank.org/climateweb/rest/v1/country/mavg/tas/2020/2039/MWI.json\n",
      "http://climatedataapi.worldbank.org/climateweb/rest/v1/country/mavg/tas/2020/2039/MYS.json\n",
      "http://climatedataapi.worldbank.org/climateweb/rest/v1/country/mavg/tas/2020/2039/MDV.json\n",
      "http://climatedataapi.worldbank.org/climateweb/rest/v1/country/mavg/tas/2020/2039/MLI.json\n",
      "http://climatedataapi.worldbank.org/climateweb/rest/v1/country/mavg/tas/2020/2039/MLT.json\n",
      "http://climatedataapi.worldbank.org/climateweb/rest/v1/country/mavg/tas/2020/2039/MHL.json\n",
      "http://climatedataapi.worldbank.org/climateweb/rest/v1/country/mavg/tas/2020/2039/MTQ.json\n",
      "http://climatedataapi.worldbank.org/climateweb/rest/v1/country/mavg/tas/2020/2039/MRT.json\n",
      "http://climatedataapi.worldbank.org/climateweb/rest/v1/country/mavg/tas/2020/2039/MUS.json\n",
      "http://climatedataapi.worldbank.org/climateweb/rest/v1/country/mavg/tas/2020/2039/MYT.json\n",
      "http://climatedataapi.worldbank.org/climateweb/rest/v1/country/mavg/tas/2020/2039/MEX.json\n",
      "http://climatedataapi.worldbank.org/climateweb/rest/v1/country/mavg/tas/2020/2039/FSM.json\n",
      "http://climatedataapi.worldbank.org/climateweb/rest/v1/country/mavg/tas/2020/2039/MCO.json\n",
      "http://climatedataapi.worldbank.org/climateweb/rest/v1/country/mavg/tas/2020/2039/MNG.json\n",
      "http://climatedataapi.worldbank.org/climateweb/rest/v1/country/mavg/tas/2020/2039/MNE.json\n",
      "http://climatedataapi.worldbank.org/climateweb/rest/v1/country/mavg/tas/2020/2039/MSR.json\n",
      "http://climatedataapi.worldbank.org/climateweb/rest/v1/country/mavg/tas/2020/2039/MAR.json\n",
      "http://climatedataapi.worldbank.org/climateweb/rest/v1/country/mavg/tas/2020/2039/MOZ.json\n",
      "http://climatedataapi.worldbank.org/climateweb/rest/v1/country/mavg/tas/2020/2039/MMR.json\n",
      "http://climatedataapi.worldbank.org/climateweb/rest/v1/country/mavg/tas/2020/2039/NAM.json\n",
      "http://climatedataapi.worldbank.org/climateweb/rest/v1/country/mavg/tas/2020/2039/NRU.json\n",
      "http://climatedataapi.worldbank.org/climateweb/rest/v1/country/mavg/tas/2020/2039/NPL.json\n",
      "http://climatedataapi.worldbank.org/climateweb/rest/v1/country/mavg/tas/2020/2039/NLD.json\n",
      "http://climatedataapi.worldbank.org/climateweb/rest/v1/country/mavg/tas/2020/2039/NCL.json\n",
      "http://climatedataapi.worldbank.org/climateweb/rest/v1/country/mavg/tas/2020/2039/NZL.json\n",
      "http://climatedataapi.worldbank.org/climateweb/rest/v1/country/mavg/tas/2020/2039/NIC.json\n",
      "http://climatedataapi.worldbank.org/climateweb/rest/v1/country/mavg/tas/2020/2039/NER.json\n",
      "http://climatedataapi.worldbank.org/climateweb/rest/v1/country/mavg/tas/2020/2039/NGA.json\n",
      "http://climatedataapi.worldbank.org/climateweb/rest/v1/country/mavg/tas/2020/2039/NIU.json\n",
      "http://climatedataapi.worldbank.org/climateweb/rest/v1/country/mavg/tas/2020/2039/NFK.json\n",
      "http://climatedataapi.worldbank.org/climateweb/rest/v1/country/mavg/tas/2020/2039/MKD.json\n",
      "http://climatedataapi.worldbank.org/climateweb/rest/v1/country/mavg/tas/2020/2039/MNP.json\n",
      "http://climatedataapi.worldbank.org/climateweb/rest/v1/country/mavg/tas/2020/2039/NOR.json\n",
      "http://climatedataapi.worldbank.org/climateweb/rest/v1/country/mavg/tas/2020/2039/OMN.json\n",
      "http://climatedataapi.worldbank.org/climateweb/rest/v1/country/mavg/tas/2020/2039/PAK.json\n",
      "http://climatedataapi.worldbank.org/climateweb/rest/v1/country/mavg/tas/2020/2039/PLW.json\n",
      "http://climatedataapi.worldbank.org/climateweb/rest/v1/country/mavg/tas/2020/2039/PAN.json\n",
      "http://climatedataapi.worldbank.org/climateweb/rest/v1/country/mavg/tas/2020/2039/PNG.json\n",
      "http://climatedataapi.worldbank.org/climateweb/rest/v1/country/mavg/tas/2020/2039/PRY.json\n",
      "http://climatedataapi.worldbank.org/climateweb/rest/v1/country/mavg/tas/2020/2039/PER.json\n",
      "http://climatedataapi.worldbank.org/climateweb/rest/v1/country/mavg/tas/2020/2039/PHL.json\n",
      "http://climatedataapi.worldbank.org/climateweb/rest/v1/country/mavg/tas/2020/2039/PCN.json\n",
      "http://climatedataapi.worldbank.org/climateweb/rest/v1/country/mavg/tas/2020/2039/POL.json\n",
      "http://climatedataapi.worldbank.org/climateweb/rest/v1/country/mavg/tas/2020/2039/PRT.json\n",
      "http://climatedataapi.worldbank.org/climateweb/rest/v1/country/mavg/tas/2020/2039/PRI.json\n",
      "http://climatedataapi.worldbank.org/climateweb/rest/v1/country/mavg/tas/2020/2039/QAT.json\n",
      "http://climatedataapi.worldbank.org/climateweb/rest/v1/country/mavg/tas/2020/2039/KOR.json\n",
      "http://climatedataapi.worldbank.org/climateweb/rest/v1/country/mavg/tas/2020/2039/MDA.json\n",
      "http://climatedataapi.worldbank.org/climateweb/rest/v1/country/mavg/tas/2020/2039/REU.json\n",
      "http://climatedataapi.worldbank.org/climateweb/rest/v1/country/mavg/tas/2020/2039/ROU.json\n",
      "http://climatedataapi.worldbank.org/climateweb/rest/v1/country/mavg/tas/2020/2039/RUS.json\n",
      "http://climatedataapi.worldbank.org/climateweb/rest/v1/country/mavg/tas/2020/2039/RWA.json\n",
      "http://climatedataapi.worldbank.org/climateweb/rest/v1/country/mavg/tas/2020/2039/BLM.json\n",
      "http://climatedataapi.worldbank.org/climateweb/rest/v1/country/mavg/tas/2020/2039/SHN.json\n",
      "http://climatedataapi.worldbank.org/climateweb/rest/v1/country/mavg/tas/2020/2039/KNA.json\n",
      "http://climatedataapi.worldbank.org/climateweb/rest/v1/country/mavg/tas/2020/2039/LCA.json\n",
      "http://climatedataapi.worldbank.org/climateweb/rest/v1/country/mavg/tas/2020/2039/MAF.json\n",
      "http://climatedataapi.worldbank.org/climateweb/rest/v1/country/mavg/tas/2020/2039/SPM.json\n",
      "http://climatedataapi.worldbank.org/climateweb/rest/v1/country/mavg/tas/2020/2039/VCT.json\n",
      "http://climatedataapi.worldbank.org/climateweb/rest/v1/country/mavg/tas/2020/2039/WSM.json\n",
      "http://climatedataapi.worldbank.org/climateweb/rest/v1/country/mavg/tas/2020/2039/SMR.json\n",
      "http://climatedataapi.worldbank.org/climateweb/rest/v1/country/mavg/tas/2020/2039/STP.json\n",
      "http://climatedataapi.worldbank.org/climateweb/rest/v1/country/mavg/tas/2020/2039/.json\n",
      "http://climatedataapi.worldbank.org/climateweb/rest/v1/country/mavg/tas/2020/2039/SAU.json\n",
      "http://climatedataapi.worldbank.org/climateweb/rest/v1/country/mavg/tas/2020/2039/SEN.json\n",
      "http://climatedataapi.worldbank.org/climateweb/rest/v1/country/mavg/tas/2020/2039/SRB.json\n",
      "http://climatedataapi.worldbank.org/climateweb/rest/v1/country/mavg/tas/2020/2039/SYC.json\n",
      "http://climatedataapi.worldbank.org/climateweb/rest/v1/country/mavg/tas/2020/2039/SLE.json\n",
      "http://climatedataapi.worldbank.org/climateweb/rest/v1/country/mavg/tas/2020/2039/SGP.json\n",
      "http://climatedataapi.worldbank.org/climateweb/rest/v1/country/mavg/tas/2020/2039/SXM.json\n",
      "http://climatedataapi.worldbank.org/climateweb/rest/v1/country/mavg/tas/2020/2039/SVK.json\n",
      "http://climatedataapi.worldbank.org/climateweb/rest/v1/country/mavg/tas/2020/2039/SVN.json\n",
      "http://climatedataapi.worldbank.org/climateweb/rest/v1/country/mavg/tas/2020/2039/SLB.json\n",
      "http://climatedataapi.worldbank.org/climateweb/rest/v1/country/mavg/tas/2020/2039/SOM.json\n",
      "http://climatedataapi.worldbank.org/climateweb/rest/v1/country/mavg/tas/2020/2039/ZAF.json\n",
      "http://climatedataapi.worldbank.org/climateweb/rest/v1/country/mavg/tas/2020/2039/SGS.json\n",
      "http://climatedataapi.worldbank.org/climateweb/rest/v1/country/mavg/tas/2020/2039/SSD.json\n",
      "http://climatedataapi.worldbank.org/climateweb/rest/v1/country/mavg/tas/2020/2039/ESP.json\n",
      "http://climatedataapi.worldbank.org/climateweb/rest/v1/country/mavg/tas/2020/2039/LKA.json\n",
      "http://climatedataapi.worldbank.org/climateweb/rest/v1/country/mavg/tas/2020/2039/PSE.json\n",
      "http://climatedataapi.worldbank.org/climateweb/rest/v1/country/mavg/tas/2020/2039/SDN.json\n",
      "http://climatedataapi.worldbank.org/climateweb/rest/v1/country/mavg/tas/2020/2039/SUR.json\n",
      "http://climatedataapi.worldbank.org/climateweb/rest/v1/country/mavg/tas/2020/2039/SJM.json\n",
      "http://climatedataapi.worldbank.org/climateweb/rest/v1/country/mavg/tas/2020/2039/SWE.json\n",
      "http://climatedataapi.worldbank.org/climateweb/rest/v1/country/mavg/tas/2020/2039/CHE.json\n",
      "http://climatedataapi.worldbank.org/climateweb/rest/v1/country/mavg/tas/2020/2039/SYR.json\n",
      "http://climatedataapi.worldbank.org/climateweb/rest/v1/country/mavg/tas/2020/2039/TJK.json\n",
      "http://climatedataapi.worldbank.org/climateweb/rest/v1/country/mavg/tas/2020/2039/THA.json\n",
      "http://climatedataapi.worldbank.org/climateweb/rest/v1/country/mavg/tas/2020/2039/TLS.json\n",
      "http://climatedataapi.worldbank.org/climateweb/rest/v1/country/mavg/tas/2020/2039/TGO.json\n",
      "http://climatedataapi.worldbank.org/climateweb/rest/v1/country/mavg/tas/2020/2039/TKL.json\n",
      "http://climatedataapi.worldbank.org/climateweb/rest/v1/country/mavg/tas/2020/2039/TON.json\n",
      "http://climatedataapi.worldbank.org/climateweb/rest/v1/country/mavg/tas/2020/2039/TTO.json\n",
      "http://climatedataapi.worldbank.org/climateweb/rest/v1/country/mavg/tas/2020/2039/TUN.json\n",
      "http://climatedataapi.worldbank.org/climateweb/rest/v1/country/mavg/tas/2020/2039/TUR.json\n",
      "http://climatedataapi.worldbank.org/climateweb/rest/v1/country/mavg/tas/2020/2039/TKM.json\n",
      "http://climatedataapi.worldbank.org/climateweb/rest/v1/country/mavg/tas/2020/2039/TCA.json\n",
      "http://climatedataapi.worldbank.org/climateweb/rest/v1/country/mavg/tas/2020/2039/TUV.json\n",
      "http://climatedataapi.worldbank.org/climateweb/rest/v1/country/mavg/tas/2020/2039/UGA.json\n",
      "http://climatedataapi.worldbank.org/climateweb/rest/v1/country/mavg/tas/2020/2039/UKR.json\n",
      "http://climatedataapi.worldbank.org/climateweb/rest/v1/country/mavg/tas/2020/2039/ARE.json\n",
      "http://climatedataapi.worldbank.org/climateweb/rest/v1/country/mavg/tas/2020/2039/GBR.json\n",
      "http://climatedataapi.worldbank.org/climateweb/rest/v1/country/mavg/tas/2020/2039/TZA.json\n",
      "http://climatedataapi.worldbank.org/climateweb/rest/v1/country/mavg/tas/2020/2039/UMI.json\n",
      "http://climatedataapi.worldbank.org/climateweb/rest/v1/country/mavg/tas/2020/2039/USA.json\n",
      "http://climatedataapi.worldbank.org/climateweb/rest/v1/country/mavg/tas/2020/2039/VIR.json\n",
      "http://climatedataapi.worldbank.org/climateweb/rest/v1/country/mavg/tas/2020/2039/URY.json\n",
      "http://climatedataapi.worldbank.org/climateweb/rest/v1/country/mavg/tas/2020/2039/UZB.json\n",
      "http://climatedataapi.worldbank.org/climateweb/rest/v1/country/mavg/tas/2020/2039/VUT.json\n",
      "http://climatedataapi.worldbank.org/climateweb/rest/v1/country/mavg/tas/2020/2039/VEN.json\n",
      "http://climatedataapi.worldbank.org/climateweb/rest/v1/country/mavg/tas/2020/2039/VNM.json\n",
      "http://climatedataapi.worldbank.org/climateweb/rest/v1/country/mavg/tas/2020/2039/WLF.json\n",
      "http://climatedataapi.worldbank.org/climateweb/rest/v1/country/mavg/tas/2020/2039/ESH.json\n",
      "http://climatedataapi.worldbank.org/climateweb/rest/v1/country/mavg/tas/2020/2039/YEM.json\n",
      "http://climatedataapi.worldbank.org/climateweb/rest/v1/country/mavg/tas/2020/2039/ZMB.json\n",
      "http://climatedataapi.worldbank.org/climateweb/rest/v1/country/mavg/tas/2020/2039/ZWE.json\n"
     ]
    }
   ],
   "source": [
    "from csv import reader\n",
    "\n",
    "\n",
    "# open file in read mode\n",
    "with open(\"C:\\\\Users\\\\tutun\\\\datasets\\\\UNSD.csv\", \"r\") as read_obj:\n",
    "    # pass the file object to reader() to get the reader object\n",
    "    csv_reader = reader(read_obj)\n",
    "    # Iterate over each row in the csv using reader object\n",
    "    for column in csv_reader:\n",
    "        # row variable is a list that represents a row in csv\n",
    "        url = (\"http://climatedataapi.worldbank.org/climateweb/rest/v1/country/mavg/tas/2020/2039/\"+ column[2] +\".json\") \n",
    "        print(url)\n",
    "    "
   ]
  },
  {
   "cell_type": "code",
   "execution_count": 28,
   "metadata": {},
   "outputs": [
    {
     "name": "stdout",
     "output_type": "stream",
     "text": [
      "http://climatedataapi.worldbank.org/climateweb/rest/v1/country/mavg/tas/2020/2039/ ISOALPHA.json\n",
      "http://climatedataapi.worldbank.org/climateweb/rest/v1/country/mavg/tas/2020/2039/AFG.json\n",
      "http://climatedataapi.worldbank.org/climateweb/rest/v1/country/mavg/tas/2020/2039/ALA.json\n",
      "http://climatedataapi.worldbank.org/climateweb/rest/v1/country/mavg/tas/2020/2039/ALB.json\n",
      "http://climatedataapi.worldbank.org/climateweb/rest/v1/country/mavg/tas/2020/2039/DZA.json\n",
      "http://climatedataapi.worldbank.org/climateweb/rest/v1/country/mavg/tas/2020/2039/ASM.json\n",
      "http://climatedataapi.worldbank.org/climateweb/rest/v1/country/mavg/tas/2020/2039/AND.json\n",
      "http://climatedataapi.worldbank.org/climateweb/rest/v1/country/mavg/tas/2020/2039/AGO.json\n",
      "http://climatedataapi.worldbank.org/climateweb/rest/v1/country/mavg/tas/2020/2039/AIA.json\n",
      "http://climatedataapi.worldbank.org/climateweb/rest/v1/country/mavg/tas/2020/2039/ATA.json\n",
      "http://climatedataapi.worldbank.org/climateweb/rest/v1/country/mavg/tas/2020/2039/ATG.json\n",
      "http://climatedataapi.worldbank.org/climateweb/rest/v1/country/mavg/tas/2020/2039/ARG.json\n",
      "http://climatedataapi.worldbank.org/climateweb/rest/v1/country/mavg/tas/2020/2039/ARM.json\n",
      "http://climatedataapi.worldbank.org/climateweb/rest/v1/country/mavg/tas/2020/2039/ABW.json\n",
      "http://climatedataapi.worldbank.org/climateweb/rest/v1/country/mavg/tas/2020/2039/AUS.json\n",
      "http://climatedataapi.worldbank.org/climateweb/rest/v1/country/mavg/tas/2020/2039/AUT.json\n",
      "http://climatedataapi.worldbank.org/climateweb/rest/v1/country/mavg/tas/2020/2039/AZE.json\n",
      "http://climatedataapi.worldbank.org/climateweb/rest/v1/country/mavg/tas/2020/2039/BHS.json\n",
      "http://climatedataapi.worldbank.org/climateweb/rest/v1/country/mavg/tas/2020/2039/BHR.json\n",
      "http://climatedataapi.worldbank.org/climateweb/rest/v1/country/mavg/tas/2020/2039/BGD.json\n",
      "http://climatedataapi.worldbank.org/climateweb/rest/v1/country/mavg/tas/2020/2039/BRB.json\n",
      "http://climatedataapi.worldbank.org/climateweb/rest/v1/country/mavg/tas/2020/2039/BLR.json\n",
      "http://climatedataapi.worldbank.org/climateweb/rest/v1/country/mavg/tas/2020/2039/BEL.json\n",
      "http://climatedataapi.worldbank.org/climateweb/rest/v1/country/mavg/tas/2020/2039/BLZ.json\n",
      "http://climatedataapi.worldbank.org/climateweb/rest/v1/country/mavg/tas/2020/2039/BEN.json\n",
      "http://climatedataapi.worldbank.org/climateweb/rest/v1/country/mavg/tas/2020/2039/BMU.json\n",
      "http://climatedataapi.worldbank.org/climateweb/rest/v1/country/mavg/tas/2020/2039/BTN.json\n",
      "http://climatedataapi.worldbank.org/climateweb/rest/v1/country/mavg/tas/2020/2039/BOL.json\n",
      "http://climatedataapi.worldbank.org/climateweb/rest/v1/country/mavg/tas/2020/2039/BES.json\n",
      "http://climatedataapi.worldbank.org/climateweb/rest/v1/country/mavg/tas/2020/2039/BIH.json\n",
      "http://climatedataapi.worldbank.org/climateweb/rest/v1/country/mavg/tas/2020/2039/BWA.json\n",
      "http://climatedataapi.worldbank.org/climateweb/rest/v1/country/mavg/tas/2020/2039/BVT.json\n",
      "http://climatedataapi.worldbank.org/climateweb/rest/v1/country/mavg/tas/2020/2039/BRA.json\n",
      "http://climatedataapi.worldbank.org/climateweb/rest/v1/country/mavg/tas/2020/2039/IOT.json\n",
      "http://climatedataapi.worldbank.org/climateweb/rest/v1/country/mavg/tas/2020/2039/VGB.json\n",
      "http://climatedataapi.worldbank.org/climateweb/rest/v1/country/mavg/tas/2020/2039/BRN.json\n",
      "http://climatedataapi.worldbank.org/climateweb/rest/v1/country/mavg/tas/2020/2039/BGR.json\n",
      "http://climatedataapi.worldbank.org/climateweb/rest/v1/country/mavg/tas/2020/2039/BFA.json\n",
      "http://climatedataapi.worldbank.org/climateweb/rest/v1/country/mavg/tas/2020/2039/BDI.json\n",
      "http://climatedataapi.worldbank.org/climateweb/rest/v1/country/mavg/tas/2020/2039/CPV.json\n",
      "http://climatedataapi.worldbank.org/climateweb/rest/v1/country/mavg/tas/2020/2039/KHM.json\n",
      "http://climatedataapi.worldbank.org/climateweb/rest/v1/country/mavg/tas/2020/2039/CMR.json\n",
      "http://climatedataapi.worldbank.org/climateweb/rest/v1/country/mavg/tas/2020/2039/CAN.json\n",
      "http://climatedataapi.worldbank.org/climateweb/rest/v1/country/mavg/tas/2020/2039/CYM.json\n",
      "http://climatedataapi.worldbank.org/climateweb/rest/v1/country/mavg/tas/2020/2039/CAF.json\n",
      "http://climatedataapi.worldbank.org/climateweb/rest/v1/country/mavg/tas/2020/2039/TCD.json\n",
      "http://climatedataapi.worldbank.org/climateweb/rest/v1/country/mavg/tas/2020/2039/CHL.json\n",
      "http://climatedataapi.worldbank.org/climateweb/rest/v1/country/mavg/tas/2020/2039/CHN.json\n",
      "http://climatedataapi.worldbank.org/climateweb/rest/v1/country/mavg/tas/2020/2039/HKG.json\n",
      "http://climatedataapi.worldbank.org/climateweb/rest/v1/country/mavg/tas/2020/2039/MAC.json\n",
      "http://climatedataapi.worldbank.org/climateweb/rest/v1/country/mavg/tas/2020/2039/CXR.json\n",
      "http://climatedataapi.worldbank.org/climateweb/rest/v1/country/mavg/tas/2020/2039/CCK.json\n",
      "http://climatedataapi.worldbank.org/climateweb/rest/v1/country/mavg/tas/2020/2039/COL.json\n",
      "http://climatedataapi.worldbank.org/climateweb/rest/v1/country/mavg/tas/2020/2039/COM.json\n",
      "http://climatedataapi.worldbank.org/climateweb/rest/v1/country/mavg/tas/2020/2039/COG.json\n",
      "http://climatedataapi.worldbank.org/climateweb/rest/v1/country/mavg/tas/2020/2039/COK.json\n",
      "http://climatedataapi.worldbank.org/climateweb/rest/v1/country/mavg/tas/2020/2039/CRI.json\n",
      "http://climatedataapi.worldbank.org/climateweb/rest/v1/country/mavg/tas/2020/2039/CIV.json\n",
      "http://climatedataapi.worldbank.org/climateweb/rest/v1/country/mavg/tas/2020/2039/HRV.json\n",
      "http://climatedataapi.worldbank.org/climateweb/rest/v1/country/mavg/tas/2020/2039/CUB.json\n",
      "http://climatedataapi.worldbank.org/climateweb/rest/v1/country/mavg/tas/2020/2039/CUW.json\n",
      "http://climatedataapi.worldbank.org/climateweb/rest/v1/country/mavg/tas/2020/2039/CYP.json\n",
      "http://climatedataapi.worldbank.org/climateweb/rest/v1/country/mavg/tas/2020/2039/CZE.json\n",
      "http://climatedataapi.worldbank.org/climateweb/rest/v1/country/mavg/tas/2020/2039/PRK.json\n",
      "http://climatedataapi.worldbank.org/climateweb/rest/v1/country/mavg/tas/2020/2039/COD.json\n",
      "http://climatedataapi.worldbank.org/climateweb/rest/v1/country/mavg/tas/2020/2039/DNK.json\n",
      "http://climatedataapi.worldbank.org/climateweb/rest/v1/country/mavg/tas/2020/2039/DJI.json\n",
      "http://climatedataapi.worldbank.org/climateweb/rest/v1/country/mavg/tas/2020/2039/DMA.json\n",
      "http://climatedataapi.worldbank.org/climateweb/rest/v1/country/mavg/tas/2020/2039/DOM.json\n",
      "http://climatedataapi.worldbank.org/climateweb/rest/v1/country/mavg/tas/2020/2039/ECU.json\n",
      "http://climatedataapi.worldbank.org/climateweb/rest/v1/country/mavg/tas/2020/2039/EGY.json\n",
      "http://climatedataapi.worldbank.org/climateweb/rest/v1/country/mavg/tas/2020/2039/SLV.json\n",
      "http://climatedataapi.worldbank.org/climateweb/rest/v1/country/mavg/tas/2020/2039/GNQ.json\n",
      "http://climatedataapi.worldbank.org/climateweb/rest/v1/country/mavg/tas/2020/2039/ERI.json\n",
      "http://climatedataapi.worldbank.org/climateweb/rest/v1/country/mavg/tas/2020/2039/EST.json\n",
      "http://climatedataapi.worldbank.org/climateweb/rest/v1/country/mavg/tas/2020/2039/SWZ.json\n",
      "http://climatedataapi.worldbank.org/climateweb/rest/v1/country/mavg/tas/2020/2039/ETH.json\n",
      "http://climatedataapi.worldbank.org/climateweb/rest/v1/country/mavg/tas/2020/2039/FLK.json\n",
      "http://climatedataapi.worldbank.org/climateweb/rest/v1/country/mavg/tas/2020/2039/FRO.json\n",
      "http://climatedataapi.worldbank.org/climateweb/rest/v1/country/mavg/tas/2020/2039/FJI.json\n",
      "http://climatedataapi.worldbank.org/climateweb/rest/v1/country/mavg/tas/2020/2039/FIN.json\n",
      "http://climatedataapi.worldbank.org/climateweb/rest/v1/country/mavg/tas/2020/2039/FRA.json\n",
      "http://climatedataapi.worldbank.org/climateweb/rest/v1/country/mavg/tas/2020/2039/GUF.json\n",
      "http://climatedataapi.worldbank.org/climateweb/rest/v1/country/mavg/tas/2020/2039/PYF.json\n",
      "http://climatedataapi.worldbank.org/climateweb/rest/v1/country/mavg/tas/2020/2039/ATF.json\n",
      "http://climatedataapi.worldbank.org/climateweb/rest/v1/country/mavg/tas/2020/2039/GAB.json\n",
      "http://climatedataapi.worldbank.org/climateweb/rest/v1/country/mavg/tas/2020/2039/GMB.json\n",
      "http://climatedataapi.worldbank.org/climateweb/rest/v1/country/mavg/tas/2020/2039/GEO.json\n",
      "http://climatedataapi.worldbank.org/climateweb/rest/v1/country/mavg/tas/2020/2039/DEU.json\n",
      "http://climatedataapi.worldbank.org/climateweb/rest/v1/country/mavg/tas/2020/2039/GHA.json\n"
     ]
    },
    {
     "name": "stdout",
     "output_type": "stream",
     "text": [
      "http://climatedataapi.worldbank.org/climateweb/rest/v1/country/mavg/tas/2020/2039/GIB.json\n",
      "http://climatedataapi.worldbank.org/climateweb/rest/v1/country/mavg/tas/2020/2039/GRC.json\n",
      "http://climatedataapi.worldbank.org/climateweb/rest/v1/country/mavg/tas/2020/2039/GRL.json\n",
      "http://climatedataapi.worldbank.org/climateweb/rest/v1/country/mavg/tas/2020/2039/GRD.json\n",
      "http://climatedataapi.worldbank.org/climateweb/rest/v1/country/mavg/tas/2020/2039/GLP.json\n",
      "http://climatedataapi.worldbank.org/climateweb/rest/v1/country/mavg/tas/2020/2039/GUM.json\n",
      "http://climatedataapi.worldbank.org/climateweb/rest/v1/country/mavg/tas/2020/2039/GTM.json\n",
      "http://climatedataapi.worldbank.org/climateweb/rest/v1/country/mavg/tas/2020/2039/GGY.json\n",
      "http://climatedataapi.worldbank.org/climateweb/rest/v1/country/mavg/tas/2020/2039/GIN.json\n",
      "http://climatedataapi.worldbank.org/climateweb/rest/v1/country/mavg/tas/2020/2039/GNB.json\n",
      "http://climatedataapi.worldbank.org/climateweb/rest/v1/country/mavg/tas/2020/2039/GUY.json\n",
      "http://climatedataapi.worldbank.org/climateweb/rest/v1/country/mavg/tas/2020/2039/HTI.json\n",
      "http://climatedataapi.worldbank.org/climateweb/rest/v1/country/mavg/tas/2020/2039/HMD.json\n",
      "http://climatedataapi.worldbank.org/climateweb/rest/v1/country/mavg/tas/2020/2039/VAT.json\n",
      "http://climatedataapi.worldbank.org/climateweb/rest/v1/country/mavg/tas/2020/2039/HND.json\n",
      "http://climatedataapi.worldbank.org/climateweb/rest/v1/country/mavg/tas/2020/2039/HUN.json\n",
      "http://climatedataapi.worldbank.org/climateweb/rest/v1/country/mavg/tas/2020/2039/ISL.json\n",
      "http://climatedataapi.worldbank.org/climateweb/rest/v1/country/mavg/tas/2020/2039/IND.json\n",
      "http://climatedataapi.worldbank.org/climateweb/rest/v1/country/mavg/tas/2020/2039/IDN.json\n",
      "http://climatedataapi.worldbank.org/climateweb/rest/v1/country/mavg/tas/2020/2039/IRN.json\n",
      "http://climatedataapi.worldbank.org/climateweb/rest/v1/country/mavg/tas/2020/2039/IRQ.json\n",
      "http://climatedataapi.worldbank.org/climateweb/rest/v1/country/mavg/tas/2020/2039/IRL.json\n",
      "http://climatedataapi.worldbank.org/climateweb/rest/v1/country/mavg/tas/2020/2039/IMN.json\n",
      "http://climatedataapi.worldbank.org/climateweb/rest/v1/country/mavg/tas/2020/2039/ISR.json\n",
      "http://climatedataapi.worldbank.org/climateweb/rest/v1/country/mavg/tas/2020/2039/ITA.json\n",
      "http://climatedataapi.worldbank.org/climateweb/rest/v1/country/mavg/tas/2020/2039/JAM.json\n",
      "http://climatedataapi.worldbank.org/climateweb/rest/v1/country/mavg/tas/2020/2039/JPN.json\n",
      "http://climatedataapi.worldbank.org/climateweb/rest/v1/country/mavg/tas/2020/2039/JEY.json\n",
      "http://climatedataapi.worldbank.org/climateweb/rest/v1/country/mavg/tas/2020/2039/JOR.json\n",
      "http://climatedataapi.worldbank.org/climateweb/rest/v1/country/mavg/tas/2020/2039/KAZ.json\n",
      "http://climatedataapi.worldbank.org/climateweb/rest/v1/country/mavg/tas/2020/2039/KEN.json\n",
      "http://climatedataapi.worldbank.org/climateweb/rest/v1/country/mavg/tas/2020/2039/KIR.json\n",
      "http://climatedataapi.worldbank.org/climateweb/rest/v1/country/mavg/tas/2020/2039/KWT.json\n",
      "http://climatedataapi.worldbank.org/climateweb/rest/v1/country/mavg/tas/2020/2039/KGZ.json\n",
      "http://climatedataapi.worldbank.org/climateweb/rest/v1/country/mavg/tas/2020/2039/LAO.json\n",
      "http://climatedataapi.worldbank.org/climateweb/rest/v1/country/mavg/tas/2020/2039/LVA.json\n",
      "http://climatedataapi.worldbank.org/climateweb/rest/v1/country/mavg/tas/2020/2039/LBN.json\n",
      "http://climatedataapi.worldbank.org/climateweb/rest/v1/country/mavg/tas/2020/2039/LSO.json\n",
      "http://climatedataapi.worldbank.org/climateweb/rest/v1/country/mavg/tas/2020/2039/LBR.json\n",
      "http://climatedataapi.worldbank.org/climateweb/rest/v1/country/mavg/tas/2020/2039/LBY.json\n",
      "http://climatedataapi.worldbank.org/climateweb/rest/v1/country/mavg/tas/2020/2039/LIE.json\n",
      "http://climatedataapi.worldbank.org/climateweb/rest/v1/country/mavg/tas/2020/2039/LTU.json\n",
      "http://climatedataapi.worldbank.org/climateweb/rest/v1/country/mavg/tas/2020/2039/LUX.json\n",
      "http://climatedataapi.worldbank.org/climateweb/rest/v1/country/mavg/tas/2020/2039/MDG.json\n",
      "http://climatedataapi.worldbank.org/climateweb/rest/v1/country/mavg/tas/2020/2039/MWI.json\n",
      "http://climatedataapi.worldbank.org/climateweb/rest/v1/country/mavg/tas/2020/2039/MYS.json\n",
      "http://climatedataapi.worldbank.org/climateweb/rest/v1/country/mavg/tas/2020/2039/MDV.json\n",
      "http://climatedataapi.worldbank.org/climateweb/rest/v1/country/mavg/tas/2020/2039/MLI.json\n",
      "http://climatedataapi.worldbank.org/climateweb/rest/v1/country/mavg/tas/2020/2039/MLT.json\n",
      "http://climatedataapi.worldbank.org/climateweb/rest/v1/country/mavg/tas/2020/2039/MHL.json\n",
      "http://climatedataapi.worldbank.org/climateweb/rest/v1/country/mavg/tas/2020/2039/MTQ.json\n",
      "http://climatedataapi.worldbank.org/climateweb/rest/v1/country/mavg/tas/2020/2039/MRT.json\n",
      "http://climatedataapi.worldbank.org/climateweb/rest/v1/country/mavg/tas/2020/2039/MUS.json\n",
      "http://climatedataapi.worldbank.org/climateweb/rest/v1/country/mavg/tas/2020/2039/MYT.json\n",
      "http://climatedataapi.worldbank.org/climateweb/rest/v1/country/mavg/tas/2020/2039/MEX.json\n",
      "http://climatedataapi.worldbank.org/climateweb/rest/v1/country/mavg/tas/2020/2039/FSM.json\n",
      "http://climatedataapi.worldbank.org/climateweb/rest/v1/country/mavg/tas/2020/2039/MCO.json\n",
      "http://climatedataapi.worldbank.org/climateweb/rest/v1/country/mavg/tas/2020/2039/MNG.json\n",
      "http://climatedataapi.worldbank.org/climateweb/rest/v1/country/mavg/tas/2020/2039/MNE.json\n",
      "http://climatedataapi.worldbank.org/climateweb/rest/v1/country/mavg/tas/2020/2039/MSR.json\n",
      "http://climatedataapi.worldbank.org/climateweb/rest/v1/country/mavg/tas/2020/2039/MAR.json\n",
      "http://climatedataapi.worldbank.org/climateweb/rest/v1/country/mavg/tas/2020/2039/MOZ.json\n",
      "http://climatedataapi.worldbank.org/climateweb/rest/v1/country/mavg/tas/2020/2039/MMR.json\n",
      "http://climatedataapi.worldbank.org/climateweb/rest/v1/country/mavg/tas/2020/2039/NAM.json\n",
      "http://climatedataapi.worldbank.org/climateweb/rest/v1/country/mavg/tas/2020/2039/NRU.json\n",
      "http://climatedataapi.worldbank.org/climateweb/rest/v1/country/mavg/tas/2020/2039/NPL.json\n",
      "http://climatedataapi.worldbank.org/climateweb/rest/v1/country/mavg/tas/2020/2039/NLD.json\n",
      "http://climatedataapi.worldbank.org/climateweb/rest/v1/country/mavg/tas/2020/2039/NCL.json\n",
      "http://climatedataapi.worldbank.org/climateweb/rest/v1/country/mavg/tas/2020/2039/NZL.json\n",
      "http://climatedataapi.worldbank.org/climateweb/rest/v1/country/mavg/tas/2020/2039/NIC.json\n",
      "http://climatedataapi.worldbank.org/climateweb/rest/v1/country/mavg/tas/2020/2039/NER.json\n",
      "http://climatedataapi.worldbank.org/climateweb/rest/v1/country/mavg/tas/2020/2039/NGA.json\n",
      "http://climatedataapi.worldbank.org/climateweb/rest/v1/country/mavg/tas/2020/2039/NIU.json\n",
      "http://climatedataapi.worldbank.org/climateweb/rest/v1/country/mavg/tas/2020/2039/NFK.json\n",
      "http://climatedataapi.worldbank.org/climateweb/rest/v1/country/mavg/tas/2020/2039/MKD.json\n",
      "http://climatedataapi.worldbank.org/climateweb/rest/v1/country/mavg/tas/2020/2039/MNP.json\n",
      "http://climatedataapi.worldbank.org/climateweb/rest/v1/country/mavg/tas/2020/2039/NOR.json\n",
      "http://climatedataapi.worldbank.org/climateweb/rest/v1/country/mavg/tas/2020/2039/OMN.json\n",
      "http://climatedataapi.worldbank.org/climateweb/rest/v1/country/mavg/tas/2020/2039/PAK.json\n",
      "http://climatedataapi.worldbank.org/climateweb/rest/v1/country/mavg/tas/2020/2039/PLW.json\n",
      "http://climatedataapi.worldbank.org/climateweb/rest/v1/country/mavg/tas/2020/2039/PAN.json\n",
      "http://climatedataapi.worldbank.org/climateweb/rest/v1/country/mavg/tas/2020/2039/PNG.json\n",
      "http://climatedataapi.worldbank.org/climateweb/rest/v1/country/mavg/tas/2020/2039/PRY.json\n",
      "http://climatedataapi.worldbank.org/climateweb/rest/v1/country/mavg/tas/2020/2039/PER.json\n",
      "http://climatedataapi.worldbank.org/climateweb/rest/v1/country/mavg/tas/2020/2039/PHL.json\n",
      "http://climatedataapi.worldbank.org/climateweb/rest/v1/country/mavg/tas/2020/2039/PCN.json\n",
      "http://climatedataapi.worldbank.org/climateweb/rest/v1/country/mavg/tas/2020/2039/POL.json\n",
      "http://climatedataapi.worldbank.org/climateweb/rest/v1/country/mavg/tas/2020/2039/PRT.json\n",
      "http://climatedataapi.worldbank.org/climateweb/rest/v1/country/mavg/tas/2020/2039/PRI.json\n",
      "http://climatedataapi.worldbank.org/climateweb/rest/v1/country/mavg/tas/2020/2039/QAT.json\n",
      "http://climatedataapi.worldbank.org/climateweb/rest/v1/country/mavg/tas/2020/2039/KOR.json\n"
     ]
    },
    {
     "name": "stdout",
     "output_type": "stream",
     "text": [
      "http://climatedataapi.worldbank.org/climateweb/rest/v1/country/mavg/tas/2020/2039/MDA.json\n",
      "http://climatedataapi.worldbank.org/climateweb/rest/v1/country/mavg/tas/2020/2039/REU.json\n",
      "http://climatedataapi.worldbank.org/climateweb/rest/v1/country/mavg/tas/2020/2039/ROU.json\n",
      "http://climatedataapi.worldbank.org/climateweb/rest/v1/country/mavg/tas/2020/2039/RUS.json\n",
      "http://climatedataapi.worldbank.org/climateweb/rest/v1/country/mavg/tas/2020/2039/RWA.json\n",
      "http://climatedataapi.worldbank.org/climateweb/rest/v1/country/mavg/tas/2020/2039/BLM.json\n",
      "http://climatedataapi.worldbank.org/climateweb/rest/v1/country/mavg/tas/2020/2039/SHN.json\n",
      "http://climatedataapi.worldbank.org/climateweb/rest/v1/country/mavg/tas/2020/2039/KNA.json\n",
      "http://climatedataapi.worldbank.org/climateweb/rest/v1/country/mavg/tas/2020/2039/LCA.json\n",
      "http://climatedataapi.worldbank.org/climateweb/rest/v1/country/mavg/tas/2020/2039/MAF.json\n",
      "http://climatedataapi.worldbank.org/climateweb/rest/v1/country/mavg/tas/2020/2039/SPM.json\n",
      "http://climatedataapi.worldbank.org/climateweb/rest/v1/country/mavg/tas/2020/2039/VCT.json\n",
      "http://climatedataapi.worldbank.org/climateweb/rest/v1/country/mavg/tas/2020/2039/WSM.json\n",
      "http://climatedataapi.worldbank.org/climateweb/rest/v1/country/mavg/tas/2020/2039/SMR.json\n",
      "http://climatedataapi.worldbank.org/climateweb/rest/v1/country/mavg/tas/2020/2039/STP.json\n",
      "http://climatedataapi.worldbank.org/climateweb/rest/v1/country/mavg/tas/2020/2039/.json\n",
      "http://climatedataapi.worldbank.org/climateweb/rest/v1/country/mavg/tas/2020/2039/SAU.json\n",
      "http://climatedataapi.worldbank.org/climateweb/rest/v1/country/mavg/tas/2020/2039/SEN.json\n",
      "http://climatedataapi.worldbank.org/climateweb/rest/v1/country/mavg/tas/2020/2039/SRB.json\n",
      "http://climatedataapi.worldbank.org/climateweb/rest/v1/country/mavg/tas/2020/2039/SYC.json\n",
      "http://climatedataapi.worldbank.org/climateweb/rest/v1/country/mavg/tas/2020/2039/SLE.json\n",
      "http://climatedataapi.worldbank.org/climateweb/rest/v1/country/mavg/tas/2020/2039/SGP.json\n",
      "http://climatedataapi.worldbank.org/climateweb/rest/v1/country/mavg/tas/2020/2039/SXM.json\n",
      "http://climatedataapi.worldbank.org/climateweb/rest/v1/country/mavg/tas/2020/2039/SVK.json\n",
      "http://climatedataapi.worldbank.org/climateweb/rest/v1/country/mavg/tas/2020/2039/SVN.json\n",
      "http://climatedataapi.worldbank.org/climateweb/rest/v1/country/mavg/tas/2020/2039/SLB.json\n",
      "http://climatedataapi.worldbank.org/climateweb/rest/v1/country/mavg/tas/2020/2039/SOM.json\n",
      "http://climatedataapi.worldbank.org/climateweb/rest/v1/country/mavg/tas/2020/2039/ZAF.json\n",
      "http://climatedataapi.worldbank.org/climateweb/rest/v1/country/mavg/tas/2020/2039/SGS.json\n",
      "http://climatedataapi.worldbank.org/climateweb/rest/v1/country/mavg/tas/2020/2039/SSD.json\n",
      "http://climatedataapi.worldbank.org/climateweb/rest/v1/country/mavg/tas/2020/2039/ESP.json\n",
      "http://climatedataapi.worldbank.org/climateweb/rest/v1/country/mavg/tas/2020/2039/LKA.json\n",
      "http://climatedataapi.worldbank.org/climateweb/rest/v1/country/mavg/tas/2020/2039/PSE.json\n",
      "http://climatedataapi.worldbank.org/climateweb/rest/v1/country/mavg/tas/2020/2039/SDN.json\n",
      "http://climatedataapi.worldbank.org/climateweb/rest/v1/country/mavg/tas/2020/2039/SUR.json\n",
      "http://climatedataapi.worldbank.org/climateweb/rest/v1/country/mavg/tas/2020/2039/SJM.json\n",
      "http://climatedataapi.worldbank.org/climateweb/rest/v1/country/mavg/tas/2020/2039/SWE.json\n",
      "http://climatedataapi.worldbank.org/climateweb/rest/v1/country/mavg/tas/2020/2039/CHE.json\n",
      "http://climatedataapi.worldbank.org/climateweb/rest/v1/country/mavg/tas/2020/2039/SYR.json\n",
      "http://climatedataapi.worldbank.org/climateweb/rest/v1/country/mavg/tas/2020/2039/TJK.json\n",
      "http://climatedataapi.worldbank.org/climateweb/rest/v1/country/mavg/tas/2020/2039/THA.json\n",
      "http://climatedataapi.worldbank.org/climateweb/rest/v1/country/mavg/tas/2020/2039/TLS.json\n",
      "http://climatedataapi.worldbank.org/climateweb/rest/v1/country/mavg/tas/2020/2039/TGO.json\n",
      "http://climatedataapi.worldbank.org/climateweb/rest/v1/country/mavg/tas/2020/2039/TKL.json\n",
      "http://climatedataapi.worldbank.org/climateweb/rest/v1/country/mavg/tas/2020/2039/TON.json\n",
      "http://climatedataapi.worldbank.org/climateweb/rest/v1/country/mavg/tas/2020/2039/TTO.json\n",
      "http://climatedataapi.worldbank.org/climateweb/rest/v1/country/mavg/tas/2020/2039/TUN.json\n",
      "http://climatedataapi.worldbank.org/climateweb/rest/v1/country/mavg/tas/2020/2039/TUR.json\n",
      "http://climatedataapi.worldbank.org/climateweb/rest/v1/country/mavg/tas/2020/2039/TKM.json\n",
      "http://climatedataapi.worldbank.org/climateweb/rest/v1/country/mavg/tas/2020/2039/TCA.json\n",
      "http://climatedataapi.worldbank.org/climateweb/rest/v1/country/mavg/tas/2020/2039/TUV.json\n",
      "http://climatedataapi.worldbank.org/climateweb/rest/v1/country/mavg/tas/2020/2039/UGA.json\n",
      "http://climatedataapi.worldbank.org/climateweb/rest/v1/country/mavg/tas/2020/2039/UKR.json\n",
      "http://climatedataapi.worldbank.org/climateweb/rest/v1/country/mavg/tas/2020/2039/ARE.json\n",
      "http://climatedataapi.worldbank.org/climateweb/rest/v1/country/mavg/tas/2020/2039/GBR.json\n",
      "http://climatedataapi.worldbank.org/climateweb/rest/v1/country/mavg/tas/2020/2039/TZA.json\n",
      "http://climatedataapi.worldbank.org/climateweb/rest/v1/country/mavg/tas/2020/2039/UMI.json\n",
      "http://climatedataapi.worldbank.org/climateweb/rest/v1/country/mavg/tas/2020/2039/USA.json\n",
      "http://climatedataapi.worldbank.org/climateweb/rest/v1/country/mavg/tas/2020/2039/VIR.json\n",
      "http://climatedataapi.worldbank.org/climateweb/rest/v1/country/mavg/tas/2020/2039/URY.json\n",
      "http://climatedataapi.worldbank.org/climateweb/rest/v1/country/mavg/tas/2020/2039/UZB.json\n",
      "http://climatedataapi.worldbank.org/climateweb/rest/v1/country/mavg/tas/2020/2039/VUT.json\n",
      "http://climatedataapi.worldbank.org/climateweb/rest/v1/country/mavg/tas/2020/2039/VEN.json\n",
      "http://climatedataapi.worldbank.org/climateweb/rest/v1/country/mavg/tas/2020/2039/VNM.json\n",
      "http://climatedataapi.worldbank.org/climateweb/rest/v1/country/mavg/tas/2020/2039/WLF.json\n",
      "http://climatedataapi.worldbank.org/climateweb/rest/v1/country/mavg/tas/2020/2039/ESH.json\n",
      "http://climatedataapi.worldbank.org/climateweb/rest/v1/country/mavg/tas/2020/2039/YEM.json\n",
      "http://climatedataapi.worldbank.org/climateweb/rest/v1/country/mavg/tas/2020/2039/ZMB.json\n",
      "http://climatedataapi.worldbank.org/climateweb/rest/v1/country/mavg/tas/2020/2039/ZWE.json\n"
     ]
    }
   ],
   "source": [
    "import pandas as pd\n",
    "from pandas.io.json import json_normalize\n",
    "import requests\n",
    "\n",
    "from csv import reader\n",
    "\n",
    "full_weather_df = pd.DataFrame()\n",
    "# open file in read mode\n",
    "with open(\"C:\\\\Users\\\\tutun\\\\datasets\\\\UNSD.csv\", \"r\") as read_obj:\n",
    "    # pass the file object to reader() to get the reader object\n",
    "    csv_reader = reader(read_obj)\n",
    "    # Iterate over each column in the csv using reader object\n",
    "    for column in csv_reader:\n",
    "        # row variable is a list that represents a row in csv\n",
    "        url = \"http://climatedataapi.worldbank.org/climateweb/rest/v1/country/mavg/tas/2020/2039/\"+  column[2] +\".json\"\n",
    "        print(url)\n",
    "        \n",
    "        try:\n",
    "            jsonData = requests.get(url).json()\n",
    "        except:\n",
    "            continue\n",
    "        temp_df = json_normalize(jsonData[0])\n",
    "        weather = pd.DataFrame(pd.Series(temp_df.loc[0,'monthVals'])).T\n",
    "        \n",
    "        temp_df = temp_df.drop(['monthVals'], axis=1).merge(weather, left_index=True, right_index=True)\n",
    "        temp_df['Country/Region'] = column[0]\n",
    "        \n",
    "        full_weather_df = full_weather_df.append(temp_df, sort=False).reset_index(drop=True)\n"
   ]
  },
  {
   "cell_type": "code",
   "execution_count": 55,
   "metadata": {
    "scrolled": true
   },
   "outputs": [
    {
     "data": {
      "text/html": [
       "<div>\n",
       "<style scoped>\n",
       "    .dataframe tbody tr th:only-of-type {\n",
       "        vertical-align: middle;\n",
       "    }\n",
       "\n",
       "    .dataframe tbody tr th {\n",
       "        vertical-align: top;\n",
       "    }\n",
       "\n",
       "    .dataframe thead th {\n",
       "        text-align: right;\n",
       "    }\n",
       "</style>\n",
       "<table border=\"1\" class=\"dataframe\">\n",
       "  <thead>\n",
       "    <tr style=\"text-align: right;\">\n",
       "      <th></th>\n",
       "      <th>scenario</th>\n",
       "      <th>gcm</th>\n",
       "      <th>variable</th>\n",
       "      <th>fromYear</th>\n",
       "      <th>toYear</th>\n",
       "      <th>Jan</th>\n",
       "      <th>Feb</th>\n",
       "      <th>Mar</th>\n",
       "      <th>Apr</th>\n",
       "      <th>May</th>\n",
       "      <th>June</th>\n",
       "      <th>July</th>\n",
       "      <th>Aug</th>\n",
       "      <th>Sep</th>\n",
       "      <th>Oct</th>\n",
       "      <th>Nov</th>\n",
       "      <th>Dec</th>\n",
       "      <th>Country/Region</th>\n",
       "    </tr>\n",
       "  </thead>\n",
       "  <tbody>\n",
       "    <tr>\n",
       "      <td>0</td>\n",
       "      <td>a2</td>\n",
       "      <td>bccr_bcm2_0</td>\n",
       "      <td>tas</td>\n",
       "      <td>2020</td>\n",
       "      <td>2039</td>\n",
       "      <td>-2.767197</td>\n",
       "      <td>-0.548585</td>\n",
       "      <td>4.159680</td>\n",
       "      <td>10.806025</td>\n",
       "      <td>16.378755</td>\n",
       "      <td>21.386592</td>\n",
       "      <td>23.972859</td>\n",
       "      <td>22.538873</td>\n",
       "      <td>17.729663</td>\n",
       "      <td>11.322484</td>\n",
       "      <td>4.798174</td>\n",
       "      <td>-0.630866</td>\n",
       "      <td>Afghanistan</td>\n",
       "    </tr>\n",
       "    <tr>\n",
       "      <td>1</td>\n",
       "      <td>a2</td>\n",
       "      <td>bccr_bcm2_0</td>\n",
       "      <td>tas</td>\n",
       "      <td>2020</td>\n",
       "      <td>2039</td>\n",
       "      <td>3.984985</td>\n",
       "      <td>3.737366</td>\n",
       "      <td>5.609039</td>\n",
       "      <td>10.048635</td>\n",
       "      <td>15.606720</td>\n",
       "      <td>21.493744</td>\n",
       "      <td>24.566467</td>\n",
       "      <td>24.313466</td>\n",
       "      <td>18.514252</td>\n",
       "      <td>13.195099</td>\n",
       "      <td>8.677063</td>\n",
       "      <td>5.584178</td>\n",
       "      <td>Albania</td>\n",
       "    </tr>\n",
       "    <tr>\n",
       "      <td>2</td>\n",
       "      <td>a2</td>\n",
       "      <td>bccr_bcm2_0</td>\n",
       "      <td>tas</td>\n",
       "      <td>2020</td>\n",
       "      <td>2039</td>\n",
       "      <td>7.798780</td>\n",
       "      <td>10.173181</td>\n",
       "      <td>15.925639</td>\n",
       "      <td>20.598157</td>\n",
       "      <td>24.878645</td>\n",
       "      <td>29.178544</td>\n",
       "      <td>31.519017</td>\n",
       "      <td>30.609523</td>\n",
       "      <td>27.256208</td>\n",
       "      <td>21.836153</td>\n",
       "      <td>15.321733</td>\n",
       "      <td>10.397603</td>\n",
       "      <td>Algeria</td>\n",
       "    </tr>\n",
       "    <tr>\n",
       "      <td>3</td>\n",
       "      <td>a2</td>\n",
       "      <td>bccr_bcm2_0</td>\n",
       "      <td>tas</td>\n",
       "      <td>2020</td>\n",
       "      <td>2039</td>\n",
       "      <td>27.423187</td>\n",
       "      <td>27.260406</td>\n",
       "      <td>27.377045</td>\n",
       "      <td>27.453857</td>\n",
       "      <td>27.098969</td>\n",
       "      <td>26.331512</td>\n",
       "      <td>25.636108</td>\n",
       "      <td>25.410919</td>\n",
       "      <td>25.830383</td>\n",
       "      <td>26.511078</td>\n",
       "      <td>27.047089</td>\n",
       "      <td>27.475311</td>\n",
       "      <td>American Samoa</td>\n",
       "    </tr>\n",
       "    <tr>\n",
       "      <td>4</td>\n",
       "      <td>a2</td>\n",
       "      <td>bccr_bcm2_0</td>\n",
       "      <td>tas</td>\n",
       "      <td>2020</td>\n",
       "      <td>2039</td>\n",
       "      <td>6.841522</td>\n",
       "      <td>7.071167</td>\n",
       "      <td>8.829193</td>\n",
       "      <td>11.092346</td>\n",
       "      <td>14.196716</td>\n",
       "      <td>18.138763</td>\n",
       "      <td>21.115906</td>\n",
       "      <td>20.722748</td>\n",
       "      <td>18.157959</td>\n",
       "      <td>13.944061</td>\n",
       "      <td>9.861420</td>\n",
       "      <td>8.562256</td>\n",
       "      <td>Andorra</td>\n",
       "    </tr>\n",
       "    <tr>\n",
       "      <td>5</td>\n",
       "      <td>a2</td>\n",
       "      <td>bccr_bcm2_0</td>\n",
       "      <td>tas</td>\n",
       "      <td>2020</td>\n",
       "      <td>2039</td>\n",
       "      <td>21.021239</td>\n",
       "      <td>21.281476</td>\n",
       "      <td>21.836814</td>\n",
       "      <td>21.897290</td>\n",
       "      <td>20.580410</td>\n",
       "      <td>19.324929</td>\n",
       "      <td>19.094606</td>\n",
       "      <td>20.922540</td>\n",
       "      <td>23.536807</td>\n",
       "      <td>23.783626</td>\n",
       "      <td>22.236418</td>\n",
       "      <td>21.290587</td>\n",
       "      <td>Angola</td>\n",
       "    </tr>\n",
       "    <tr>\n",
       "      <td>6</td>\n",
       "      <td>a2</td>\n",
       "      <td>bccr_bcm2_0</td>\n",
       "      <td>tas</td>\n",
       "      <td>2020</td>\n",
       "      <td>2039</td>\n",
       "      <td>24.211899</td>\n",
       "      <td>23.578949</td>\n",
       "      <td>23.490540</td>\n",
       "      <td>23.978729</td>\n",
       "      <td>24.801117</td>\n",
       "      <td>25.462036</td>\n",
       "      <td>26.384842</td>\n",
       "      <td>27.164673</td>\n",
       "      <td>27.367188</td>\n",
       "      <td>26.886047</td>\n",
       "      <td>26.170227</td>\n",
       "      <td>25.129028</td>\n",
       "      <td>Anguilla</td>\n",
       "    </tr>\n",
       "    <tr>\n",
       "      <td>7</td>\n",
       "      <td>a2</td>\n",
       "      <td>bccr_bcm2_0</td>\n",
       "      <td>tas</td>\n",
       "      <td>2020</td>\n",
       "      <td>2039</td>\n",
       "      <td>24.081802</td>\n",
       "      <td>23.449020</td>\n",
       "      <td>23.337967</td>\n",
       "      <td>23.764664</td>\n",
       "      <td>24.523590</td>\n",
       "      <td>25.198349</td>\n",
       "      <td>26.145645</td>\n",
       "      <td>26.947021</td>\n",
       "      <td>27.176880</td>\n",
       "      <td>26.731369</td>\n",
       "      <td>26.084290</td>\n",
       "      <td>25.025253</td>\n",
       "      <td>Antigua and Barbuda</td>\n",
       "    </tr>\n",
       "    <tr>\n",
       "      <td>8</td>\n",
       "      <td>a2</td>\n",
       "      <td>bccr_bcm2_0</td>\n",
       "      <td>tas</td>\n",
       "      <td>2020</td>\n",
       "      <td>2039</td>\n",
       "      <td>20.425845</td>\n",
       "      <td>20.170564</td>\n",
       "      <td>18.034764</td>\n",
       "      <td>14.207169</td>\n",
       "      <td>9.900703</td>\n",
       "      <td>6.985090</td>\n",
       "      <td>6.561861</td>\n",
       "      <td>7.949311</td>\n",
       "      <td>10.384039</td>\n",
       "      <td>13.120860</td>\n",
       "      <td>16.588035</td>\n",
       "      <td>19.280082</td>\n",
       "      <td>Argentina</td>\n",
       "    </tr>\n",
       "    <tr>\n",
       "      <td>9</td>\n",
       "      <td>a2</td>\n",
       "      <td>bccr_bcm2_0</td>\n",
       "      <td>tas</td>\n",
       "      <td>2020</td>\n",
       "      <td>2039</td>\n",
       "      <td>-2.632306</td>\n",
       "      <td>-2.521216</td>\n",
       "      <td>-0.622736</td>\n",
       "      <td>3.916010</td>\n",
       "      <td>10.735815</td>\n",
       "      <td>17.438586</td>\n",
       "      <td>20.433374</td>\n",
       "      <td>19.481543</td>\n",
       "      <td>14.898810</td>\n",
       "      <td>9.178943</td>\n",
       "      <td>3.592609</td>\n",
       "      <td>-0.523157</td>\n",
       "      <td>Armenia</td>\n",
       "    </tr>\n",
       "    <tr>\n",
       "      <td>10</td>\n",
       "      <td>a2</td>\n",
       "      <td>bccr_bcm2_0</td>\n",
       "      <td>tas</td>\n",
       "      <td>2020</td>\n",
       "      <td>2039</td>\n",
       "      <td>23.685699</td>\n",
       "      <td>23.492035</td>\n",
       "      <td>23.890137</td>\n",
       "      <td>24.465057</td>\n",
       "      <td>24.674774</td>\n",
       "      <td>24.553955</td>\n",
       "      <td>25.445496</td>\n",
       "      <td>26.044556</td>\n",
       "      <td>26.266418</td>\n",
       "      <td>25.886291</td>\n",
       "      <td>25.496307</td>\n",
       "      <td>24.302704</td>\n",
       "      <td>Aruba</td>\n",
       "    </tr>\n",
       "    <tr>\n",
       "      <td>11</td>\n",
       "      <td>a2</td>\n",
       "      <td>bccr_bcm2_0</td>\n",
       "      <td>tas</td>\n",
       "      <td>2020</td>\n",
       "      <td>2039</td>\n",
       "      <td>26.706863</td>\n",
       "      <td>26.137357</td>\n",
       "      <td>24.927437</td>\n",
       "      <td>22.580899</td>\n",
       "      <td>19.104645</td>\n",
       "      <td>15.799183</td>\n",
       "      <td>14.958577</td>\n",
       "      <td>16.420872</td>\n",
       "      <td>19.132238</td>\n",
       "      <td>22.295608</td>\n",
       "      <td>24.703913</td>\n",
       "      <td>25.746593</td>\n",
       "      <td>Australia</td>\n",
       "    </tr>\n",
       "  </tbody>\n",
       "</table>\n",
       "</div>"
      ],
      "text/plain": [
       "   scenario          gcm variable  fromYear  toYear        Jan        Feb  \\\n",
       "0        a2  bccr_bcm2_0      tas      2020    2039  -2.767197  -0.548585   \n",
       "1        a2  bccr_bcm2_0      tas      2020    2039   3.984985   3.737366   \n",
       "2        a2  bccr_bcm2_0      tas      2020    2039   7.798780  10.173181   \n",
       "3        a2  bccr_bcm2_0      tas      2020    2039  27.423187  27.260406   \n",
       "4        a2  bccr_bcm2_0      tas      2020    2039   6.841522   7.071167   \n",
       "5        a2  bccr_bcm2_0      tas      2020    2039  21.021239  21.281476   \n",
       "6        a2  bccr_bcm2_0      tas      2020    2039  24.211899  23.578949   \n",
       "7        a2  bccr_bcm2_0      tas      2020    2039  24.081802  23.449020   \n",
       "8        a2  bccr_bcm2_0      tas      2020    2039  20.425845  20.170564   \n",
       "9        a2  bccr_bcm2_0      tas      2020    2039  -2.632306  -2.521216   \n",
       "10       a2  bccr_bcm2_0      tas      2020    2039  23.685699  23.492035   \n",
       "11       a2  bccr_bcm2_0      tas      2020    2039  26.706863  26.137357   \n",
       "\n",
       "          Mar        Apr        May       June       July        Aug  \\\n",
       "0    4.159680  10.806025  16.378755  21.386592  23.972859  22.538873   \n",
       "1    5.609039  10.048635  15.606720  21.493744  24.566467  24.313466   \n",
       "2   15.925639  20.598157  24.878645  29.178544  31.519017  30.609523   \n",
       "3   27.377045  27.453857  27.098969  26.331512  25.636108  25.410919   \n",
       "4    8.829193  11.092346  14.196716  18.138763  21.115906  20.722748   \n",
       "5   21.836814  21.897290  20.580410  19.324929  19.094606  20.922540   \n",
       "6   23.490540  23.978729  24.801117  25.462036  26.384842  27.164673   \n",
       "7   23.337967  23.764664  24.523590  25.198349  26.145645  26.947021   \n",
       "8   18.034764  14.207169   9.900703   6.985090   6.561861   7.949311   \n",
       "9   -0.622736   3.916010  10.735815  17.438586  20.433374  19.481543   \n",
       "10  23.890137  24.465057  24.674774  24.553955  25.445496  26.044556   \n",
       "11  24.927437  22.580899  19.104645  15.799183  14.958577  16.420872   \n",
       "\n",
       "          Sep        Oct        Nov        Dec       Country/Region  \n",
       "0   17.729663  11.322484   4.798174  -0.630866          Afghanistan  \n",
       "1   18.514252  13.195099   8.677063   5.584178              Albania  \n",
       "2   27.256208  21.836153  15.321733  10.397603              Algeria  \n",
       "3   25.830383  26.511078  27.047089  27.475311       American Samoa  \n",
       "4   18.157959  13.944061   9.861420   8.562256              Andorra  \n",
       "5   23.536807  23.783626  22.236418  21.290587               Angola  \n",
       "6   27.367188  26.886047  26.170227  25.129028             Anguilla  \n",
       "7   27.176880  26.731369  26.084290  25.025253  Antigua and Barbuda  \n",
       "8   10.384039  13.120860  16.588035  19.280082            Argentina  \n",
       "9   14.898810   9.178943   3.592609  -0.523157              Armenia  \n",
       "10  26.266418  25.886291  25.496307  24.302704                Aruba  \n",
       "11  19.132238  22.295608  24.703913  25.746593            Australia  "
      ]
     },
     "execution_count": 55,
     "metadata": {},
     "output_type": "execute_result"
    }
   ],
   "source": [
    "monthDict = {0:'Jan',1:'Feb',2:'Mar',3:'Apr',4:'May',5:'June',6:'July',\n",
    "             7:'Aug',8:'Sep',9:'Oct',10:'Nov',11:'Dec'}\n",
    "\n",
    "        \n",
    "full_weather_df = full_weather_df.rename(columns=monthDict)   \n",
    "\n",
    "replaceDict = {'Bolivia (Plurinational State of)':'Bolivia', \n",
    "               'Brunei Darussalam':'Brunei', \n",
    "               'Congo':'Congo (Brazzaville)',\n",
    "        'Côte d’Ivoire':\"Cote d'Ivoire\", \n",
    "       'Iran (Islamic Republic of)':'Iran', \n",
    "       'Russian Federation':'Russia', \n",
    "       'United States of America':'US',\n",
    "       'United Republic of Tanzania':'Tanzania',\n",
    "       'West Bank and Gaza':'Israel',\n",
    "       'Holy See':'Italy',\n",
    "       'Kosovo' :'Serbia',\n",
    "       'Taiwan' :'China',      \n",
    "       'Myanmar':'Burma',\n",
    "       'Congo (Kinshasa)':'Democratic Repuplic of the Congo',    \n",
    "       'Korea South':'South Korea',   \n",
    "       'United Kingdom of Great Britain and Northern Ireland':'United Kingdom', \n",
    "       'Venezuela (Bolivarian Republic of)':'Venezuela', \n",
    "       'Viet Nam':'Vietnam'}\n",
    "\n",
    "full_weather_df = full_weather_df.replace(replaceDict)\n",
    "\n",
    "full_weather_df.head(12)"
   ]
  },
  {
   "cell_type": "code",
   "execution_count": 47,
   "metadata": {},
   "outputs": [
    {
     "data": {
      "text/html": [
       "<div>\n",
       "<style scoped>\n",
       "    .dataframe tbody tr th:only-of-type {\n",
       "        vertical-align: middle;\n",
       "    }\n",
       "\n",
       "    .dataframe tbody tr th {\n",
       "        vertical-align: top;\n",
       "    }\n",
       "\n",
       "    .dataframe thead th {\n",
       "        text-align: right;\n",
       "    }\n",
       "</style>\n",
       "<table border=\"1\" class=\"dataframe\">\n",
       "  <thead>\n",
       "    <tr style=\"text-align: right;\">\n",
       "      <th></th>\n",
       "      <th>Country/Region</th>\n",
       "      <th>Date</th>\n",
       "      <th>Confirmed</th>\n",
       "      <th>Recovered</th>\n",
       "      <th>Deaths</th>\n",
       "      <th>Lat</th>\n",
       "      <th>Long</th>\n",
       "    </tr>\n",
       "  </thead>\n",
       "  <tbody>\n",
       "    <tr>\n",
       "      <td>0</td>\n",
       "      <td>Afghanistan</td>\n",
       "      <td>1/22/20</td>\n",
       "      <td>0</td>\n",
       "      <td>0</td>\n",
       "      <td>0</td>\n",
       "      <td>33.0000</td>\n",
       "      <td>65.000000</td>\n",
       "    </tr>\n",
       "    <tr>\n",
       "      <td>1</td>\n",
       "      <td>Albania</td>\n",
       "      <td>1/22/20</td>\n",
       "      <td>0</td>\n",
       "      <td>0</td>\n",
       "      <td>0</td>\n",
       "      <td>41.1533</td>\n",
       "      <td>20.168300</td>\n",
       "    </tr>\n",
       "    <tr>\n",
       "      <td>2</td>\n",
       "      <td>Algeria</td>\n",
       "      <td>1/22/20</td>\n",
       "      <td>0</td>\n",
       "      <td>0</td>\n",
       "      <td>0</td>\n",
       "      <td>28.0339</td>\n",
       "      <td>1.659600</td>\n",
       "    </tr>\n",
       "    <tr>\n",
       "      <td>3</td>\n",
       "      <td>Andorra</td>\n",
       "      <td>1/22/20</td>\n",
       "      <td>0</td>\n",
       "      <td>0</td>\n",
       "      <td>0</td>\n",
       "      <td>42.5063</td>\n",
       "      <td>1.521800</td>\n",
       "    </tr>\n",
       "    <tr>\n",
       "      <td>4</td>\n",
       "      <td>Angola</td>\n",
       "      <td>1/22/20</td>\n",
       "      <td>0</td>\n",
       "      <td>0</td>\n",
       "      <td>0</td>\n",
       "      <td>-11.2027</td>\n",
       "      <td>17.873900</td>\n",
       "    </tr>\n",
       "    <tr>\n",
       "      <td>...</td>\n",
       "      <td>...</td>\n",
       "      <td>...</td>\n",
       "      <td>...</td>\n",
       "      <td>...</td>\n",
       "      <td>...</td>\n",
       "      <td>...</td>\n",
       "      <td>...</td>\n",
       "    </tr>\n",
       "    <tr>\n",
       "      <td>159</td>\n",
       "      <td>Lebanon</td>\n",
       "      <td>1/22/20</td>\n",
       "      <td>0</td>\n",
       "      <td>0</td>\n",
       "      <td>0</td>\n",
       "      <td>33.8547</td>\n",
       "      <td>35.862300</td>\n",
       "    </tr>\n",
       "    <tr>\n",
       "      <td>160</td>\n",
       "      <td>Liberia</td>\n",
       "      <td>1/22/20</td>\n",
       "      <td>0</td>\n",
       "      <td>0</td>\n",
       "      <td>0</td>\n",
       "      <td>6.4281</td>\n",
       "      <td>-9.429500</td>\n",
       "    </tr>\n",
       "    <tr>\n",
       "      <td>161</td>\n",
       "      <td>Libya</td>\n",
       "      <td>1/22/20</td>\n",
       "      <td>0</td>\n",
       "      <td>0</td>\n",
       "      <td>0</td>\n",
       "      <td>26.3351</td>\n",
       "      <td>17.228331</td>\n",
       "    </tr>\n",
       "    <tr>\n",
       "      <td>162</td>\n",
       "      <td>Liechtenstein</td>\n",
       "      <td>1/22/20</td>\n",
       "      <td>0</td>\n",
       "      <td>0</td>\n",
       "      <td>0</td>\n",
       "      <td>47.1400</td>\n",
       "      <td>9.550000</td>\n",
       "    </tr>\n",
       "    <tr>\n",
       "      <td>163</td>\n",
       "      <td>Lithuania</td>\n",
       "      <td>1/22/20</td>\n",
       "      <td>0</td>\n",
       "      <td>0</td>\n",
       "      <td>0</td>\n",
       "      <td>55.1694</td>\n",
       "      <td>23.881300</td>\n",
       "    </tr>\n",
       "  </tbody>\n",
       "</table>\n",
       "<p>100 rows × 7 columns</p>\n",
       "</div>"
      ],
      "text/plain": [
       "    Country/Region     Date  Confirmed  Recovered  Deaths      Lat       Long\n",
       "0      Afghanistan  1/22/20          0          0       0  33.0000  65.000000\n",
       "1          Albania  1/22/20          0          0       0  41.1533  20.168300\n",
       "2          Algeria  1/22/20          0          0       0  28.0339   1.659600\n",
       "3          Andorra  1/22/20          0          0       0  42.5063   1.521800\n",
       "4           Angola  1/22/20          0          0       0 -11.2027  17.873900\n",
       "..             ...      ...        ...        ...     ...      ...        ...\n",
       "159        Lebanon  1/22/20          0          0       0  33.8547  35.862300\n",
       "160        Liberia  1/22/20          0          0       0   6.4281  -9.429500\n",
       "161          Libya  1/22/20          0          0       0  26.3351  17.228331\n",
       "162  Liechtenstein  1/22/20          0          0       0  47.1400   9.550000\n",
       "163      Lithuania  1/22/20          0          0       0  55.1694  23.881300\n",
       "\n",
       "[100 rows x 7 columns]"
      ]
     },
     "execution_count": 47,
     "metadata": {},
     "output_type": "execute_result"
    }
   ],
   "source": [
    "confirmed_df2 = confirmed_df_sum.melt(id_vars=[\"Country/Region\"], \n",
    "        var_name=\"Date\", \n",
    "        value_name=\"Confirmed\")\n",
    "\n",
    "recovered_df2 = recovered_df_sum.melt(id_vars=[\"Country/Region\"], \n",
    "        var_name=\"Date\", \n",
    "        value_name=\"Recovered\")\n",
    "\n",
    "deaths_df2 = deaths_df_sum.melt(id_vars=[\"Country/Region\"], \n",
    "        var_name=\"Date\", \n",
    "        value_name=\"Deaths\")\n",
    "\n",
    "full_df3 = confirmed_df2.merge(recovered_df2, how='left', on=['Country/Region', 'Date'])\n",
    "\n",
    "full_df3 = full_df3.merge(deaths_df2, how='left', on=['Country/Region', 'Date'])\n",
    "full_df3 = full_df3.merge(confirmed_df[['Country/Region', 'Lat', 'Long']], how='left', on='Country/Region')\n",
    "\n",
    "full_df3 = full_df3.drop_duplicates(subset=['Country/Region', 'Date'])\n",
    "\n",
    "full_df3.head(100)"
   ]
  },
  {
   "cell_type": "code",
   "execution_count": 48,
   "metadata": {
    "scrolled": true
   },
   "outputs": [
    {
     "data": {
      "text/html": [
       "<div>\n",
       "<style scoped>\n",
       "    .dataframe tbody tr th:only-of-type {\n",
       "        vertical-align: middle;\n",
       "    }\n",
       "\n",
       "    .dataframe tbody tr th {\n",
       "        vertical-align: top;\n",
       "    }\n",
       "\n",
       "    .dataframe thead th {\n",
       "        text-align: right;\n",
       "    }\n",
       "</style>\n",
       "<table border=\"1\" class=\"dataframe\">\n",
       "  <thead>\n",
       "    <tr style=\"text-align: right;\">\n",
       "      <th></th>\n",
       "      <th>Country/Region</th>\n",
       "      <th>Date</th>\n",
       "      <th>Confirmed</th>\n",
       "      <th>Recovered</th>\n",
       "      <th>Deaths</th>\n",
       "      <th>Lat</th>\n",
       "      <th>Long</th>\n",
       "      <th>scenario</th>\n",
       "      <th>gcm</th>\n",
       "      <th>variable</th>\n",
       "      <th>...</th>\n",
       "      <th>Mar</th>\n",
       "      <th>Apr</th>\n",
       "      <th>May</th>\n",
       "      <th>June</th>\n",
       "      <th>July</th>\n",
       "      <th>Aug</th>\n",
       "      <th>Sep</th>\n",
       "      <th>Oct</th>\n",
       "      <th>Nov</th>\n",
       "      <th>Dec</th>\n",
       "    </tr>\n",
       "  </thead>\n",
       "  <tbody>\n",
       "    <tr>\n",
       "      <td>0</td>\n",
       "      <td>Afghanistan</td>\n",
       "      <td>1/22/20</td>\n",
       "      <td>0</td>\n",
       "      <td>0</td>\n",
       "      <td>0</td>\n",
       "      <td>33.0000</td>\n",
       "      <td>65.0000</td>\n",
       "      <td>a2</td>\n",
       "      <td>bccr_bcm2_0</td>\n",
       "      <td>tas</td>\n",
       "      <td>...</td>\n",
       "      <td>4.159680</td>\n",
       "      <td>10.806025</td>\n",
       "      <td>16.378755</td>\n",
       "      <td>21.386592</td>\n",
       "      <td>23.972859</td>\n",
       "      <td>22.538873</td>\n",
       "      <td>17.729663</td>\n",
       "      <td>11.322484</td>\n",
       "      <td>4.798174</td>\n",
       "      <td>-0.630866</td>\n",
       "    </tr>\n",
       "    <tr>\n",
       "      <td>1</td>\n",
       "      <td>Albania</td>\n",
       "      <td>1/22/20</td>\n",
       "      <td>0</td>\n",
       "      <td>0</td>\n",
       "      <td>0</td>\n",
       "      <td>41.1533</td>\n",
       "      <td>20.1683</td>\n",
       "      <td>a2</td>\n",
       "      <td>bccr_bcm2_0</td>\n",
       "      <td>tas</td>\n",
       "      <td>...</td>\n",
       "      <td>5.609039</td>\n",
       "      <td>10.048635</td>\n",
       "      <td>15.606720</td>\n",
       "      <td>21.493744</td>\n",
       "      <td>24.566467</td>\n",
       "      <td>24.313466</td>\n",
       "      <td>18.514252</td>\n",
       "      <td>13.195099</td>\n",
       "      <td>8.677063</td>\n",
       "      <td>5.584178</td>\n",
       "    </tr>\n",
       "    <tr>\n",
       "      <td>2</td>\n",
       "      <td>Algeria</td>\n",
       "      <td>1/22/20</td>\n",
       "      <td>0</td>\n",
       "      <td>0</td>\n",
       "      <td>0</td>\n",
       "      <td>28.0339</td>\n",
       "      <td>1.6596</td>\n",
       "      <td>a2</td>\n",
       "      <td>bccr_bcm2_0</td>\n",
       "      <td>tas</td>\n",
       "      <td>...</td>\n",
       "      <td>15.925639</td>\n",
       "      <td>20.598157</td>\n",
       "      <td>24.878645</td>\n",
       "      <td>29.178544</td>\n",
       "      <td>31.519017</td>\n",
       "      <td>30.609523</td>\n",
       "      <td>27.256208</td>\n",
       "      <td>21.836153</td>\n",
       "      <td>15.321733</td>\n",
       "      <td>10.397603</td>\n",
       "    </tr>\n",
       "    <tr>\n",
       "      <td>3</td>\n",
       "      <td>Andorra</td>\n",
       "      <td>1/22/20</td>\n",
       "      <td>0</td>\n",
       "      <td>0</td>\n",
       "      <td>0</td>\n",
       "      <td>42.5063</td>\n",
       "      <td>1.5218</td>\n",
       "      <td>a2</td>\n",
       "      <td>bccr_bcm2_0</td>\n",
       "      <td>tas</td>\n",
       "      <td>...</td>\n",
       "      <td>8.829193</td>\n",
       "      <td>11.092346</td>\n",
       "      <td>14.196716</td>\n",
       "      <td>18.138763</td>\n",
       "      <td>21.115906</td>\n",
       "      <td>20.722748</td>\n",
       "      <td>18.157959</td>\n",
       "      <td>13.944061</td>\n",
       "      <td>9.861420</td>\n",
       "      <td>8.562256</td>\n",
       "    </tr>\n",
       "    <tr>\n",
       "      <td>4</td>\n",
       "      <td>Angola</td>\n",
       "      <td>1/22/20</td>\n",
       "      <td>0</td>\n",
       "      <td>0</td>\n",
       "      <td>0</td>\n",
       "      <td>-11.2027</td>\n",
       "      <td>17.8739</td>\n",
       "      <td>a2</td>\n",
       "      <td>bccr_bcm2_0</td>\n",
       "      <td>tas</td>\n",
       "      <td>...</td>\n",
       "      <td>21.836814</td>\n",
       "      <td>21.897290</td>\n",
       "      <td>20.580410</td>\n",
       "      <td>19.324929</td>\n",
       "      <td>19.094606</td>\n",
       "      <td>20.922540</td>\n",
       "      <td>23.536807</td>\n",
       "      <td>23.783626</td>\n",
       "      <td>22.236418</td>\n",
       "      <td>21.290587</td>\n",
       "    </tr>\n",
       "    <tr>\n",
       "      <td>5</td>\n",
       "      <td>Antigua and Barbuda</td>\n",
       "      <td>1/22/20</td>\n",
       "      <td>0</td>\n",
       "      <td>0</td>\n",
       "      <td>0</td>\n",
       "      <td>17.0608</td>\n",
       "      <td>-61.7964</td>\n",
       "      <td>a2</td>\n",
       "      <td>bccr_bcm2_0</td>\n",
       "      <td>tas</td>\n",
       "      <td>...</td>\n",
       "      <td>23.337967</td>\n",
       "      <td>23.764664</td>\n",
       "      <td>24.523590</td>\n",
       "      <td>25.198349</td>\n",
       "      <td>26.145645</td>\n",
       "      <td>26.947021</td>\n",
       "      <td>27.176880</td>\n",
       "      <td>26.731369</td>\n",
       "      <td>26.084290</td>\n",
       "      <td>25.025253</td>\n",
       "    </tr>\n",
       "    <tr>\n",
       "      <td>6</td>\n",
       "      <td>Argentina</td>\n",
       "      <td>1/22/20</td>\n",
       "      <td>0</td>\n",
       "      <td>0</td>\n",
       "      <td>0</td>\n",
       "      <td>-38.4161</td>\n",
       "      <td>-63.6167</td>\n",
       "      <td>a2</td>\n",
       "      <td>bccr_bcm2_0</td>\n",
       "      <td>tas</td>\n",
       "      <td>...</td>\n",
       "      <td>18.034764</td>\n",
       "      <td>14.207169</td>\n",
       "      <td>9.900703</td>\n",
       "      <td>6.985090</td>\n",
       "      <td>6.561861</td>\n",
       "      <td>7.949311</td>\n",
       "      <td>10.384039</td>\n",
       "      <td>13.120860</td>\n",
       "      <td>16.588035</td>\n",
       "      <td>19.280082</td>\n",
       "    </tr>\n",
       "    <tr>\n",
       "      <td>7</td>\n",
       "      <td>Armenia</td>\n",
       "      <td>1/22/20</td>\n",
       "      <td>0</td>\n",
       "      <td>0</td>\n",
       "      <td>0</td>\n",
       "      <td>40.0691</td>\n",
       "      <td>45.0382</td>\n",
       "      <td>a2</td>\n",
       "      <td>bccr_bcm2_0</td>\n",
       "      <td>tas</td>\n",
       "      <td>...</td>\n",
       "      <td>-0.622736</td>\n",
       "      <td>3.916010</td>\n",
       "      <td>10.735815</td>\n",
       "      <td>17.438586</td>\n",
       "      <td>20.433374</td>\n",
       "      <td>19.481543</td>\n",
       "      <td>14.898810</td>\n",
       "      <td>9.178943</td>\n",
       "      <td>3.592609</td>\n",
       "      <td>-0.523157</td>\n",
       "    </tr>\n",
       "    <tr>\n",
       "      <td>8</td>\n",
       "      <td>Australia</td>\n",
       "      <td>1/22/20</td>\n",
       "      <td>0</td>\n",
       "      <td>0</td>\n",
       "      <td>0</td>\n",
       "      <td>-35.4735</td>\n",
       "      <td>149.0124</td>\n",
       "      <td>a2</td>\n",
       "      <td>bccr_bcm2_0</td>\n",
       "      <td>tas</td>\n",
       "      <td>...</td>\n",
       "      <td>24.927437</td>\n",
       "      <td>22.580899</td>\n",
       "      <td>19.104645</td>\n",
       "      <td>15.799183</td>\n",
       "      <td>14.958577</td>\n",
       "      <td>16.420872</td>\n",
       "      <td>19.132238</td>\n",
       "      <td>22.295608</td>\n",
       "      <td>24.703913</td>\n",
       "      <td>25.746593</td>\n",
       "    </tr>\n",
       "    <tr>\n",
       "      <td>9</td>\n",
       "      <td>Austria</td>\n",
       "      <td>1/22/20</td>\n",
       "      <td>0</td>\n",
       "      <td>0</td>\n",
       "      <td>0</td>\n",
       "      <td>47.5162</td>\n",
       "      <td>14.5501</td>\n",
       "      <td>a2</td>\n",
       "      <td>bccr_bcm2_0</td>\n",
       "      <td>tas</td>\n",
       "      <td>...</td>\n",
       "      <td>0.371721</td>\n",
       "      <td>4.959678</td>\n",
       "      <td>11.697690</td>\n",
       "      <td>16.470623</td>\n",
       "      <td>19.194705</td>\n",
       "      <td>17.631617</td>\n",
       "      <td>12.415749</td>\n",
       "      <td>7.740764</td>\n",
       "      <td>2.770494</td>\n",
       "      <td>0.686462</td>\n",
       "    </tr>\n",
       "    <tr>\n",
       "      <td>10</td>\n",
       "      <td>Azerbaijan</td>\n",
       "      <td>1/22/20</td>\n",
       "      <td>0</td>\n",
       "      <td>0</td>\n",
       "      <td>0</td>\n",
       "      <td>40.1431</td>\n",
       "      <td>47.5769</td>\n",
       "      <td>a2</td>\n",
       "      <td>bccr_bcm2_0</td>\n",
       "      <td>tas</td>\n",
       "      <td>...</td>\n",
       "      <td>3.153212</td>\n",
       "      <td>7.223469</td>\n",
       "      <td>13.164828</td>\n",
       "      <td>19.288810</td>\n",
       "      <td>22.636369</td>\n",
       "      <td>21.989338</td>\n",
       "      <td>18.159884</td>\n",
       "      <td>12.967588</td>\n",
       "      <td>7.404391</td>\n",
       "      <td>3.160270</td>\n",
       "    </tr>\n",
       "    <tr>\n",
       "      <td>11</td>\n",
       "      <td>Bahamas</td>\n",
       "      <td>1/22/20</td>\n",
       "      <td>0</td>\n",
       "      <td>0</td>\n",
       "      <td>0</td>\n",
       "      <td>25.0343</td>\n",
       "      <td>-77.3963</td>\n",
       "      <td>a2</td>\n",
       "      <td>bccr_bcm2_0</td>\n",
       "      <td>tas</td>\n",
       "      <td>...</td>\n",
       "      <td>22.525173</td>\n",
       "      <td>23.546822</td>\n",
       "      <td>24.710945</td>\n",
       "      <td>25.836502</td>\n",
       "      <td>26.601391</td>\n",
       "      <td>27.317554</td>\n",
       "      <td>27.361893</td>\n",
       "      <td>26.556862</td>\n",
       "      <td>24.960403</td>\n",
       "      <td>23.755165</td>\n",
       "    </tr>\n",
       "    <tr>\n",
       "      <td>12</td>\n",
       "      <td>Bahrain</td>\n",
       "      <td>1/22/20</td>\n",
       "      <td>0</td>\n",
       "      <td>0</td>\n",
       "      <td>0</td>\n",
       "      <td>26.0275</td>\n",
       "      <td>50.5500</td>\n",
       "      <td>a2</td>\n",
       "      <td>bccr_bcm2_0</td>\n",
       "      <td>tas</td>\n",
       "      <td>...</td>\n",
       "      <td>20.255066</td>\n",
       "      <td>23.846466</td>\n",
       "      <td>27.092346</td>\n",
       "      <td>30.196838</td>\n",
       "      <td>32.774994</td>\n",
       "      <td>33.939209</td>\n",
       "      <td>32.976471</td>\n",
       "      <td>29.361176</td>\n",
       "      <td>24.650391</td>\n",
       "      <td>19.517914</td>\n",
       "    </tr>\n",
       "    <tr>\n",
       "      <td>13</td>\n",
       "      <td>Bangladesh</td>\n",
       "      <td>1/22/20</td>\n",
       "      <td>0</td>\n",
       "      <td>0</td>\n",
       "      <td>0</td>\n",
       "      <td>23.6850</td>\n",
       "      <td>90.3563</td>\n",
       "      <td>a2</td>\n",
       "      <td>bccr_bcm2_0</td>\n",
       "      <td>tas</td>\n",
       "      <td>...</td>\n",
       "      <td>20.983807</td>\n",
       "      <td>24.059323</td>\n",
       "      <td>25.616666</td>\n",
       "      <td>25.791498</td>\n",
       "      <td>25.443246</td>\n",
       "      <td>25.090082</td>\n",
       "      <td>25.500079</td>\n",
       "      <td>23.336987</td>\n",
       "      <td>19.731250</td>\n",
       "      <td>16.896646</td>\n",
       "    </tr>\n",
       "    <tr>\n",
       "      <td>14</td>\n",
       "      <td>Barbados</td>\n",
       "      <td>1/22/20</td>\n",
       "      <td>0</td>\n",
       "      <td>0</td>\n",
       "      <td>0</td>\n",
       "      <td>13.1939</td>\n",
       "      <td>-59.5432</td>\n",
       "      <td>a2</td>\n",
       "      <td>bccr_bcm2_0</td>\n",
       "      <td>tas</td>\n",
       "      <td>...</td>\n",
       "      <td>23.509888</td>\n",
       "      <td>23.800385</td>\n",
       "      <td>24.352386</td>\n",
       "      <td>25.004486</td>\n",
       "      <td>25.986786</td>\n",
       "      <td>26.889618</td>\n",
       "      <td>27.132477</td>\n",
       "      <td>26.750580</td>\n",
       "      <td>26.245941</td>\n",
       "      <td>25.181305</td>\n",
       "    </tr>\n",
       "    <tr>\n",
       "      <td>15</td>\n",
       "      <td>Belarus</td>\n",
       "      <td>1/22/20</td>\n",
       "      <td>0</td>\n",
       "      <td>0</td>\n",
       "      <td>0</td>\n",
       "      <td>53.7098</td>\n",
       "      <td>27.9534</td>\n",
       "      <td>a2</td>\n",
       "      <td>bccr_bcm2_0</td>\n",
       "      <td>tas</td>\n",
       "      <td>...</td>\n",
       "      <td>-6.920504</td>\n",
       "      <td>-0.193808</td>\n",
       "      <td>10.970836</td>\n",
       "      <td>18.999143</td>\n",
       "      <td>24.415830</td>\n",
       "      <td>22.472669</td>\n",
       "      <td>14.107202</td>\n",
       "      <td>6.649902</td>\n",
       "      <td>-0.747365</td>\n",
       "      <td>-7.017582</td>\n",
       "    </tr>\n",
       "    <tr>\n",
       "      <td>16</td>\n",
       "      <td>Belgium</td>\n",
       "      <td>1/22/20</td>\n",
       "      <td>0</td>\n",
       "      <td>0</td>\n",
       "      <td>0</td>\n",
       "      <td>50.8333</td>\n",
       "      <td>4.0000</td>\n",
       "      <td>a2</td>\n",
       "      <td>bccr_bcm2_0</td>\n",
       "      <td>tas</td>\n",
       "      <td>...</td>\n",
       "      <td>3.990977</td>\n",
       "      <td>7.697459</td>\n",
       "      <td>12.484660</td>\n",
       "      <td>17.375753</td>\n",
       "      <td>19.739151</td>\n",
       "      <td>18.421544</td>\n",
       "      <td>14.034281</td>\n",
       "      <td>8.980570</td>\n",
       "      <td>4.944880</td>\n",
       "      <td>3.178040</td>\n",
       "    </tr>\n",
       "    <tr>\n",
       "      <td>17</td>\n",
       "      <td>Belize</td>\n",
       "      <td>1/22/20</td>\n",
       "      <td>0</td>\n",
       "      <td>0</td>\n",
       "      <td>0</td>\n",
       "      <td>13.1939</td>\n",
       "      <td>-59.5432</td>\n",
       "      <td>a2</td>\n",
       "      <td>bccr_bcm2_0</td>\n",
       "      <td>tas</td>\n",
       "      <td>...</td>\n",
       "      <td>22.176819</td>\n",
       "      <td>24.401115</td>\n",
       "      <td>24.458771</td>\n",
       "      <td>23.408196</td>\n",
       "      <td>23.512756</td>\n",
       "      <td>23.953400</td>\n",
       "      <td>24.002861</td>\n",
       "      <td>23.140198</td>\n",
       "      <td>21.534828</td>\n",
       "      <td>20.119171</td>\n",
       "    </tr>\n",
       "    <tr>\n",
       "      <td>18</td>\n",
       "      <td>Benin</td>\n",
       "      <td>1/22/20</td>\n",
       "      <td>0</td>\n",
       "      <td>0</td>\n",
       "      <td>0</td>\n",
       "      <td>9.3077</td>\n",
       "      <td>2.3158</td>\n",
       "      <td>a2</td>\n",
       "      <td>bccr_bcm2_0</td>\n",
       "      <td>tas</td>\n",
       "      <td>...</td>\n",
       "      <td>28.623474</td>\n",
       "      <td>29.754780</td>\n",
       "      <td>28.416134</td>\n",
       "      <td>26.926723</td>\n",
       "      <td>24.821289</td>\n",
       "      <td>23.663074</td>\n",
       "      <td>24.765930</td>\n",
       "      <td>25.737133</td>\n",
       "      <td>24.824177</td>\n",
       "      <td>21.631939</td>\n",
       "    </tr>\n",
       "    <tr>\n",
       "      <td>19</td>\n",
       "      <td>Bhutan</td>\n",
       "      <td>1/22/20</td>\n",
       "      <td>0</td>\n",
       "      <td>0</td>\n",
       "      <td>0</td>\n",
       "      <td>27.5142</td>\n",
       "      <td>90.4336</td>\n",
       "      <td>a2</td>\n",
       "      <td>bccr_bcm2_0</td>\n",
       "      <td>tas</td>\n",
       "      <td>...</td>\n",
       "      <td>7.551224</td>\n",
       "      <td>11.781596</td>\n",
       "      <td>14.934250</td>\n",
       "      <td>16.160584</td>\n",
       "      <td>16.046026</td>\n",
       "      <td>15.717860</td>\n",
       "      <td>16.031128</td>\n",
       "      <td>12.261958</td>\n",
       "      <td>5.798625</td>\n",
       "      <td>2.169439</td>\n",
       "    </tr>\n",
       "  </tbody>\n",
       "</table>\n",
       "<p>20 rows × 24 columns</p>\n",
       "</div>"
      ],
      "text/plain": [
       "         Country/Region     Date  Confirmed  Recovered  Deaths      Lat  \\\n",
       "0           Afghanistan  1/22/20          0          0       0  33.0000   \n",
       "1               Albania  1/22/20          0          0       0  41.1533   \n",
       "2               Algeria  1/22/20          0          0       0  28.0339   \n",
       "3               Andorra  1/22/20          0          0       0  42.5063   \n",
       "4                Angola  1/22/20          0          0       0 -11.2027   \n",
       "5   Antigua and Barbuda  1/22/20          0          0       0  17.0608   \n",
       "6             Argentina  1/22/20          0          0       0 -38.4161   \n",
       "7               Armenia  1/22/20          0          0       0  40.0691   \n",
       "8             Australia  1/22/20          0          0       0 -35.4735   \n",
       "9               Austria  1/22/20          0          0       0  47.5162   \n",
       "10           Azerbaijan  1/22/20          0          0       0  40.1431   \n",
       "11              Bahamas  1/22/20          0          0       0  25.0343   \n",
       "12              Bahrain  1/22/20          0          0       0  26.0275   \n",
       "13           Bangladesh  1/22/20          0          0       0  23.6850   \n",
       "14             Barbados  1/22/20          0          0       0  13.1939   \n",
       "15              Belarus  1/22/20          0          0       0  53.7098   \n",
       "16              Belgium  1/22/20          0          0       0  50.8333   \n",
       "17               Belize  1/22/20          0          0       0  13.1939   \n",
       "18                Benin  1/22/20          0          0       0   9.3077   \n",
       "19               Bhutan  1/22/20          0          0       0  27.5142   \n",
       "\n",
       "        Long scenario          gcm variable  ...        Mar        Apr  \\\n",
       "0    65.0000       a2  bccr_bcm2_0      tas  ...   4.159680  10.806025   \n",
       "1    20.1683       a2  bccr_bcm2_0      tas  ...   5.609039  10.048635   \n",
       "2     1.6596       a2  bccr_bcm2_0      tas  ...  15.925639  20.598157   \n",
       "3     1.5218       a2  bccr_bcm2_0      tas  ...   8.829193  11.092346   \n",
       "4    17.8739       a2  bccr_bcm2_0      tas  ...  21.836814  21.897290   \n",
       "5   -61.7964       a2  bccr_bcm2_0      tas  ...  23.337967  23.764664   \n",
       "6   -63.6167       a2  bccr_bcm2_0      tas  ...  18.034764  14.207169   \n",
       "7    45.0382       a2  bccr_bcm2_0      tas  ...  -0.622736   3.916010   \n",
       "8   149.0124       a2  bccr_bcm2_0      tas  ...  24.927437  22.580899   \n",
       "9    14.5501       a2  bccr_bcm2_0      tas  ...   0.371721   4.959678   \n",
       "10   47.5769       a2  bccr_bcm2_0      tas  ...   3.153212   7.223469   \n",
       "11  -77.3963       a2  bccr_bcm2_0      tas  ...  22.525173  23.546822   \n",
       "12   50.5500       a2  bccr_bcm2_0      tas  ...  20.255066  23.846466   \n",
       "13   90.3563       a2  bccr_bcm2_0      tas  ...  20.983807  24.059323   \n",
       "14  -59.5432       a2  bccr_bcm2_0      tas  ...  23.509888  23.800385   \n",
       "15   27.9534       a2  bccr_bcm2_0      tas  ...  -6.920504  -0.193808   \n",
       "16    4.0000       a2  bccr_bcm2_0      tas  ...   3.990977   7.697459   \n",
       "17  -59.5432       a2  bccr_bcm2_0      tas  ...  22.176819  24.401115   \n",
       "18    2.3158       a2  bccr_bcm2_0      tas  ...  28.623474  29.754780   \n",
       "19   90.4336       a2  bccr_bcm2_0      tas  ...   7.551224  11.781596   \n",
       "\n",
       "          May       June       July        Aug        Sep        Oct  \\\n",
       "0   16.378755  21.386592  23.972859  22.538873  17.729663  11.322484   \n",
       "1   15.606720  21.493744  24.566467  24.313466  18.514252  13.195099   \n",
       "2   24.878645  29.178544  31.519017  30.609523  27.256208  21.836153   \n",
       "3   14.196716  18.138763  21.115906  20.722748  18.157959  13.944061   \n",
       "4   20.580410  19.324929  19.094606  20.922540  23.536807  23.783626   \n",
       "5   24.523590  25.198349  26.145645  26.947021  27.176880  26.731369   \n",
       "6    9.900703   6.985090   6.561861   7.949311  10.384039  13.120860   \n",
       "7   10.735815  17.438586  20.433374  19.481543  14.898810   9.178943   \n",
       "8   19.104645  15.799183  14.958577  16.420872  19.132238  22.295608   \n",
       "9   11.697690  16.470623  19.194705  17.631617  12.415749   7.740764   \n",
       "10  13.164828  19.288810  22.636369  21.989338  18.159884  12.967588   \n",
       "11  24.710945  25.836502  26.601391  27.317554  27.361893  26.556862   \n",
       "12  27.092346  30.196838  32.774994  33.939209  32.976471  29.361176   \n",
       "13  25.616666  25.791498  25.443246  25.090082  25.500079  23.336987   \n",
       "14  24.352386  25.004486  25.986786  26.889618  27.132477  26.750580   \n",
       "15  10.970836  18.999143  24.415830  22.472669  14.107202   6.649902   \n",
       "16  12.484660  17.375753  19.739151  18.421544  14.034281   8.980570   \n",
       "17  24.458771  23.408196  23.512756  23.953400  24.002861  23.140198   \n",
       "18  28.416134  26.926723  24.821289  23.663074  24.765930  25.737133   \n",
       "19  14.934250  16.160584  16.046026  15.717860  16.031128  12.261958   \n",
       "\n",
       "          Nov        Dec  \n",
       "0    4.798174  -0.630866  \n",
       "1    8.677063   5.584178  \n",
       "2   15.321733  10.397603  \n",
       "3    9.861420   8.562256  \n",
       "4   22.236418  21.290587  \n",
       "5   26.084290  25.025253  \n",
       "6   16.588035  19.280082  \n",
       "7    3.592609  -0.523157  \n",
       "8   24.703913  25.746593  \n",
       "9    2.770494   0.686462  \n",
       "10   7.404391   3.160270  \n",
       "11  24.960403  23.755165  \n",
       "12  24.650391  19.517914  \n",
       "13  19.731250  16.896646  \n",
       "14  26.245941  25.181305  \n",
       "15  -0.747365  -7.017582  \n",
       "16   4.944880   3.178040  \n",
       "17  21.534828  20.119171  \n",
       "18  24.824177  21.631939  \n",
       "19   5.798625   2.169439  \n",
       "\n",
       "[20 rows x 24 columns]"
      ]
     },
     "execution_count": 48,
     "metadata": {},
     "output_type": "execute_result"
    }
   ],
   "source": [
    "full_df = full_df3.merge(full_weather_df, how='left', on=['Country/Region'])\n",
    "\n",
    "full_df.head(20)"
   ]
  },
  {
   "cell_type": "code",
   "execution_count": 56,
   "metadata": {},
   "outputs": [
    {
     "data": {
      "text/plain": [
       "array(['Congo (Kinshasa)', 'Diamond Princess', 'Holy See', 'Korea, South',\n",
       "       'Kosovo', 'Laos', 'MS Zaandam', 'Moldova', 'Syria', 'Taiwan*',\n",
       "       'West Bank and Gaza'], dtype=object)"
      ]
     },
     "execution_count": 56,
     "metadata": {},
     "output_type": "execute_result"
    }
   ],
   "source": [
    "full_df[full_df.isna().any(axis=1)]['Country/Region'].unique()\n"
   ]
  },
  {
   "cell_type": "code",
   "execution_count": 33,
   "metadata": {},
   "outputs": [
    {
     "data": {
      "text/plain": [
       "(12282, 24)"
      ]
     },
     "execution_count": 33,
     "metadata": {},
     "output_type": "execute_result"
    }
   ],
   "source": [
    "full_df.shape"
   ]
  },
  {
   "cell_type": "code",
   "execution_count": null,
   "metadata": {},
   "outputs": [],
   "source": []
  }
 ],
 "metadata": {
  "kernelspec": {
   "display_name": "Python 3",
   "language": "python",
   "name": "python3"
  },
  "language_info": {
   "codemirror_mode": {
    "name": "ipython",
    "version": 3
   },
   "file_extension": ".py",
   "mimetype": "text/x-python",
   "name": "python",
   "nbconvert_exporter": "python",
   "pygments_lexer": "ipython3",
   "version": "3.7.4"
  }
 },
 "nbformat": 4,
 "nbformat_minor": 2
}
